{
 "cells": [
  {
   "cell_type": "markdown",
   "metadata": {
    "id": "D0ULdYmixhH9"
   },
   "source": [
    "# [EXPLORATION-02]\n",
    "# Digits Dataset Classification\n",
    "\n",
    "손글씨 이미지를 0~9까지 열 가지 카테고리로 분류하는 모델을 만들고 평가한다."
   ]
  },
  {
   "cell_type": "code",
   "execution_count": null,
   "metadata": {
    "id": "0ApkDMmK1QXa"
   },
   "outputs": [],
   "source": [
    "import numpy as np\n",
    "import pandas as pd\n",
    "import matplotlib.pyplot as plt\n",
    "import seaborn as sns\n",
    "\n",
    "from sklearn.model_selection import train_test_split\n",
    "from sklearn.metrics import accuracy_score\n",
    "from sklearn.metrics import classification_report\n",
    "from sklearn.metrics import confusion_matrix\n",
    "from sklearn.pipeline import make_pipeline\n",
    "from sklearn.preprocessing import StandardScaler\n",
    "\n",
    "from sklearn.tree import DecisionTreeClassifier\n",
    "from sklearn.ensemble import RandomForestClassifier\n",
    "from sklearn import svm\n",
    "from sklearn.linear_model import SGDClassifier\n",
    "from sklearn.linear_model import LogisticRegression\n",
    "%matplotlib inline"
   ]
  },
  {
   "cell_type": "markdown",
   "metadata": {
    "id": "JQbdHSRsxhBF"
   },
   "source": [
    "# 1. 데이터 준비\n",
    "* load_digits() 함수로 digits데이터를 불러온다.\n",
    "* digits data는 1797행 64열 형식으로 구성\n",
    "* target name은 0부터 9까지로 구성됨"
   ]
  },
  {
   "cell_type": "code",
   "execution_count": null,
   "metadata": {
    "id": "K5SihJkS1rgm"
   },
   "outputs": [],
   "source": [
    "# digits dataset 불러오기\n",
    "from sklearn.datasets import load_digits\n",
    "\n",
    "digits = load_digits()"
   ]
  },
  {
   "cell_type": "code",
   "execution_count": null,
   "metadata": {
    "colab": {
     "base_uri": "https://localhost:8080/"
    },
    "id": "yResM3DX-Olr",
    "outputId": "66b6cbd9-d68f-45d1-a64e-e746b1f2fcfa"
   },
   "outputs": [
    {
     "name": "stdout",
     "output_type": "stream",
     "text": [
      "(1797, 64)\n",
      "(1797,)\n"
     ]
    }
   ],
   "source": [
    "print(digits.data.shape) # 데이터 개수 확인\n",
    "print(digits.target.shape) # target 데이터 개수 확인"
   ]
  },
  {
   "cell_type": "code",
   "execution_count": null,
   "metadata": {
    "colab": {
     "base_uri": "https://localhost:8080/"
    },
    "id": "558cjCcI5qrW",
    "outputId": "01d49088-87d5-4a70-ea79-b768b5b9ba2a"
   },
   "outputs": [
    {
     "data": {
      "text/plain": [
       "array([0, 1, 2, 3, 4, 5, 6, 7, 8, 9])"
      ]
     },
     "execution_count": 4,
     "metadata": {},
     "output_type": "execute_result"
    }
   ],
   "source": [
    "digits.target_names # 데이터 target name 확인"
   ]
  },
  {
   "cell_type": "code",
   "execution_count": null,
   "metadata": {
    "colab": {
     "base_uri": "https://localhost:8080/"
    },
    "id": "nLLN1yVoiMkj",
    "outputId": "aa0e2a0c-fdf6-45ac-9cb8-01128e86b7ae"
   },
   "outputs": [
    {
     "data": {
      "text/plain": [
       "['pixel_0_0',\n",
       " 'pixel_0_1',\n",
       " 'pixel_0_2',\n",
       " 'pixel_0_3',\n",
       " 'pixel_0_4',\n",
       " 'pixel_0_5',\n",
       " 'pixel_0_6',\n",
       " 'pixel_0_7',\n",
       " 'pixel_1_0',\n",
       " 'pixel_1_1',\n",
       " 'pixel_1_2',\n",
       " 'pixel_1_3',\n",
       " 'pixel_1_4',\n",
       " 'pixel_1_5',\n",
       " 'pixel_1_6',\n",
       " 'pixel_1_7',\n",
       " 'pixel_2_0',\n",
       " 'pixel_2_1',\n",
       " 'pixel_2_2',\n",
       " 'pixel_2_3',\n",
       " 'pixel_2_4',\n",
       " 'pixel_2_5',\n",
       " 'pixel_2_6',\n",
       " 'pixel_2_7',\n",
       " 'pixel_3_0',\n",
       " 'pixel_3_1',\n",
       " 'pixel_3_2',\n",
       " 'pixel_3_3',\n",
       " 'pixel_3_4',\n",
       " 'pixel_3_5',\n",
       " 'pixel_3_6',\n",
       " 'pixel_3_7',\n",
       " 'pixel_4_0',\n",
       " 'pixel_4_1',\n",
       " 'pixel_4_2',\n",
       " 'pixel_4_3',\n",
       " 'pixel_4_4',\n",
       " 'pixel_4_5',\n",
       " 'pixel_4_6',\n",
       " 'pixel_4_7',\n",
       " 'pixel_5_0',\n",
       " 'pixel_5_1',\n",
       " 'pixel_5_2',\n",
       " 'pixel_5_3',\n",
       " 'pixel_5_4',\n",
       " 'pixel_5_5',\n",
       " 'pixel_5_6',\n",
       " 'pixel_5_7',\n",
       " 'pixel_6_0',\n",
       " 'pixel_6_1',\n",
       " 'pixel_6_2',\n",
       " 'pixel_6_3',\n",
       " 'pixel_6_4',\n",
       " 'pixel_6_5',\n",
       " 'pixel_6_6',\n",
       " 'pixel_6_7',\n",
       " 'pixel_7_0',\n",
       " 'pixel_7_1',\n",
       " 'pixel_7_2',\n",
       " 'pixel_7_3',\n",
       " 'pixel_7_4',\n",
       " 'pixel_7_5',\n",
       " 'pixel_7_6',\n",
       " 'pixel_7_7']"
      ]
     },
     "execution_count": 5,
     "metadata": {},
     "output_type": "execute_result"
    }
   ],
   "source": [
    "digits.feature_names # 데이터 feature name 확인"
   ]
  },
  {
   "cell_type": "markdown",
   "metadata": {
    "id": "e-OE0dcVsrb_"
   },
   "source": [
    "# 각 클래스별 데이터 개수 및 편향(bias)확인\n",
    "* 데이터가 편향(bias)되었는지 확인\n",
    "* 데이터의 클래스별 개수를 셈하기 위해 defaultdict를 사용하여 계산\n",
    "* 현재 0부터 9까지 클래스별 데이터는 편향되지 않음으로 판단.\n",
    "* 이후 train_test_split()으로 데이터 추출시 자동으로 랜덤하게 할당"
   ]
  },
  {
   "cell_type": "code",
   "execution_count": null,
   "metadata": {
    "colab": {
     "base_uri": "https://localhost:8080/"
    },
    "id": "96Id0e5cr9sS",
    "outputId": "0facf11f-ba57-4702-d1b1-381b6419d4e1"
   },
   "outputs": [
    {
     "data": {
      "text/plain": [
       "defaultdict(int,\n",
       "            {0: 178,\n",
       "             1: 182,\n",
       "             2: 177,\n",
       "             3: 183,\n",
       "             4: 181,\n",
       "             5: 182,\n",
       "             6: 181,\n",
       "             7: 179,\n",
       "             8: 174,\n",
       "             9: 180})"
      ]
     },
     "execution_count": 6,
     "metadata": {},
     "output_type": "execute_result"
    }
   ],
   "source": [
    "from collections import defaultdict\n",
    "\n",
    "digits_dict = defaultdict(int)\n",
    "for i in digits.target:\n",
    "    digits_dict[i] += 1 # 키에 대한 값이 없으면 값을 0으로 초기화\n",
    "\n",
    "digits_dict"
   ]
  },
  {
   "cell_type": "markdown",
   "metadata": {
    "id": "S4RHTpTa6vi5"
   },
   "source": [
    "# 2. train, test 데이터셋 분리"
   ]
  },
  {
   "cell_type": "code",
   "execution_count": null,
   "metadata": {
    "colab": {
     "base_uri": "https://localhost:8080/"
    },
    "id": "0-d-zt28Aqbr",
    "outputId": "43d6b69b-7520-404b-d9e3-27f0d448972d"
   },
   "outputs": [
    {
     "name": "stdout",
     "output_type": "stream",
     "text": [
      "train_input shape: (1437, 64)\n",
      "train_target shape: (1437,)\n",
      "test_input shape: (360, 64)\n",
      "test_target shape: (360,)\n"
     ]
    }
   ],
   "source": [
    "# train, test 데이터 분리\n",
    "digits_train_input, digits_test_input, digits_train_target, digits_test_target = train_test_split(digits.data, digits.target, test_size=0.2, random_state=7)\n",
    "\n",
    "print(f\"train_input shape: {digits_train_input.shape}\")\n",
    "print(f\"train_target shape: {digits_train_target.shape}\")\n",
    "print(f\"test_input shape: {digits_test_input.shape}\")\n",
    "print(f\"test_target shape: {digits_test_target.shape}\")"
   ]
  },
  {
   "cell_type": "markdown",
   "metadata": {
    "id": "P0fb6lfrA_Qe"
   },
   "source": [
    "# 3. 모델 학습 및 예측\n",
    "# 분류기 지정 \n",
    "* 의사결정트리와 랜덤포레스트는 데이터의 입력값에 robust 하다\n",
    "* SVM, 로지스틱회귀, 확률적경사하강은 input data의 scale에 robust 하지않다. 표준화를 하고나서 진행\n",
    "* Pipeline 클래스는 연속된 변환을 순차적으로 처리할 수 있는 기능을 제공하는 유용한 래퍼(Wrapper) 도구"
   ]
  },
  {
   "cell_type": "code",
   "execution_count": null,
   "metadata": {
    "id": "HX8osuK_1rn_"
   },
   "outputs": [],
   "source": [
    "digits_dt = DecisionTreeClassifier(random_state=32)                               # DecisionTree\n",
    "digits_rf = RandomForestClassifier(random_state=32)                               # RandomForest\n",
    "digits_svm = make_pipeline(StandardScaler(), svm.SVC(random_state=32))            # SVM\n",
    "digits_sgd = make_pipeline(StandardScaler(), SGDClassifier(random_state=32))      # SGDClassifier\n",
    "digits_lr = make_pipeline(StandardScaler(), LogisticRegression(random_state=32))  # LogisticRegression"
   ]
  },
  {
   "cell_type": "markdown",
   "metadata": {
    "id": "AotekMvg7hkD"
   },
   "source": [
    "# 훈련 및 테스트 함수 생성\n",
    "* Digits dataset에 대해 훈련 및 테스트를 수행\n",
    "* classification report및 confusion matrix 출력"
   ]
  },
  {
   "cell_type": "code",
   "execution_count": null,
   "metadata": {
    "id": "Kq2f66VS4CUb"
   },
   "outputs": [],
   "source": [
    "def train_test_result(classifier):\n",
    "    classifier.fit(digits_train_input, digits_train_target)\n",
    "    digits_pred = classifier.predict(digits_test_input)\n",
    "\n",
    "    print(classification_report(digits_test_target, digits_pred))\n",
    "\n",
    "    ax = sns.heatmap(confusion_matrix(digits_test_target, digits_pred), annot=True, cbar=False, cmap='Blues')\n",
    "    plt.title('Confusion Matrix')\n",
    "    plt.show()"
   ]
  },
  {
   "cell_type": "markdown",
   "metadata": {
    "id": "j6OVkOV9ZgQP"
   },
   "source": [
    "# 3.1 Decision Tree\n",
    "* 전체 정확도는 0.86\n",
    "---\n",
    "* precision의 평균은 0.86이며, 0, 5, 7, 8은 precision이 평균값보다 높으므로 좋은 수치를 보임.\n",
    "* 즉 예측을 0, 5, 7, 8로 한 대상 중에 예측과 실제 값이 0, 5, 7, 8로 일치한 데이터의 비율이 평균보다 높음.\n",
    "---\n",
    "* recall의 평균은 0.86이며, 0, 3, 4, 5, 6은 recall이 평균값보다 높으므로 좋은 수치를 보임.\n",
    "* 즉 실제 값이 0, 3, 4, 5, 6인 대상 중에 예측과 실제 값이 0, 3, 4, 5, 6로 일치한 데이터의 비율이 평균보다 높음.\n",
    "---\n",
    "* f1-score의 평균은 0.86이며, 0, 4, 5, 6, 7은 f1-score가 평균값보다 높으므로 좋은 수치를 보임\n",
    "즉 정밀도와 재현율이 어느 한쪽으로 치우치지 않는 수치를 나타낼 때 0, 4, 5, 6, 7이 상대적으로 높은 값을 보임\n",
    "---\n",
    "### 즉, Decision Tree의 정확도는 0.86이며, f1-score결과로 1, 2, 3, 8, 9의 경우 상대적으로 잘 못 맞춰 클래스별 편차가 발생하므로 **Decision Tree는 해당 dataset에 좋은 성능을 내지 못한다고 판단.**\n"
   ]
  },
  {
   "cell_type": "code",
   "execution_count": null,
   "metadata": {
    "colab": {
     "base_uri": "https://localhost:8080/",
     "height": 590
    },
    "id": "UXM75dE17NyK",
    "outputId": "97c5a744-4b40-4dba-e171-76e18e3fcb4a"
   },
   "outputs": [
    {
     "name": "stdout",
     "output_type": "stream",
     "text": [
      "              precision    recall  f1-score   support\n",
      "\n",
      "           0       1.00      0.98      0.99        43\n",
      "           1       0.81      0.81      0.81        42\n",
      "           2       0.79      0.82      0.80        40\n",
      "           3       0.79      0.91      0.85        34\n",
      "           4       0.83      0.95      0.89        37\n",
      "           5       0.90      0.96      0.93        28\n",
      "           6       0.84      0.93      0.88        28\n",
      "           7       0.96      0.82      0.89        33\n",
      "           8       0.88      0.65      0.75        43\n",
      "           9       0.78      0.78      0.78        32\n",
      "\n",
      "    accuracy                           0.86       360\n",
      "   macro avg       0.86      0.86      0.86       360\n",
      "weighted avg       0.86      0.86      0.85       360\n",
      "\n"
     ]
    },
    {
     "data": {
      "image/png": "[encoded data removed]",
      "text/plain": [
       "<Figure size 432x288 with 1 Axes>"
      ]
     },
     "metadata": {
      "needs_background": "light"
     },
     "output_type": "display_data"
    }
   ],
   "source": [
    "train_test_result(digits_dt)"
   ]
  },
  {
   "cell_type": "markdown",
   "metadata": {
    "id": "rgnAA5Di8w4P"
   },
   "source": [
    "# 3.2 Random Forest\n",
    "* 전체 정확도는 0.96\n",
    "---\n",
    "* precision의 평균은 0.96이며, 0, 2, 3, 6, 8은 precision이 평균값보다 높으므로 좋은 수치를 보임. 그렇다고 해서 나머지 precision이 나쁘다라고 할 수는 없음.\n",
    "* 즉 예측을 0, 2, 3, 6, 8로 한 대상 중에 예측과 실제 값이 0, 2, 3, 6, 8로 일치한 데이터의 비율이 평균보다 높음.\n",
    "---\n",
    "* recall의 평균은 0.96이며,8을 제외한 나머지의 recall이 평균값보다 높으므로 좋은 수치를 보임.\n",
    "* 즉 실제 값이 0, 1, 2, 3, 4, 5, 6, 7, 9인 대상 중에 예측과 실제 값이 0, 1, 2, 3, 4, 5, 6, 7, 9로 일치한 데이터의 비율이 평균보다 높음.\n",
    "---\n",
    "* f1-score의 평균은 0.96이며, 5, 8를 제외한 나머지의 f1-score가 평균값보다 높으므로 좋은 수치를 보임\n",
    "즉 정밀도와 재현율이 어느 한쪽으로 치우치지 않는 수치를 나타낼 때 0, 1, 2, 3, 4, 6, 7, 9가 상대적으로 높은 값을 보임\n",
    "---\n",
    "### 즉, Decision Tree의 정확도는 0.96이며, f1-score결과로 5, 8의 경우 상대적으로 잘 못맞춘다 판단되지만, 5의 경우 support횟수가 다른 클래스에 비에 표본이 적기 때문에 수치가 낮은것으로 보임. **즉, 상대적으로 8을 제외한 나머지는 잘 맞추므로 Random Forest는 해당 dataset에 좋은 성능을 낸다고 판단.**"
   ]
  },
  {
   "cell_type": "code",
   "execution_count": null,
   "metadata": {
    "colab": {
     "base_uri": "https://localhost:8080/",
     "height": 590
    },
    "id": "WbN1J6A78sR_",
    "outputId": "85147c6c-e8bd-4335-ca3d-fce485d2b870"
   },
   "outputs": [
    {
     "name": "stdout",
     "output_type": "stream",
     "text": [
      "              precision    recall  f1-score   support\n",
      "\n",
      "           0       1.00      0.98      0.99        43\n",
      "           1       0.93      1.00      0.97        42\n",
      "           2       1.00      1.00      1.00        40\n",
      "           3       1.00      1.00      1.00        34\n",
      "           4       0.93      1.00      0.96        37\n",
      "           5       0.90      0.96      0.93        28\n",
      "           6       1.00      0.96      0.98        28\n",
      "           7       0.94      0.97      0.96        33\n",
      "           8       1.00      0.84      0.91        43\n",
      "           9       0.94      0.94      0.94        32\n",
      "\n",
      "    accuracy                           0.96       360\n",
      "   macro avg       0.96      0.96      0.96       360\n",
      "weighted avg       0.97      0.96      0.96       360\n",
      "\n"
     ]
    },
    {
     "data": {
      "image/png": "[encoded data removed]",
      "text/plain": [
       "<Figure size 432x288 with 1 Axes>"
      ]
     },
     "metadata": {
      "needs_background": "light"
     },
     "output_type": "display_data"
    }
   ],
   "source": [
    "train_test_result(digits_rf)"
   ]
  },
  {
   "cell_type": "markdown",
   "metadata": {
    "id": "UyM0RRad8wFY"
   },
   "source": [
    "# 3.3 SVM\n",
    "* 전체 정확도는 0.99\n",
    "---\n",
    "* precision의 평균은 0.99이며, 1, 5를 제외한 나머지는 precision이 평균값보다 높으므로 좋은 수치를 보임. 그렇다고 해서 나머지 precision이 나쁘다라고 할 수는 없음.\n",
    "* 즉 예측을0, 2, 3, 4, 6, 7, 8, 9로 한 대상 중에 예측과 실제 값이 0, 2, 3, 4, 6, 7, 8, 9로 일치한 데이터의 비율이 평균보다 높음.\n",
    "---\n",
    "* recall의 평균은 0.99이며, 8, 9를 제외한 나머지의 recall이 평균값보다 높으므로 좋은 수치를 보임. 그렇다고 해서 나머지 recall이 나쁘다라고 할 수는 없음.\n",
    "* 즉 실제 값이 0, 1, 2, 3, 4, 5, 6, 7인 대상 중에 예측과 실제 값이 0, 1, 2, 3, 4, 5, 6, 7로 일치한 데이터의 비율이 평균보다 높음.\n",
    "---\n",
    "* f1-score의 평균은 0.99이며, 5, 9를 제외한 나머지의 f1-score가 평균값보다 높으므로 좋은 수치를 보임. 그렇다고 해서 나머지 f1-score가 나쁘다라고 할 수는 없음.\n",
    "즉 정밀도와 재현율이 어느 한쪽으로 치우치지 않는 수치를 나타낼 때 0, 1, 2, 3, 4, 6, 7, 8이 상대적으로 높은 값을 보임\n",
    "---\n",
    "### 즉, SVM의 정확도는 0.99이며, f1-score결과로 5, 9의 경우 상대적으로 잘 못맞춘다 판단되지만, 5와 9의 경우 support횟수가 다른 클래스에 비에 표본이 적기 때문에 수치가 낮은것으로 보임. **즉, 전체적으로 잘 맞추므로 SVM는 해당 dataset에 좋은 성능을 낸다고 판단.**"
   ]
  },
  {
   "cell_type": "code",
   "execution_count": null,
   "metadata": {
    "colab": {
     "base_uri": "https://localhost:8080/",
     "height": 590
    },
    "id": "TDqJ2uvP8v1-",
    "outputId": "165b88ef-d3bc-4d0e-c677-569ca01ea0c7"
   },
   "outputs": [
    {
     "name": "stdout",
     "output_type": "stream",
     "text": [
      "              precision    recall  f1-score   support\n",
      "\n",
      "           0       1.00      1.00      1.00        43\n",
      "           1       0.98      1.00      0.99        42\n",
      "           2       1.00      1.00      1.00        40\n",
      "           3       1.00      1.00      1.00        34\n",
      "           4       1.00      1.00      1.00        37\n",
      "           5       0.97      1.00      0.98        28\n",
      "           6       1.00      1.00      1.00        28\n",
      "           7       1.00      1.00      1.00        33\n",
      "           8       1.00      0.98      0.99        43\n",
      "           9       1.00      0.97      0.98        32\n",
      "\n",
      "    accuracy                           0.99       360\n",
      "   macro avg       0.99      0.99      0.99       360\n",
      "weighted avg       0.99      0.99      0.99       360\n",
      "\n"
     ]
    },
    {
     "data": {
      "image/png": "[encoded data removed]",
      "text/plain": [
       "<Figure size 432x288 with 1 Axes>"
      ]
     },
     "metadata": {
      "needs_background": "light"
     },
     "output_type": "display_data"
    }
   ],
   "source": [
    "train_test_result(digits_svm)"
   ]
  },
  {
   "cell_type": "markdown",
   "metadata": {
    "id": "Gcn-8apF84NH"
   },
   "source": [
    "# 3.4 SGD Classifier\n",
    "* 전체 정확도는 0.93\n",
    "---\n",
    "* precision의 평균은 0.93이며, 0, 2, 4, 5, 6, 7은 precision이 평균값보다 높으므로 좋은 수치를 보임.\n",
    "* 즉 예측을 0, 2, 4, 5, 6, 7로 한 대상 중에 예측과 실제 값이 0, 2, 4, 5, 6, 7로 일치한 데이터의 비율이 평균보다 높음.\n",
    "---\n",
    "* recall의 평균은 0.93이며 0, 2, 4, 5, 6, 7, 8은 recall이 평균값보다 높으므로 좋은 수치를 보임.\n",
    "* 즉 실제 값이 0, 2, 4, 5, 6, 7, 8인 대상 중에 예측과 실제 값이 0, 2, 4, 5, 6, 7, 8로 일치한 데이터의 비율이 평균보다 높음.\n",
    "---\n",
    "* f1-score의 평균은 0.93이며, 0, 2, 4, 5, 6, 7은 f1-score가 평균값보다 높으므로 좋은 수치를 보임\n",
    "즉 정밀도와 재현율이 어느 한쪽으로 치우치지 않는 수치를 나타낼 때 0, 2, 4, 5, 6, 7가 상대적으로 높은 값을 보임\n",
    "---\n",
    "### 즉, SGD의 정확도는 0.93이며, f1-score결과로 1, 3, 8, 9의 경우 상대적으로 잘 못 맞춰 클래스별 편차가 발생하므로 **SGD는 해당 dataset에 좋은 성능을 내지 못한다고 판단.**"
   ]
  },
  {
   "cell_type": "code",
   "execution_count": null,
   "metadata": {
    "colab": {
     "base_uri": "https://localhost:8080/",
     "height": 590
    },
    "id": "CiiFQyB784u_",
    "outputId": "c5e2760b-2610-4024-a654-ee015f05ac7d"
   },
   "outputs": [
    {
     "name": "stdout",
     "output_type": "stream",
     "text": [
      "              precision    recall  f1-score   support\n",
      "\n",
      "           0       1.00      0.98      0.99        43\n",
      "           1       0.92      0.86      0.89        42\n",
      "           2       0.97      0.97      0.97        40\n",
      "           3       0.89      0.91      0.90        34\n",
      "           4       1.00      0.95      0.97        37\n",
      "           5       0.93      0.93      0.93        28\n",
      "           6       0.96      0.96      0.96        28\n",
      "           7       0.94      0.97      0.96        33\n",
      "           8       0.84      0.95      0.89        43\n",
      "           9       0.87      0.81      0.84        32\n",
      "\n",
      "    accuracy                           0.93       360\n",
      "   macro avg       0.93      0.93      0.93       360\n",
      "weighted avg       0.93      0.93      0.93       360\n",
      "\n"
     ]
    },
    {
     "data": {
      "image/png": "[encoded data removed]",
      "text/plain": [
       "<Figure size 432x288 with 1 Axes>"
      ]
     },
     "metadata": {
      "needs_background": "light"
     },
     "output_type": "display_data"
    }
   ],
   "source": [
    "train_test_result(digits_sgd)"
   ]
  },
  {
   "cell_type": "markdown",
   "metadata": {
    "id": "jNzcqIvP8-PI"
   },
   "source": [
    "# 3.5 Logistic Regression\n",
    "* 전체 정확도는 0.96\n",
    "---\n",
    "* precision의 평균은 0.96이며, 0, 2, 3, 4, 6, 7은 precision이 평균값보다 높으므로 좋은 수치를 보임.\n",
    "* 즉 예측을 0, 2, 3, 4, 6, 7로 한 대상 중에 예측과 실제 값이 0, 2, 3, 4, 6, 7로 일치한 데이터의 비율이 평균보다 높음.\n",
    "---\n",
    "* recall의 평균은 0.96이며, 0, 2, 3, 4, 5, 7은 recall이 평균값보다 높으므로 좋은 수치를 보임.\n",
    "* 즉 실제 값이 0, 2, 3, 4, 5, 7인 대상 중에 예측과 실제 값이 0, 2, 3, 4, 5, 7로 일치한 데이터의 비율이 평균보다 높음.\n",
    "---\n",
    "* f1-score의 평균은 0.96이며, 0, 2, 3, 4, 6, 7의 f1-score가 평균값보다 높으므로 좋은 수치를 보임\n",
    "즉 정밀도와 재현율이 어느 한쪽으로 치우치지 않는 수치를 나타낼 때 0, 2, 3, 4, 6, 7가 상대적으로 높은 값을 보임\n",
    "---\n",
    "### 즉, Logistic Regression의 정확도는 0.96이며, f1-score결과로 1, 5, 8, 9의 경우 상대적으로 잘 못 맞추지만 그렇다고 성능이 좋지 않다라고 판단할 수 없음.**즉, 전체적으로 잘 맞추므로 Logistic Regression는 해당 dataset에 좋은 성능을 낸다고 판단.**"
   ]
  },
  {
   "cell_type": "code",
   "execution_count": null,
   "metadata": {
    "colab": {
     "base_uri": "https://localhost:8080/",
     "height": 590
    },
    "id": "QnUwZs3V85NF",
    "outputId": "8f5430a0-e46f-4a8c-83ec-584cc2c46d90"
   },
   "outputs": [
    {
     "name": "stdout",
     "output_type": "stream",
     "text": [
      "              precision    recall  f1-score   support\n",
      "\n",
      "           0       1.00      1.00      1.00        43\n",
      "           1       0.93      0.93      0.93        42\n",
      "           2       0.98      1.00      0.99        40\n",
      "           3       0.97      1.00      0.99        34\n",
      "           4       1.00      0.97      0.99        37\n",
      "           5       0.88      1.00      0.93        28\n",
      "           6       1.00      0.93      0.96        28\n",
      "           7       1.00      1.00      1.00        33\n",
      "           8       0.95      0.88      0.92        43\n",
      "           9       0.91      0.91      0.91        32\n",
      "\n",
      "    accuracy                           0.96       360\n",
      "   macro avg       0.96      0.96      0.96       360\n",
      "weighted avg       0.96      0.96      0.96       360\n",
      "\n"
     ]
    },
    {
     "data": {
      "image/png": "[encoded data removed]",
      "text/plain": [
       "<Figure size 432x288 with 1 Axes>"
      ]
     },
     "metadata": {
      "needs_background": "light"
     },
     "output_type": "display_data"
    }
   ],
   "source": [
    "train_test_result(digits_lr)"
   ]
  },
  {
   "cell_type": "markdown",
   "metadata": {
    "id": "gf6yrwyRZWHk"
   },
   "source": [
    "# 4. 성능평가 및 결론\n",
    "\n",
    "# 성능평가\n",
    "#### 가장 높은 score를 얻은 모델은 다음과 같다.\n",
    "* accuracy  : (SVM, 0.99)\n",
    "* precision : (SVM, 0.99)\n",
    "* recall   &nbsp;&nbsp;&nbsp;&nbsp;&nbsp;&nbsp; : (SVM, 0.99)\n",
    "* f1-score &nbsp; : (SVM, 0.99)\n",
    "\n",
    "# 결론\n",
    "#### 손글씨는 손으로 쓴 숫자가 무엇인지 맞추는 것이 가장 중요하고, 데이터의 불균형이 존재하지 않았으므로 **평가 지표로 accuracy**로 선정하며, 해당 모델들 중 가장 높은 score를 달성한 **SVM**을 선정한다.\n",
    "\n",
    "# 의문점\n",
    "* validation data를 나누지 않은 채 train과 test만 나누어서 실행했다.\n",
    "* 나누지 않고도 학습이 잘 되었지만 데이터양이 적고, 데이터 오류가 없고 데이터의 편향이 없기 때문이라고 생각한다.\n",
    "* 또한 각각의 분류기들은 수많은 하이퍼 파라미터(hyper parameter)를 가지지만 어떠한 지정도 하지 않은 채 진행했다. 하지만 이번 exploration의 목적은 Evaluation Metric에 초점에 맞춘다.\n",
    "---"
   ]
  },
  {
   "cell_type": "code",
   "execution_count": null,
   "metadata": {
    "id": "ANx1APc3eRym"
   },
   "outputs": [],
   "source": []
  },
  {
   "cell_type": "code",
   "execution_count": null,
   "metadata": {
    "id": "aG7gdrMQeRsM"
   },
   "outputs": [],
   "source": []
  },
  {
   "cell_type": "code",
   "execution_count": null,
   "metadata": {
    "id": "glQDFgRTeRYO"
   },
   "outputs": [],
   "source": []
  },
  {
   "cell_type": "markdown",
   "metadata": {
    "id": "X8G3WOR6a24h"
   },
   "source": [
    "# Wine Dataset Classification\n",
    "와인의 특징을 이용하여 와인의 종류를 분류하는 모델을 만들고 평가한다."
   ]
  },
  {
   "cell_type": "markdown",
   "metadata": {
    "id": "jruka4CZuHBo"
   },
   "source": [
    "# 1. 데이터 준비\n",
    "* load_wine() 함수로 wine데이터를 불러온다.\n",
    "* wine data는 178행 13열 형식으로 구성\n",
    "* target name은 0부터 2까지로 구성됨"
   ]
  },
  {
   "cell_type": "code",
   "execution_count": null,
   "metadata": {
    "id": "_6GWfXjV1rvI"
   },
   "outputs": [],
   "source": [
    "# wine dataset 불러오기\n",
    "from sklearn.datasets import load_wine\n",
    "\n",
    "wine = load_wine()"
   ]
  },
  {
   "cell_type": "code",
   "execution_count": null,
   "metadata": {
    "colab": {
     "base_uri": "https://localhost:8080/"
    },
    "id": "vumwelwh1rz5",
    "outputId": "202bc9ae-4cc9-468c-cc6d-3d0a0effaa7f"
   },
   "outputs": [
    {
     "name": "stdout",
     "output_type": "stream",
     "text": [
      "(178, 13)\n",
      "(178,)\n"
     ]
    }
   ],
   "source": [
    "print(wine.data.shape) # 데이터 개수 확인\n",
    "print(wine.target.shape) # target 데이터 개수 확인"
   ]
  },
  {
   "cell_type": "code",
   "execution_count": null,
   "metadata": {
    "colab": {
     "base_uri": "https://localhost:8080/"
    },
    "id": "DOZ5JhAp1r2R",
    "outputId": "7451aa7e-e513-45a9-e4fb-becc421df3b5"
   },
   "outputs": [
    {
     "data": {
      "text/plain": [
       "array(['class_0', 'class_1', 'class_2'], dtype='<U7')"
      ]
     },
     "execution_count": 17,
     "metadata": {},
     "output_type": "execute_result"
    }
   ],
   "source": [
    "wine.target_names # 데이터 target name 확인"
   ]
  },
  {
   "cell_type": "code",
   "execution_count": null,
   "metadata": {
    "colab": {
     "base_uri": "https://localhost:8080/"
    },
    "id": "rsGg45hECz7H",
    "outputId": "46951b96-c930-4db2-8fdc-ff0db7f367df"
   },
   "outputs": [
    {
     "data": {
      "text/plain": [
       "['alcohol',\n",
       " 'malic_acid',\n",
       " 'ash',\n",
       " 'alcalinity_of_ash',\n",
       " 'magnesium',\n",
       " 'total_phenols',\n",
       " 'flavanoids',\n",
       " 'nonflavanoid_phenols',\n",
       " 'proanthocyanins',\n",
       " 'color_intensity',\n",
       " 'hue',\n",
       " 'od280/od315_of_diluted_wines',\n",
       " 'proline']"
      ]
     },
     "execution_count": 18,
     "metadata": {},
     "output_type": "execute_result"
    }
   ],
   "source": [
    "wine.feature_names # 데이터 feature name 확인"
   ]
  },
  {
   "cell_type": "markdown",
   "metadata": {
    "id": "O7AWutMBCsK8"
   },
   "source": [
    "# 각 클래스별 데이터 개수 및 편향(bias)확인\n",
    "* 현재 0부터 2까지 클래스별 데이터의 개수가 일정하지 않음.\n",
    "* 데이터셋이 현저하게 작고, 분류자체의 성능이 초점이 아니므로 진행.\n",
    "* 이후 train_test_split()으로 데이터 추출시 자동으로 랜덤하게 할당"
   ]
  },
  {
   "cell_type": "code",
   "execution_count": null,
   "metadata": {
    "colab": {
     "base_uri": "https://localhost:8080/"
    },
    "id": "h_JbYjrWteZ1",
    "outputId": "e1a0ecd7-f70e-4cdf-cff1-d63325e38247"
   },
   "outputs": [
    {
     "data": {
      "text/plain": [
       "defaultdict(int, {0: 59, 1: 71, 2: 48})"
      ]
     },
     "execution_count": 19,
     "metadata": {},
     "output_type": "execute_result"
    }
   ],
   "source": [
    "from collections import defaultdict\n",
    "\n",
    "wine_dict = defaultdict(int)\n",
    "for i in wine.target:\n",
    "    wine_dict[i] += 1 # 키에 대한 값이 없으면 값을 0으로 초기화\n",
    "\n",
    "wine_dict"
   ]
  },
  {
   "cell_type": "markdown",
   "metadata": {
    "id": "QXAL-7ebwPg8"
   },
   "source": [
    "# 2. train, test 데이터셋 분리"
   ]
  },
  {
   "cell_type": "code",
   "execution_count": null,
   "metadata": {
    "colab": {
     "base_uri": "https://localhost:8080/"
    },
    "id": "3oPHolDX1sAf",
    "outputId": "0ab882ce-fadf-4ce9-8e56-843dc62f6ff2"
   },
   "outputs": [
    {
     "name": "stdout",
     "output_type": "stream",
     "text": [
      "train_input shape: (142, 13)\n",
      "train_target shape: (142,)\n",
      "test_input shape: (36, 13)\n",
      "test_target shape: (36,)\n"
     ]
    }
   ],
   "source": [
    "# train, test 데이터 분리\n",
    "wine_train_input, wine_test_input, wine_train_target, wine_test_target = train_test_split(wine.data, wine.target, test_size=0.2, random_state=7)\n",
    "\n",
    "print(f\"train_input shape: {wine_train_input.shape}\")\n",
    "print(f\"train_target shape: {wine_train_target.shape}\")\n",
    "print(f\"test_input shape: {wine_test_input.shape}\")\n",
    "print(f\"test_target shape: {wine_test_target.shape}\")"
   ]
  },
  {
   "cell_type": "markdown",
   "metadata": {
    "id": "meYBzm0HwT_F"
   },
   "source": [
    "# 3. 모델 학습 및 예측\n",
    "# 분류기 지정\n",
    "* 의사결정트리와 랜덤포레스트는 데이터의 입력값에 robust 하다\n",
    "* SVM, 로지스틱회귀, 확률적경사하강은 input data의 scale에 robust 하지않다. 표준화를 하고나서 진행\n",
    "* Pipeline 클래스는 연속된 변환을 순차적으로 처리할 수 있는 기능을 제공하는 유용한 래퍼(Wrapper) 도구"
   ]
  },
  {
   "cell_type": "code",
   "execution_count": null,
   "metadata": {
    "id": "ttOU1LexdNMW"
   },
   "outputs": [],
   "source": [
    "wine_dt = DecisionTreeClassifier(random_state=32)                               # DecisionTree\n",
    "wine_rf = RandomForestClassifier(random_state=32)                               # RandomForest\n",
    "wine_svm = make_pipeline(StandardScaler(), svm.SVC(random_state=32))            # SVM\n",
    "wine_sgd = make_pipeline(StandardScaler(), SGDClassifier(random_state=32))      # SGDClassifier\n",
    "wine_lr = make_pipeline(StandardScaler(), LogisticRegression(random_state=32))  # LogisticRegression"
   ]
  },
  {
   "cell_type": "code",
   "execution_count": null,
   "metadata": {
    "id": "LRFUwmKYrW_m"
   },
   "outputs": [],
   "source": [
    "def train_test_result(classifier):\n",
    "    classifier.fit(wine_train_input, wine_train_target)\n",
    "    wine_pred = classifier.predict(wine_test_input)\n",
    "\n",
    "    print(classification_report(wine_test_target, wine_pred))\n",
    "\n",
    "    ax = sns.heatmap(confusion_matrix(wine_test_target, wine_pred), annot=True, cbar=False, cmap='Blues')\n",
    "    plt.title('Confusion Matrix')\n",
    "    plt.show()"
   ]
  },
  {
   "cell_type": "markdown",
   "metadata": {
    "id": "75Yt8iHVwjZD"
   },
   "source": [
    "# 훈련 및 테스트\n",
    "* 위에서 정의한 train_test_result 함수를 사용\n",
    "* Digits dataset에 대해 훈련 및 테스트를 수행\n",
    "* classification report및 confusion matrix 출력"
   ]
  },
  {
   "cell_type": "markdown",
   "metadata": {
    "id": "y60l8glPEaU2"
   },
   "source": [
    "# 3.1 Decision Tree\n",
    "* 전체 정확도는 0.94\n",
    "---\n",
    "* precision의 평균은 0.96이며, 0, 2은 precision이 평균값보다 높으므로 좋은 수치를 보임.\n",
    "* 즉 예측을 0, 2로 한 대상 중에 예측과 실제 값이 0, 2로 일치한 데이터의 비율이 평균보다 높음.\n",
    "---\n",
    "* recall의 평균은 0.94이며, 0, 1은 recall이 평균값보다 높으므로 좋은 수치를 보임.\n",
    "* 즉 실제 값이 0, 1인 대상 중에 예측과 실제 값이 0, 1로 일치한 데이터의 비율이 평균보다 높음.\n",
    "---\n",
    "* f1-score의 평균은 0.95이며, 0, 1은 f1-score가 평균값보다 높으므로 좋은 수치를 보임\n",
    "즉 정밀도와 재현율이 어느 한쪽으로 치우치지 않는 수치를 나타낼 때 0, 1이 상대적으로 높은 값을 보임\n",
    "---\n",
    "### 즉, Decision Tree의 정확도는 0.94이며, f1-score결과로 1의 경우 상대적으로 잘 못 맞춰 클래스별 편차가 발생하므로 **Decision Tree는 클래스 1에대해 상대적으로 좋은 성능을 내지 못한다고 판단.** 그렇다고 전체적인 성능이 나쁜것은 아님\n"
   ]
  },
  {
   "cell_type": "code",
   "execution_count": null,
   "metadata": {
    "colab": {
     "base_uri": "https://localhost:8080/",
     "height": 462
    },
    "id": "4DnsVwooyZL3",
    "outputId": "b360ee7b-0b86-4cac-8037-c6a067f4f616"
   },
   "outputs": [
    {
     "name": "stdout",
     "output_type": "stream",
     "text": [
      "              precision    recall  f1-score   support\n",
      "\n",
      "           0       1.00      1.00      1.00         7\n",
      "           1       0.89      1.00      0.94        17\n",
      "           2       1.00      0.83      0.91        12\n",
      "\n",
      "    accuracy                           0.94        36\n",
      "   macro avg       0.96      0.94      0.95        36\n",
      "weighted avg       0.95      0.94      0.94        36\n",
      "\n"
     ]
    },
    {
     "data": {
      "image/png": "[encoded data removed]",
      "text/plain": [
       "<Figure size 432x288 with 1 Axes>"
      ]
     },
     "metadata": {
      "needs_background": "light"
     },
     "output_type": "display_data"
    }
   ],
   "source": [
    "train_test_result(wine_dt)"
   ]
  },
  {
   "cell_type": "markdown",
   "metadata": {
    "id": "8w5j3gLCEcVm"
   },
   "source": [
    "# 3.2 Random Forest\n",
    "* 전체 정확도는 1.0\n",
    "---\n",
    "* precision, recall, f1-score값이 1.0으로 완벽하게 맞춤\n",
    "---\n",
    "### 즉, Decision Tree의 정확도는 1.0이며, precision, recall, f1-score값이 1.0이다. **즉, 완벽하게 정답을 분류한 Random Forest는 해당 dataset에 좋은 성능을 낸다고 판단.**\n",
    "\n",
    "### 하지만 1.0이 나온 이유로 데이터의 불균형, 표본데이터의 부족 때문인 것으로 추정된다."
   ]
  },
  {
   "cell_type": "code",
   "execution_count": null,
   "metadata": {
    "colab": {
     "base_uri": "https://localhost:8080/",
     "height": 462
    },
    "id": "-424_RKXdNDM",
    "outputId": "6cae2848-c028-4b73-d85e-a127f9eefd2b"
   },
   "outputs": [
    {
     "name": "stdout",
     "output_type": "stream",
     "text": [
      "              precision    recall  f1-score   support\n",
      "\n",
      "           0       1.00      1.00      1.00         7\n",
      "           1       1.00      1.00      1.00        17\n",
      "           2       1.00      1.00      1.00        12\n",
      "\n",
      "    accuracy                           1.00        36\n",
      "   macro avg       1.00      1.00      1.00        36\n",
      "weighted avg       1.00      1.00      1.00        36\n",
      "\n"
     ]
    },
    {
     "data": {
      "image/png": "[encoded data removed]",
      "text/plain": [
       "<Figure size 432x288 with 1 Axes>"
      ]
     },
     "metadata": {
      "needs_background": "light"
     },
     "output_type": "display_data"
    }
   ],
   "source": [
    "train_test_result(wine_rf)"
   ]
  },
  {
   "cell_type": "markdown",
   "metadata": {
    "id": "BNZHePgFEdoj"
   },
   "source": [
    "# 3.3 SVM\n",
    "* 전체 정확도는 1.0\n",
    "---\n",
    "* precision, recall, f1-score값이 1.0으로 완벽하게 맞춤\n",
    "---\n",
    "### 즉, SVM의 정확도는 1.0이며, precision, recall, f1-score값이 1.0이다. **즉, 완벽하게 정답을 분류한 SVM는 해당 dataset에 좋은 성능을 낸다고 판단.**\n",
    "\n",
    "### 하지만 1.0이 나온 이유로 데이터의 불균형, 표본데이터의 부족 때문인 것으로 추정된다."
   ]
  },
  {
   "cell_type": "code",
   "execution_count": null,
   "metadata": {
    "colab": {
     "base_uri": "https://localhost:8080/",
     "height": 462
    },
    "id": "49HzVxjVdNBE",
    "outputId": "9401c2b6-8bbd-4d4c-f2cb-f2cf24723152"
   },
   "outputs": [
    {
     "name": "stdout",
     "output_type": "stream",
     "text": [
      "              precision    recall  f1-score   support\n",
      "\n",
      "           0       1.00      1.00      1.00         7\n",
      "           1       1.00      1.00      1.00        17\n",
      "           2       1.00      1.00      1.00        12\n",
      "\n",
      "    accuracy                           1.00        36\n",
      "   macro avg       1.00      1.00      1.00        36\n",
      "weighted avg       1.00      1.00      1.00        36\n",
      "\n"
     ]
    },
    {
     "data": {
      "image/png": "[encoded data removed]",
      "text/plain": [
       "<Figure size 432x288 with 1 Axes>"
      ]
     },
     "metadata": {
      "needs_background": "light"
     },
     "output_type": "display_data"
    }
   ],
   "source": [
    "train_test_result(wine_svm)"
   ]
  },
  {
   "cell_type": "markdown",
   "metadata": {
    "id": "QoAzO6DZEesH"
   },
   "source": [
    "# 3.4 SGD Classifier\n",
    "* 전체 정확도는 0.97\n",
    "---\n",
    "* precision의 평균은 0.98이며, 0, 2은 precision이 평균값보다 높으므로 좋은 수치를 보임.\n",
    "* 즉 예측을 0, 2로 한 대상 중에 예측과 실제 값이 0, 2로 일치한 데이터의 비율이 평균보다 높음.\n",
    "---\n",
    "* recall의 평균은 0.97이며, 0, 1은 recall이 평균값보다 높으므로 좋은 수치를 보임.\n",
    "* 즉 실제 값이 0, 1인 대상 중에 예측과 실제 값이 0, 1로 일치한 데이터의 비율이 평균보다 높음.\n",
    "---\n",
    "* f1-score의 평균은 0.98이며, 0, 1은 f1-score가 평균값보다 높으므로 좋은 수치를 보임\n",
    "즉 정밀도와 재현율이 어느 한쪽으로 치우치지 않는 수치를 나타낼 때 0, 1이 상대적으로 높은 값을 보임\n",
    "---\n",
    "### 즉, SGD의 정확도는 0.97이며, f1-score결과로 0, 1이 평균보다 높다고 나왔지만 2의 경우 표본의 부족으로 인한 단순 통계의 오류로 평균보다 0.01감소한 수치이므로 **SGD는 해당 dataset에 전체적으로 좋은 성능을 낸다고 판단.**"
   ]
  },
  {
   "cell_type": "code",
   "execution_count": null,
   "metadata": {
    "colab": {
     "base_uri": "https://localhost:8080/",
     "height": 462
    },
    "id": "_btsKDpE1sDM",
    "outputId": "fe859b19-d1f2-413e-e8cf-bfa9e6d57f22"
   },
   "outputs": [
    {
     "name": "stdout",
     "output_type": "stream",
     "text": [
      "              precision    recall  f1-score   support\n",
      "\n",
      "           0       1.00      1.00      1.00         7\n",
      "           1       0.94      1.00      0.97        17\n",
      "           2       1.00      0.92      0.96        12\n",
      "\n",
      "    accuracy                           0.97        36\n",
      "   macro avg       0.98      0.97      0.98        36\n",
      "weighted avg       0.97      0.97      0.97        36\n",
      "\n"
     ]
    },
    {
     "data": {
      "image/png": "[encoded data removed]",
      "text/plain": [
       "<Figure size 432x288 with 1 Axes>"
      ]
     },
     "metadata": {
      "needs_background": "light"
     },
     "output_type": "display_data"
    }
   ],
   "source": [
    "train_test_result(wine_sgd)"
   ]
  },
  {
   "cell_type": "markdown",
   "metadata": {
    "id": "RFMs454UEfd3"
   },
   "source": [
    "# 3.5 Logistic Regression\n",
    "* 전체 정확도는 0.97\n",
    "---\n",
    "* precision의 평균은 0.98이며, 0, 2은 precision이 평균값보다 높으므로 좋은 수치를 보임.\n",
    "* 즉 예측을 0, 2로 한 대상 중에 예측과 실제 값이 0, 2로 일치한 데이터의 비율이 평균보다 높음.\n",
    "---\n",
    "* recall의 평균은 0.97이며, 0, 1은 recall이 평균값보다 높으므로 좋은 수치를 보임.\n",
    "* 즉 실제 값이 0, 1인 대상 중에 예측과 실제 값이 0, 1로 일치한 데이터의 비율이 평균보다 높음.\n",
    "---\n",
    "* f1-score의 평균은 0.98이며, 0, 1은 f1-score가 평균값보다 높으므로 좋은 수치를 보임\n",
    "즉 정밀도와 재현율이 어느 한쪽으로 치우치지 않는 수치를 나타낼 때 0, 1이 상대적으로 높은 값을 보임\n",
    "---\n",
    "### 즉, Logistic Regression의 정확도는 0.97이며, f1-score결과로 0, 1이 평균보다 높다고 나왔지만 2의 경우 표본의 부족으로 인한 단순 통계의 오류로 평균보다 0.01감소한 수치이므로 **Logistic Regression는 해당 dataset에 전체적으로 좋은 성능을 낸다고 판단.**"
   ]
  },
  {
   "cell_type": "code",
   "execution_count": null,
   "metadata": {
    "colab": {
     "base_uri": "https://localhost:8080/",
     "height": 462
    },
    "id": "y8NcaX7n1sFl",
    "outputId": "cdafa4ab-c566-402e-dcbd-5e642596773e"
   },
   "outputs": [
    {
     "name": "stdout",
     "output_type": "stream",
     "text": [
      "              precision    recall  f1-score   support\n",
      "\n",
      "           0       1.00      1.00      1.00         7\n",
      "           1       0.94      1.00      0.97        17\n",
      "           2       1.00      0.92      0.96        12\n",
      "\n",
      "    accuracy                           0.97        36\n",
      "   macro avg       0.98      0.97      0.98        36\n",
      "weighted avg       0.97      0.97      0.97        36\n",
      "\n"
     ]
    },
    {
     "data": {
      "image/png": "[encoded data removed]",
      "text/plain": [
       "<Figure size 432x288 with 1 Axes>"
      ]
     },
     "metadata": {
      "needs_background": "light"
     },
     "output_type": "display_data"
    }
   ],
   "source": [
    "train_test_result(wine_lr)"
   ]
  },
  {
   "cell_type": "markdown",
   "metadata": {
    "id": "bm53KCsFhy9W"
   },
   "source": [
    "# 4. 성능평가 및 결론\n",
    "\n",
    "# 성능평가\n",
    "#### 가장 높은 score를 얻은 모델은 다음과 같다.\n",
    "* accuracy  : (Random Forest, 1.0),&nbsp; (SVM, 1.0)\n",
    "* precision : (Random Forest, 1.0),&nbsp; (SVM, 1.0)\n",
    "* recall   &nbsp;&nbsp;&nbsp;&nbsp;&nbsp;&nbsp; : (Random Forest, 1.0),&nbsp; (SVM, 1.0)\n",
    "* f1-score &nbsp; : (Random Forest, 1.0),&nbsp; (SVM, 1.0)\n",
    "\n",
    "# 결론\n",
    "#### 와인분류는 피처들을 가지고 와인 클래스가 무엇인지 맞추는 것이 가장 중요하고, 표본 데이터가 클래스별 불균형을 이룬다. 그러므로 **평가 지표로 f1-score**로 선정하며, 해당 모델들 중 가장 높은 score를 달성한 **Random Forest, SVM**을 선정한다.\n",
    "\n",
    "# 의문점\n",
    "* validation data를 나누지 않은 채 train과 test만 나누어서 실행했다.\n",
    "* 표본 데이터의 클래스별 불균형을 이루었지만 전반적으로 학습이 잘되었으며, 특이 Random Forest와 SVM의 경우 평가지표모두 1.0이 나왔다.\n",
    "* EDA와 Feature Engineering조차 하지 않았는데도 잘 나온것으로 보아 이는 표본 데이터의 절대적인 부족으로 밖에 볼 수 없다.\n",
    "---"
   ]
  },
  {
   "cell_type": "code",
   "execution_count": null,
   "metadata": {
    "id": "01Q2qPfcEvTI"
   },
   "outputs": [],
   "source": []
  },
  {
   "cell_type": "code",
   "execution_count": null,
   "metadata": {
    "id": "3Apya4_vEvQt"
   },
   "outputs": [],
   "source": []
  },
  {
   "cell_type": "code",
   "execution_count": null,
   "metadata": {
    "id": "fpTgDAi7EvON"
   },
   "outputs": [],
   "source": []
  },
  {
   "cell_type": "code",
   "execution_count": null,
   "metadata": {
    "id": "4kuVXVpvEuy0"
   },
   "outputs": [],
   "source": []
  },
  {
   "cell_type": "markdown",
   "metadata": {
    "id": "R01Nc8FUdZue"
   },
   "source": [
    "# breast cancer Dataset Classification\n",
    "\n",
    "주어진 데이터로 환자의 유방암 여부를 분류해본다."
   ]
  },
  {
   "cell_type": "markdown",
   "metadata": {
    "id": "q1_hknI3F5Ic"
   },
   "source": [
    "# 1. 데이터 준비\n",
    "* load_breast_cancer() 함수로 breast_cancer데이터를 불러온다.\n",
    "* wine data는 178행 13열 형식으로 구성\n",
    "* target name은 0부터 2까지로 구성됨"
   ]
  },
  {
   "cell_type": "code",
   "execution_count": null,
   "metadata": {
    "id": "rhSYn0MR1sIO"
   },
   "outputs": [],
   "source": [
    "# cancer dataset 불러오기\n",
    "from sklearn.datasets import load_breast_cancer\n",
    "\n",
    "cancer = load_breast_cancer()"
   ]
  },
  {
   "cell_type": "code",
   "execution_count": null,
   "metadata": {
    "colab": {
     "base_uri": "https://localhost:8080/"
    },
    "id": "dtRCgzHb1sNV",
    "outputId": "d4cc13bd-a13a-48ae-d848-00ef33c6b2e0"
   },
   "outputs": [
    {
     "name": "stdout",
     "output_type": "stream",
     "text": [
      "(569, 30)\n",
      "(569,)\n"
     ]
    }
   ],
   "source": [
    "print(cancer.data.shape) # 데이터 개수 확인\n",
    "print(cancer.target.shape) # target 데이터 개수 확인"
   ]
  },
  {
   "cell_type": "code",
   "execution_count": null,
   "metadata": {
    "colab": {
     "base_uri": "https://localhost:8080/"
    },
    "id": "-vyaxEci1sQB",
    "outputId": "9124fc1b-5da0-44d3-9e7a-09a05b30600a"
   },
   "outputs": [
    {
     "data": {
      "text/plain": [
       "array(['malignant', 'benign'], dtype='<U9')"
      ]
     },
     "execution_count": 30,
     "metadata": {},
     "output_type": "execute_result"
    }
   ],
   "source": [
    "cancer.target_names # 데이터 target name 확인"
   ]
  },
  {
   "cell_type": "code",
   "execution_count": null,
   "metadata": {
    "colab": {
     "base_uri": "https://localhost:8080/"
    },
    "id": "KhOIL2zftsjL",
    "outputId": "2f3458a4-9c3f-4d7e-8f7c-616daf28049b"
   },
   "outputs": [
    {
     "data": {
      "text/plain": [
       "array(['mean radius', 'mean texture', 'mean perimeter', 'mean area',\n",
       "       'mean smoothness', 'mean compactness', 'mean concavity',\n",
       "       'mean concave points', 'mean symmetry', 'mean fractal dimension',\n",
       "       'radius error', 'texture error', 'perimeter error', 'area error',\n",
       "       'smoothness error', 'compactness error', 'concavity error',\n",
       "       'concave points error', 'symmetry error',\n",
       "       'fractal dimension error', 'worst radius', 'worst texture',\n",
       "       'worst perimeter', 'worst area', 'worst smoothness',\n",
       "       'worst compactness', 'worst concavity', 'worst concave points',\n",
       "       'worst symmetry', 'worst fractal dimension'], dtype='<U23')"
      ]
     },
     "execution_count": 31,
     "metadata": {},
     "output_type": "execute_result"
    }
   ],
   "source": [
    "cancer.feature_names # 데이터 feature name 확인"
   ]
  },
  {
   "cell_type": "markdown",
   "metadata": {
    "id": "Zw9lws8bGCk6"
   },
   "source": [
    "# 각 클래스별 데이터 개수 및 편향(bias)확인\n",
    "* 현재 0부터 2까지 클래스별 데이터의 개수가 일정하지 않음.\n",
    "* 데이터셋이 현저하게 작고, 분류자체의 성능이 초점이 아니므로 진행.\n",
    "* 이후 train_test_split()으로 데이터 추출시 자동으로 랜덤하게 할당"
   ]
  },
  {
   "cell_type": "code",
   "execution_count": null,
   "metadata": {
    "colab": {
     "base_uri": "https://localhost:8080/"
    },
    "id": "DEQUZ8cvGIE0",
    "outputId": "aef24293-9883-4fd5-cd3e-940a3a39f272"
   },
   "outputs": [
    {
     "data": {
      "text/plain": [
       "defaultdict(int, {0: 212, 1: 357})"
      ]
     },
     "execution_count": 32,
     "metadata": {},
     "output_type": "execute_result"
    }
   ],
   "source": [
    "from collections import defaultdict\n",
    "\n",
    "cancer_dict = defaultdict(int)\n",
    "for i in cancer.target:\n",
    "    cancer_dict[i] += 1 # 키에 대한 값이 없으면 값을 0으로 초기화\n",
    "\n",
    "cancer_dict"
   ]
  },
  {
   "cell_type": "markdown",
   "metadata": {
    "id": "TIPLXHXDGK9b"
   },
   "source": [
    "# 2. train, test 데이터셋 분리"
   ]
  },
  {
   "cell_type": "code",
   "execution_count": null,
   "metadata": {
    "colab": {
     "base_uri": "https://localhost:8080/"
    },
    "id": "7GG0zd2n1saP",
    "outputId": "b53eb20d-7f97-47b1-f96c-0df43e998c0a"
   },
   "outputs": [
    {
     "name": "stdout",
     "output_type": "stream",
     "text": [
      "train_input shape: (455, 30)\n",
      "train_target shape: (455,)\n",
      "test_input shape: (114, 30)\n",
      "test_target shape: (114,)\n"
     ]
    }
   ],
   "source": [
    "# train, test 데이터 분리\n",
    "cancer_train_input, cancer_test_input, cancer_train_target, cancer_test_target = train_test_split(cancer.data, cancer.target, test_size=0.2, random_state=7)\n",
    "\n",
    "print(f\"train_input shape: {cancer_train_input.shape}\")\n",
    "print(f\"train_target shape: {cancer_train_target.shape}\")\n",
    "print(f\"test_input shape: {cancer_test_input.shape}\")\n",
    "print(f\"test_target shape: {cancer_test_target.shape}\")"
   ]
  },
  {
   "cell_type": "markdown",
   "metadata": {
    "id": "21fyzQIoGSvT"
   },
   "source": [
    "# 3. 모델 학습 및 예측\n",
    "# 분류기 지정\n",
    "* 의사결정트리와 랜덤포레스트는 데이터의 입력값에 robust 하다\n",
    "* SVM, 로지스틱회귀, 확률적경사하강은 input data의 scale에 robust 하지않다. 표준화를 하고나서 진행\n",
    "* Pipeline 클래스는 연속된 변환을 순차적으로 처리할 수 있는 기능을 제공하는 유용한 래퍼(Wrapper) 도구"
   ]
  },
  {
   "cell_type": "code",
   "execution_count": null,
   "metadata": {
    "id": "kEMiVThl1scu"
   },
   "outputs": [],
   "source": [
    "cancer_dt = DecisionTreeClassifier(random_state=32)                                        # DecisionTree\n",
    "cancer_rf = RandomForestClassifier(random_state=32)                           # RandomForest\n",
    "cancer_svm = make_pipeline(StandardScaler(), svm.SVC(random_state=32))           # SVM\n",
    "cancer_sgd = make_pipeline(StandardScaler(), SGDClassifier(random_state=32))  # SGDClassifier\n",
    "cancer_lr = make_pipeline(StandardScaler(), LogisticRegression(random_state=32))           # LogisticRegression"
   ]
  },
  {
   "cell_type": "code",
   "execution_count": null,
   "metadata": {
    "id": "l7bau4SCrnds"
   },
   "outputs": [],
   "source": [
    "def train_test_result(classifier):\n",
    "    classifier.fit(cancer_train_input, cancer_train_target)\n",
    "    cancer_pred = classifier.predict(cancer_test_input)\n",
    "\n",
    "    print(classification_report(cancer_test_target, cancer_pred))\n",
    "\n",
    "    ax = sns.heatmap(confusion_matrix(cancer_test_target, cancer_pred), annot=True, cbar=False, cmap='Blues')\n",
    "    plt.title('Confusion Matrix')\n",
    "    plt.show()"
   ]
  },
  {
   "cell_type": "markdown",
   "metadata": {
    "id": "xdDXKZhAGVvD"
   },
   "source": [
    "# 훈련 및 테스트\n",
    "* 위에서 정의한 train_test_result 함수를 사용\n",
    "* Digits dataset에 대해 훈련 및 테스트를 수행\n",
    "* classification report및 confusion matrix 출력"
   ]
  },
  {
   "cell_type": "markdown",
   "metadata": {
    "id": "4mMdD0kEnwEa"
   },
   "source": [
    "# 평가지표 설정\n",
    "* 정확도 지표는 비대칭한 데이터 세트에서 Positive/Negative에 대한 예측 정확도를 판단하지 못한 채 Negative/Positive에 대한 예측 정확도만으로도 분류의 정확도가 매우 높게 나타나는 수치적인 판단 오류를 일으키게 되므로 정확도는 고려하지 않는다.\n",
    "* 왜냐하면 이 문제는 malignant(악성) 및 benign(양성) 종양에 대한 dataset으로, 정확도 및 정밀도 보다는 Recall의 값이 매우 중요\n",
    "* 재현율은 malignant(악성)인 데이터 예측을 benign(양성)로 잘못 판단하게 되면 사람의 생명을 앗아가기 때문에 정확도 및 정밀도보다 상대적으로 더 중요한 지표라고 판단.\n",
    "* 따라서 Recall의 값만 고려하겠음."
   ]
  },
  {
   "cell_type": "markdown",
   "metadata": {
    "id": "wmMDUeRwGaT8"
   },
   "source": [
    "# 3.1 Decision Tree\n",
    "* malignant(악성)에 대한 Recall값 : 0.82\n",
    "* 7명의 악성 종양 환자에게 양성 종양이라는 잘못된 판단을 함\n",
    "* benign(양성)에 대한 Recall값 : 0.96\n",
    "* 3명의 양성 종양 환자에게 악성 종양이라는 잘못된 판단을 함\n",
    "\n"
   ]
  },
  {
   "cell_type": "code",
   "execution_count": null,
   "metadata": {
    "colab": {
     "base_uri": "https://localhost:8080/",
     "height": 444
    },
    "id": "NQriojRB1skM",
    "outputId": "abbad833-d733-478a-d0bc-c83704ae4117"
   },
   "outputs": [
    {
     "name": "stdout",
     "output_type": "stream",
     "text": [
      "              precision    recall  f1-score   support\n",
      "\n",
      "           0       0.92      0.82      0.87        40\n",
      "           1       0.91      0.96      0.93        74\n",
      "\n",
      "    accuracy                           0.91       114\n",
      "   macro avg       0.91      0.89      0.90       114\n",
      "weighted avg       0.91      0.91      0.91       114\n",
      "\n"
     ]
    },
    {
     "data": {
      "image/png": "[encoded data removed]",
      "text/plain": [
       "<Figure size 432x288 with 1 Axes>"
      ]
     },
     "metadata": {
      "needs_background": "light"
     },
     "output_type": "display_data"
    }
   ],
   "source": [
    "train_test_result(cancer_dt)"
   ]
  },
  {
   "cell_type": "markdown",
   "metadata": {
    "id": "i6wEeZfrGh1D"
   },
   "source": [
    "# 3.2 Random Forest\n",
    "* malignant(악성)에 대한 Recall값 : 1.0\n",
    "* 모든 악성 종양 환자에게 정확한 진단을 함\n",
    "* benign(양성)에 대한 Recall값 : 1.0\n",
    "* 모든 양성 종양 환자에게 정확한 진단을 함"
   ]
  },
  {
   "cell_type": "code",
   "execution_count": null,
   "metadata": {
    "colab": {
     "base_uri": "https://localhost:8080/",
     "height": 444
    },
    "id": "6ZfxHLKA1smr",
    "outputId": "3a066864-9d54-4024-ac3b-bbadd5b8ee75"
   },
   "outputs": [
    {
     "name": "stdout",
     "output_type": "stream",
     "text": [
      "              precision    recall  f1-score   support\n",
      "\n",
      "           0       1.00      1.00      1.00        40\n",
      "           1       1.00      1.00      1.00        74\n",
      "\n",
      "    accuracy                           1.00       114\n",
      "   macro avg       1.00      1.00      1.00       114\n",
      "weighted avg       1.00      1.00      1.00       114\n",
      "\n"
     ]
    },
    {
     "data": {
      "image/png": "[encoded data removed]",
      "text/plain": [
       "<Figure size 432x288 with 1 Axes>"
      ]
     },
     "metadata": {
      "needs_background": "light"
     },
     "output_type": "display_data"
    }
   ],
   "source": [
    "train_test_result(cancer_rf)"
   ]
  },
  {
   "cell_type": "markdown",
   "metadata": {
    "id": "Cr1gRJx3Gio3"
   },
   "source": [
    "# 3.3 SVM\n",
    "* malignant(악성)에 대한 Recall값 : 0.95\n",
    "* 2명의 악성 종양 환자에게 양성 종양이라는 잘못된 판단을 함\n",
    "* benign(양성)에 대한 Recall값 : 1.0\n",
    "* 모든 양성 종양 환자에게 정확한 진단을 함"
   ]
  },
  {
   "cell_type": "code",
   "execution_count": null,
   "metadata": {
    "colab": {
     "base_uri": "https://localhost:8080/",
     "height": 444
    },
    "id": "-6ei9k891spZ",
    "outputId": "e29d1924-26f4-4b97-a0f4-69239661de17"
   },
   "outputs": [
    {
     "name": "stdout",
     "output_type": "stream",
     "text": [
      "              precision    recall  f1-score   support\n",
      "\n",
      "           0       1.00      0.95      0.97        40\n",
      "           1       0.97      1.00      0.99        74\n",
      "\n",
      "    accuracy                           0.98       114\n",
      "   macro avg       0.99      0.97      0.98       114\n",
      "weighted avg       0.98      0.98      0.98       114\n",
      "\n"
     ]
    },
    {
     "data": {
      "image/png": "[encoded data removed]",
      "text/plain": [
       "<Figure size 432x288 with 1 Axes>"
      ]
     },
     "metadata": {
      "needs_background": "light"
     },
     "output_type": "display_data"
    }
   ],
   "source": [
    "train_test_result(cancer_svm)"
   ]
  },
  {
   "cell_type": "markdown",
   "metadata": {
    "id": "bV5_92sBGjpI"
   },
   "source": [
    "# 3.4 SGD Classifier\n",
    "* malignant(악성)에 대한 Recall값 : 0.95\n",
    "* 2명의 악성 종양 환자에게 양성 종양이라는 잘못된 판단을 함\n",
    "* benign(양성)에 대한 Recall값 : 1.0\n",
    "* 모든 양성 종양 환자에게 정확한 진단을 함"
   ]
  },
  {
   "cell_type": "code",
   "execution_count": null,
   "metadata": {
    "colab": {
     "base_uri": "https://localhost:8080/",
     "height": 444
    },
    "id": "HbKgequ01svQ",
    "outputId": "79215c4e-9d1b-43e6-c3f3-5a75d35eec34"
   },
   "outputs": [
    {
     "name": "stdout",
     "output_type": "stream",
     "text": [
      "              precision    recall  f1-score   support\n",
      "\n",
      "           0       1.00      0.95      0.97        40\n",
      "           1       0.97      1.00      0.99        74\n",
      "\n",
      "    accuracy                           0.98       114\n",
      "   macro avg       0.99      0.97      0.98       114\n",
      "weighted avg       0.98      0.98      0.98       114\n",
      "\n"
     ]
    },
    {
     "data": {
      "image/png": "[encoded data removed]",
      "text/plain": [
       "<Figure size 432x288 with 1 Axes>"
      ]
     },
     "metadata": {
      "needs_background": "light"
     },
     "output_type": "display_data"
    }
   ],
   "source": [
    "train_test_result(cancer_sgd)"
   ]
  },
  {
   "cell_type": "markdown",
   "metadata": {
    "id": "HrWkx8QQGkc_"
   },
   "source": [
    "# 3.5 Logistic Regression\n",
    "* malignant(악성)에 대한 Recall값 : 0.95\n",
    "* 2명의 악성 종양 환자에게 양성 종양이라는 잘못된 판단을 함\n",
    "* benign(양성)에 대한 Recall값 : 1.0\n",
    "* 모든 양성 종양 환자에게 정확한 진단을 함"
   ]
  },
  {
   "cell_type": "code",
   "execution_count": null,
   "metadata": {
    "colab": {
     "base_uri": "https://localhost:8080/",
     "height": 444
    },
    "id": "DcmaEukEGbzH",
    "outputId": "177abd21-04df-45f7-9289-e67008d2af67"
   },
   "outputs": [
    {
     "name": "stdout",
     "output_type": "stream",
     "text": [
      "              precision    recall  f1-score   support\n",
      "\n",
      "           0       1.00      0.95      0.97        40\n",
      "           1       0.97      1.00      0.99        74\n",
      "\n",
      "    accuracy                           0.98       114\n",
      "   macro avg       0.99      0.97      0.98       114\n",
      "weighted avg       0.98      0.98      0.98       114\n",
      "\n"
     ]
    },
    {
     "data": {
      "image/png": "[encoded data removed]",
      "text/plain": [
       "<Figure size 432x288 with 1 Axes>"
      ]
     },
     "metadata": {
      "needs_background": "light"
     },
     "output_type": "display_data"
    }
   ],
   "source": [
    "train_test_result(cancer_lr)"
   ]
  },
  {
   "cell_type": "markdown",
   "metadata": {
    "id": "MLogv_7jsOvX"
   },
   "source": [
    "# 4. 성능평가 및 결론\n",
    "\n",
    "# 성능평가\n",
    "#### malignant(악성)에 대해 가장 높은 Recall score를 얻은 모델은 다음과 같다.\n",
    "* recall : (Random Forest, 1.0)\n",
    "\n",
    "# 결론\n",
    "#### malignant(악성) 및 benign(양성) 종양분류는 결국 malignant(악성)에 대해 잘 못 판단하면 목숨을 앗아갈 수 있다. 그러므로 malignant(악성)에 대한 Recall를 살피는 것이 가장 중요하다. 그러므로 **평가 지표로 **malignant(악성)에 대한 Recall로 선정하며, 해당 모델들 중 가장 높은 score를 달성한 **Random Forest**을 선정한다.\n",
    "<br><br>\n"
   ]
  },
  {
   "cell_type": "markdown",
   "metadata": {
    "id": "-CTrBrLnGbrX"
   },
   "source": [
    "# 프로젝트 정리\n",
    "\n",
    "* 여러가지 데이터들에 대하여 5가지의 분류기를 적용하였고, 각각의 성능과 confusion matrix를 이용하여 다양한 측정 지표들을 고려함. \n",
    "* EDA나 feature engineering조차 하지 않았는데 성능이 높게 나온 이유는 dataset의 표본자체가 적기 때문인것으로 판단되며, 데이터 불균형이 이룬다 해도 큰 영향이 없었음.\n",
    "* 대부분의 데이터마이닝 기법(머신러닝) 들은 정규성을 가정한 모델들이 대부분이기에 random forest나 의사결정나무를 제외한 나머지는 정규화를 적용함.\n",
    "* random forest는 앙상블 방식을 이용하기 때문에 성능이 뛰어나다. 하지만 Random Forest는 속도가 느리고 많은 메모리 차지와 같은 단점이 존재해 상황에 맞는 모델을 고르는 것이 중요하다.\n",
    "* 또한 데이터의 종류, 타입등을 고려하여 최적의 모델을 선택하고, 최적의 하이퍼파라미터를 찾는 것 또한 중요하다.\n",
    "* 끝으로 최종 모델의 성능평가시 다양한 지표를 이용해야 하며, 평가지표를 선택시 주어진 데이터의 애해, 주어진 상황등을 면밀하게 파악하여 척도를 적용해야한다."
   ]
  },
  {
   "cell_type": "markdown",
   "metadata": {
    "id": "4rPWkFUeGbmv"
   },
   "source": []
  },
  {
   "cell_type": "code",
   "execution_count": null,
   "metadata": {
    "id": "QFLfreh4sPme"
   },
   "outputs": [],
   "source": []
  }
 ],
 "metadata": {
  "colab": {
   "collapsed_sections": [],
   "name": "sklearn_toy_dataset_classifier.ipynb",
   "provenance": []
  },
  "kernelspec": {
   "display_name": "Python 3 (ipykernel)",
   "language": "python",
   "name": "python3"
  },
  "language_info": {
   "codemirror_mode": {
    "name": "ipython",
    "version": 3
   },
   "file_extension": ".py",
   "mimetype": "text/x-python",
   "name": "python",
   "nbconvert_exporter": "python",
   "pygments_lexer": "ipython3",
   "version": "3.9.7"
  }
 },
 "nbformat": 4,
 "nbformat_minor": 1
}
