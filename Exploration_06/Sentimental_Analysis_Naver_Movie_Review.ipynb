{
 "cells": [
  {
   "cell_type": "markdown",
   "metadata": {
    "id": "SbqorFlmCjLY"
   },
   "source": [
    "# 1. 데이터 준비와 확인"
   ]
  },
  {
   "cell_type": "code",
   "execution_count": 2,
   "metadata": {
    "id": "9lcggv-vBbsn"
   },
   "outputs": [
    {
     "data": {
      "text/html": [
       "<div>\n",
       "<style scoped>\n",
       "    .dataframe tbody tr th:only-of-type {\n",
       "        vertical-align: middle;\n",
       "    }\n",
       "\n",
       "    .dataframe tbody tr th {\n",
       "        vertical-align: top;\n",
       "    }\n",
       "\n",
       "    .dataframe thead th {\n",
       "        text-align: right;\n",
       "    }\n",
       "</style>\n",
       "<table border=\"1\" class=\"dataframe\">\n",
       "  <thead>\n",
       "    <tr style=\"text-align: right;\">\n",
       "      <th></th>\n",
       "      <th>id</th>\n",
       "      <th>document</th>\n",
       "      <th>label</th>\n",
       "    </tr>\n",
       "  </thead>\n",
       "  <tbody>\n",
       "    <tr>\n",
       "      <th>0</th>\n",
       "      <td>9976970</td>\n",
       "      <td>아 더빙.. 진짜 짜증나네요 목소리</td>\n",
       "      <td>0</td>\n",
       "    </tr>\n",
       "    <tr>\n",
       "      <th>1</th>\n",
       "      <td>3819312</td>\n",
       "      <td>흠...포스터보고 초딩영화줄....오버연기조차 가볍지 않구나</td>\n",
       "      <td>1</td>\n",
       "    </tr>\n",
       "    <tr>\n",
       "      <th>2</th>\n",
       "      <td>10265843</td>\n",
       "      <td>너무재밓었다그래서보는것을추천한다</td>\n",
       "      <td>0</td>\n",
       "    </tr>\n",
       "    <tr>\n",
       "      <th>3</th>\n",
       "      <td>9045019</td>\n",
       "      <td>교도소 이야기구먼 ..솔직히 재미는 없다..평점 조정</td>\n",
       "      <td>0</td>\n",
       "    </tr>\n",
       "    <tr>\n",
       "      <th>4</th>\n",
       "      <td>6483659</td>\n",
       "      <td>사이몬페그의 익살스런 연기가 돋보였던 영화!스파이더맨에서 늙어보이기만 했던 커스틴 ...</td>\n",
       "      <td>1</td>\n",
       "    </tr>\n",
       "  </tbody>\n",
       "</table>\n",
       "</div>"
      ],
      "text/plain": [
       "         id                                           document  label\n",
       "0   9976970                                아 더빙.. 진짜 짜증나네요 목소리      0\n",
       "1   3819312                  흠...포스터보고 초딩영화줄....오버연기조차 가볍지 않구나      1\n",
       "2  10265843                                  너무재밓었다그래서보는것을추천한다      0\n",
       "3   9045019                      교도소 이야기구먼 ..솔직히 재미는 없다..평점 조정      0\n",
       "4   6483659  사이몬페그의 익살스런 연기가 돋보였던 영화!스파이더맨에서 늙어보이기만 했던 커스틴 ...      1"
      ]
     },
     "execution_count": 2,
     "metadata": {},
     "output_type": "execute_result"
    }
   ],
   "source": [
    "import pandas as pd\n",
    "import numpy as np\n",
    "import seaborn as sns\n",
    "import matplotlib.pyplot as plt\n",
    "%matplotlib inline\n",
    "\n",
    "import re\n",
    "from konlpy.tag import Okt\n",
    "\n",
    "from tensorflow import keras\n",
    "from tensorflow.keras.preprocessing.text import Tokenizer\n",
    "from tensorflow.keras.preprocessing.sequence import pad_sequences\n",
    "\n",
    "from collections import Counter\n",
    "\n",
    "\n",
    "# 데이터 파일 읽기\n",
    "train_data = pd.read_table('~/aiffel/sentiment_classification/data/ratings_train.txt')\n",
    "test_data = pd.read_table('~/aiffel/sentiment_classification/data/ratings_test.txt')\n",
    "\n",
    "train_data.head()"
   ]
  },
  {
   "cell_type": "markdown",
   "metadata": {
    "id": "Yuy698zLV2z-"
   },
   "source": [
    "# 2. 데이터 로더 구성\n",
    "다음과 같은 기능을 수행하는 함수 data_load 를 정의한다.\n",
    "\n",
    "* 데이터의 중복 제거\n",
    "* 한글과 공백을 제외하고 모두 제거\n",
    "* white space 데이터를 empty value로 변경\n",
    "* 빈 값을 가진 행이 있다면 Null 값으로 변경\n",
    "* 한국어 토크나이저로 토큰화\n",
    "* 불용어(Stopwords) 제거\n",
    "* 사전word_to_index 구성\n",
    "* 텍스트 스트링을 사전 인덱스 스트링으로 변환\n",
    "* X_train, y_train, X_test, y_test, word_to_index 리턴"
   ]
  },
  {
   "cell_type": "code",
   "execution_count": 3,
   "metadata": {
    "id": "HtYRbMrgBbzB"
   },
   "outputs": [],
   "source": [
    "from konlpy.tag import Mecab\n",
    "tokenizer = Mecab()\n",
    "stopwords = ['의','가','이','은','들','는','좀','잘','걍','과','도','를','으로','자','에','와','한','하다']\n",
    "\n",
    "def load_data(train_data, test_data, num_words=10000):\n",
    "    # train data 전처리\n",
    "    train_data.drop_duplicates(subset=['document'], inplace=True)\n",
    "    train_data['document'] = train_data['document'].str.replace(\"[^ㄱ-ㅎㅏ-ㅣ가-힣 ]\",\"\")\n",
    "    train_data['document'] = train_data['document'].str.replace('^ +', \"\")\n",
    "    train_data['document'].replace('', np.nan, inplace=True)\n",
    "    train_data = train_data.dropna(how = 'any')\n",
    "\n",
    "    # test data 전처리\n",
    "    test_data.drop_duplicates(subset=['document'], inplace=True)\n",
    "    test_data['document'] = test_data['document'].str.replace(\"[^ㄱ-ㅎㅏ-ㅣ가-힣 ]\",\"\")\n",
    "    test_data['document'].replace('', np.nan, inplace=True)\n",
    "    test_data = test_data.dropna(how = 'any')\n",
    "\n",
    "    X_train = []\n",
    "    for sentence in train_data['document']:\n",
    "        temp_X = tokenizer.morphs(sentence) # 토큰화\n",
    "        temp_X = [word for word in temp_X if not word in stopwords] # 불용어 제거\n",
    "        X_train.append(temp_X)\n",
    "\n",
    "    X_test = []\n",
    "    for sentence in test_data['document']:\n",
    "        temp_X = tokenizer.morphs(sentence) # 토큰화\n",
    "        temp_X = [word for word in temp_X if not word in stopwords] # 불용어 제거\n",
    "        X_test.append(temp_X)\n",
    "    \n",
    "    words = np.concatenate(X_train).tolist()\n",
    "    counter = Counter(words)\n",
    "    counter = counter.most_common(10000-4)\n",
    "    vocab = ['<PAD>', '<BOS>', '<UNK>', '<UNUSED>'] + [key for key, _ in counter]\n",
    "    word_to_index = {word:index for index, word in enumerate(vocab)}    # {단어:숫자} 딕셔너리 생성\n",
    "        \n",
    "    def wordlist_to_indexlist(wordlist):\n",
    "        return [word_to_index[word] if word in word_to_index else word_to_index['<UNK>'] for word in wordlist]\n",
    "        \n",
    "    X_train = list(map(wordlist_to_indexlist, X_train))\n",
    "    X_test = list(map(wordlist_to_indexlist, X_test))\n",
    "        \n",
    "    return X_train, np.array(list(train_data['label'])), X_test, np.array(list(test_data['label'])), word_to_index"
   ]
  },
  {
   "cell_type": "code",
   "execution_count": 4,
   "metadata": {
    "id": "X0pU3qrlgOUq"
   },
   "outputs": [
    {
     "name": "stderr",
     "output_type": "stream",
     "text": [
      "/tmp/ipykernel_637/3500571215.py:8: FutureWarning: The default value of regex will change from True to False in a future version.\n",
      "  train_data['document'] = train_data['document'].str.replace(\"[^ㄱ-ㅎㅏ-ㅣ가-힣 ]\",\"\")\n",
      "/tmp/ipykernel_637/3500571215.py:9: FutureWarning: The default value of regex will change from True to False in a future version.\n",
      "  train_data['document'] = train_data['document'].str.replace('^ +', \"\")\n",
      "/tmp/ipykernel_637/3500571215.py:15: FutureWarning: The default value of regex will change from True to False in a future version.\n",
      "  test_data['document'] = test_data['document'].str.replace(\"[^ㄱ-ㅎㅏ-ㅣ가-힣 ]\",\"\")\n"
     ]
    },
    {
     "name": "stdout",
     "output_type": "stream",
     "text": [
      "train data 개수: 145393, test data 개수: 48995\n"
     ]
    }
   ],
   "source": [
    "X_train, y_train, X_test, y_test, word_to_index = load_data(train_data, test_data)\n",
    "print(f'train data 개수: {len(X_train)}, test data 개수: {len(X_test)}')"
   ]
  },
  {
   "cell_type": "code",
   "execution_count": 5,
   "metadata": {
    "id": "cFlLa1KNBb1e"
   },
   "outputs": [],
   "source": [
    "index_to_word = {index:word for word, index in word_to_index.items()}"
   ]
  },
  {
   "cell_type": "code",
   "execution_count": 6,
   "metadata": {
    "id": "Oz0fLeIxBb3m"
   },
   "outputs": [],
   "source": [
    "# 문장 1개를 활용할 딕셔너리와 함께 주면, 단어 인덱스 리스트 벡터로 변환해 주는 함수입니다. \n",
    "# 단, 모든 문장은 <BOS>로 시작하는 것으로 합니다. \n",
    "def get_encoded_sentence(sentence, word_to_index):\n",
    "    return [word_to_index['<BOS>']]+[word_to_index[word] if word in word_to_index else word_to_index['<UNK>'] for word in sentence.split()]\n",
    "\n",
    "# 여러 개의 문장 리스트를 한꺼번에 단어 인덱스 리스트 벡터로 encode해 주는 함수입니다. \n",
    "def get_encoded_sentences(sentences, word_to_index):\n",
    "    return [get_encoded_sentence(sentence, word_to_index) for sentence in sentences]\n",
    "\n",
    "# 숫자 벡터로 encode된 문장을 원래대로 decode하는 함수입니다. \n",
    "def get_decoded_sentence(encoded_sentence, index_to_word):\n",
    "    return ' '.join(index_to_word[index] if index in index_to_word else '<UNK>' for index in encoded_sentence[1:])  #[1:]를 통해 <BOS>를 제외\n",
    "\n",
    "# 여러 개의 숫자 벡터로 encode된 문장을 한꺼번에 원래대로 decode하는 함수입니다. \n",
    "def get_decoded_sentences(encoded_sentences, index_to_word):\n",
    "    return [get_decoded_sentence(encoded_sentence, index_to_word) for encoded_sentence in encoded_sentences]"
   ]
  },
  {
   "cell_type": "code",
   "execution_count": 7,
   "metadata": {
    "id": "UYVy-eHABb5-"
   },
   "outputs": [
    {
     "name": "stdout",
     "output_type": "stream",
     "text": [
      "[412, 30, 6, 776, 1584, 51, 34, 3757, 59, 2, 105, 10, 30, 26]\n",
      "재밌 고 새로운 에피소드 내 에서 메인 스토리 <UNK> 나오 게 재밌 음\n",
      "라벨:  1\n"
     ]
    }
   ],
   "source": [
    "print(X_train[99])\n",
    "print(get_decoded_sentence(X_train[99], index_to_word))\n",
    "print('라벨: ', y_train[99])  # 100번째 리뷰데이터의 라벨"
   ]
  },
  {
   "cell_type": "code",
   "execution_count": 8,
   "metadata": {
    "id": "KS5jHX6NBb8e"
   },
   "outputs": [
    {
     "name": "stdout",
     "output_type": "stream",
     "text": [
      "[27, 67, 895, 33, 214, 15, 28, 699]\n",
      "더 빙 진짜 짜증 나 네요 목소리\n",
      "라벨:  0\n"
     ]
    }
   ],
   "source": [
    "print(X_train[0])\n",
    "print(get_decoded_sentence(X_train[0], index_to_word))\n",
    "print('라벨: ', y_train[0])  # 1번째 리뷰데이터의 라벨"
   ]
  },
  {
   "cell_type": "markdown",
   "metadata": {
    "id": "KtvnnUcAOPKg"
   },
   "source": [
    "# 3. 모델 구성을 위한 데이터 분석 및 가공"
   ]
  },
  {
   "cell_type": "markdown",
   "metadata": {
    "id": "y_8JoD-pORCj"
   },
   "source": [
    "# maxlen 설정\n",
    "\n",
    "## 정규분포 기준 3$\\sigma$ 확인\n",
    "* maxlen이 48로 전체 분포에 대해 약 97% 설명한다.\n",
    "\n",
    "## 정규분포 기준 2$\\sigma$ 확인\n",
    "* maxlen이 36로 전체 분포에 대해 약 93% 설명한다."
   ]
  },
  {
   "cell_type": "code",
   "execution_count": 9,
   "metadata": {
    "id": "g-Mb82mmBb-7"
   },
   "outputs": [
    {
     "name": "stdout",
     "output_type": "stream",
     "text": [
      "문장길이 평균 :  13.785336543408029\n",
      "문장길이 최대 :  83\n",
      "문장길이 표준편차 :  11.457569297538202\n",
      "\n",
      "pad_sequences maxlen :  48\n",
      "3시그마 기준 전체 문장의 0.9725600345700351%가 maxlen 설정값 이내에 포함됩니다. \n",
      "\n",
      "pad_sequences maxlen :  36\n",
      "2시그마 기준 전체 문장의 0.9336790336852069%가 maxlen 설정값 이내에 포함됩니다. \n"
     ]
    }
   ],
   "source": [
    "total_data_text = list(X_train) + list(X_test)\n",
    "\n",
    "# 텍스트데이터 문장길이의 리스트를 생성한 후\n",
    "num_tokens = [len(tokens) for tokens in total_data_text]\n",
    "num_tokens = np.array(num_tokens)\n",
    "\n",
    "# 문장길이의 평균값, 최대값, 표준편차를 계산해 본다. \n",
    "print('문장길이 평균 : ', np.mean(num_tokens))\n",
    "print('문장길이 최대 : ', np.max(num_tokens))\n",
    "print('문장길이 표준편차 : ', np.std(num_tokens))\n",
    "\n",
    "# 3시그마 기준 \n",
    "max_tokens = np.mean(num_tokens) + 3 * np.std(num_tokens)\n",
    "maxlen = int(max_tokens)\n",
    "print('\\npad_sequences maxlen : ', maxlen)\n",
    "print('3시그마 기준 전체 문장의 {}%가 maxlen 설정값 이내에 포함됩니다. '.format(np.sum(num_tokens < max_tokens) / len(num_tokens)))\n",
    "\n",
    "# 2시그마 기준 \n",
    "max_tokens = np.mean(num_tokens) + 2 * np.std(num_tokens)\n",
    "maxlen = int(max_tokens)\n",
    "print('\\npad_sequences maxlen : ', maxlen)\n",
    "print('2시그마 기준 전체 문장의 {}%가 maxlen 설정값 이내에 포함됩니다. '.format(np.sum(num_tokens < max_tokens) / len(num_tokens)))"
   ]
  },
  {
   "cell_type": "markdown",
   "metadata": {
    "id": "2_DtulpEOV-s"
   },
   "source": [
    "## Box plot 기준 Outlier 최대 기준점 확인\n",
    "* maxlen이 33.5로 전체 분포에 대해 약 92% 설명한다."
   ]
  },
  {
   "cell_type": "code",
   "execution_count": 10,
   "metadata": {
    "id": "ELQQZv4GBcBc"
   },
   "outputs": [
    {
     "name": "stdout",
     "output_type": "stream",
     "text": [
      "pad_sequences maxlen :  33.5\n",
      "2시그마 기준 전체 문장의 0.9213583142992365%가 maxlen 설정값 이내에 포함됩니다. \n"
     ]
    }
   ],
   "source": [
    "def find_outlier(data):\n",
    "    q1, q3 = np.percentile(data, [25, 75])\n",
    "    \n",
    "    iqr = q3 - q1\n",
    "    \n",
    "    upper_bound = q3 + (iqr * 1.5) # Q3 + (iqr * 1.5)\n",
    "    \n",
    "    print('pad_sequences maxlen : ', upper_bound)\n",
    "    print('2시그마 기준 전체 문장의 {}%가 maxlen 설정값 이내에 포함됩니다. '.format(np.sum(num_tokens < upper_bound) / len(num_tokens)))\n",
    "\n",
    "find_outlier(num_tokens)"
   ]
  },
  {
   "cell_type": "markdown",
   "metadata": {
    "id": "G1-eFMUSOY20"
   },
   "source": [
    "## 전체 분포 및 Box Plot 확인"
   ]
  },
  {
   "cell_type": "code",
   "execution_count": 11,
   "metadata": {
    "id": "Lnqoc_rRBcD2"
   },
   "outputs": [
    {
     "data": {
      "text/plain": [
       "Text(47, 0.58, '48')"
      ]
     },
     "execution_count": 11,
     "metadata": {},
     "output_type": "execute_result"
    },
    {
     "data": {
      "image/png": "[encoded data removed]",
      "text/plain": [
       "<Figure size 1080x576 with 2 Axes>"
      ]
     },
     "metadata": {
      "needs_background": "light"
     },
     "output_type": "display_data"
    }
   ],
   "source": [
    "plt.figure(figsize=(15,8))\n",
    "\n",
    "plt.subplot(2,1,1)\n",
    "sns.histplot(num_tokens)\n",
    "plt.title('Histogram Length of Sentences')\n",
    "\n",
    "plt.axvline(x=33, color='green', linewidth=2) # boxplot 기준점\n",
    "plt.text(33, 0.58, 33, color='green')\n",
    "plt.axvline(x=36, color='black', linewidth=2) # 2시그마 기준점\n",
    "plt.text(35, 0.58, 36, color='black')\n",
    "plt.axvline(x=48, color='red', linewidth=2) # 3시그마 기준점\n",
    "plt.text(47, 0.58, 48, color='red')\n",
    "\n",
    "plt.subplot(2,1,2)\n",
    "sns.boxplot(data=num_tokens, orient='h')\n",
    "plt.title('Boxplot Length of Sentences')\n",
    "\n",
    "plt.axvline(x=33, color='green', linewidth=2) # boxplot 기준점\n",
    "plt.text(33, 0.58, 33, color='green')\n",
    "plt.axvline(x=36, color='black', linewidth=2) # 2시그마 기준점\n",
    "plt.text(35, 0.58, 36, color='black')\n",
    "plt.axvline(x=48, color='red', linewidth=2) # 3시그마 기준점\n",
    "plt.text(47, 0.58, 48, color='red')"
   ]
  },
  {
   "cell_type": "markdown",
   "metadata": {
    "id": "Kx5h0K1GOcK8"
   },
   "source": [
    "# maxlen : 36 으로 설정\n",
    "\n",
    "* 상자그림의 maxlen : 33, distribution에 대해 약 92%의 설명력을 가짐\n",
    "* 2$\\sigma$ 의 maxlen : 36, distribution에 대해 약 93%의 설명력을 가짐\n",
    "* 3$\\sigma$ 의 maxlen : 48, distribution에 대해 약 97%의 설명력을 가짐\n",
    "\n",
    "이 값들의 분포가 3$\\sigma$처럼 maxlen이 커지면 자칫 모델이 편향될 수 있다. 그렇다고 BoxPlot의 Outlier 기준점인 33으로 자른다고 해서 데이터 자체가 이상치라고 볼 수 없다. 그러므로 분포의 2$\\sigma$를 취한 36개의 maxlen을 취하는 것이 합리적이며 보다 Robust하게 모델이 생성될 것으로 예상된다."
   ]
  },
  {
   "cell_type": "code",
   "execution_count": 12,
   "metadata": {
    "id": "FKci9_k3BcGQ"
   },
   "outputs": [],
   "source": [
    "maxlen = 36"
   ]
  },
  {
   "cell_type": "markdown",
   "metadata": {
    "id": "D_75m5KKOfV_"
   },
   "source": [
    "# padding 적용\n",
    "* `keras.preprocessing.sequence.pad_sequences` 을 활용하여 패딩을 추가한다.\n",
    "* padding 방식에 대해 문장 뒤쪽('post')과 앞쪽('pre') 중 어느쪽으로 하느냐에 따라 RNN을 이용한 딥러닝 적용 시 성능 차이가 발생하는 것을 확인하기위해 두 가지 방법을 각각 적용하여 진행한다."
   ]
  },
  {
   "cell_type": "code",
   "execution_count": 13,
   "metadata": {
    "id": "FG9_u5DGBcIn"
   },
   "outputs": [
    {
     "name": "stdout",
     "output_type": "stream",
     "text": [
      "(145393, 36)\n"
     ]
    }
   ],
   "source": [
    "X_train_pre = keras.preprocessing.sequence.pad_sequences(X_train,\n",
    "                                                        value=word_to_index[\"<PAD>\"],\n",
    "                                                        padding='pre',\n",
    "                                                        maxlen=maxlen)\n",
    "\n",
    "X_test_pre = keras.preprocessing.sequence.pad_sequences(X_test,\n",
    "                                                       value=word_to_index[\"<PAD>\"],\n",
    "                                                       padding='pre', \n",
    "                                                       maxlen=maxlen)\n",
    "\n",
    "print(X_train_pre.shape)"
   ]
  },
  {
   "cell_type": "code",
   "execution_count": 14,
   "metadata": {
    "id": "HanjIQ7pBcLP"
   },
   "outputs": [
    {
     "name": "stdout",
     "output_type": "stream",
     "text": [
      "(145393, 36)\n"
     ]
    }
   ],
   "source": [
    "X_train_post = keras.preprocessing.sequence.pad_sequences(X_train,\n",
    "                                                        value=word_to_index[\"<PAD>\"],\n",
    "                                                        padding='post',\n",
    "                                                        maxlen=maxlen)\n",
    "\n",
    "X_test_post = keras.preprocessing.sequence.pad_sequences(X_test,\n",
    "                                                       value=word_to_index[\"<PAD>\"],\n",
    "                                                       padding='post', \n",
    "                                                       maxlen=maxlen)\n",
    "\n",
    "print(X_train_post.shape)"
   ]
  },
  {
   "cell_type": "code",
   "execution_count": 15,
   "metadata": {
    "id": "NkZfCCVQBcNr"
   },
   "outputs": [
    {
     "name": "stdout",
     "output_type": "stream",
     "text": [
      "[   0    0    0    0    0    0    0    0    0    0    0    0    0    0\n",
      "    0    0    0    0    0    0    0    0  412   30    6  776 1584   51\n",
      "   34 3757   59    2  105   10   30   26]\n",
      "<PAD> <PAD> <PAD> <PAD> <PAD> <PAD> <PAD> <PAD> <PAD> <PAD> <PAD> <PAD> <PAD> <PAD> <PAD> <PAD> <PAD> <PAD> <PAD> <PAD> <PAD> 설정 재밌 고 새로운 에피소드 내 에서 메인 스토리 <UNK> 나오 게 재밌 음\n",
      "라벨:  1\n"
     ]
    }
   ],
   "source": [
    "print(X_train_pre[99])\n",
    "print(get_decoded_sentence(X_train_pre[99], index_to_word))\n",
    "print('라벨: ', y_train[99])  # 100번째 리뷰데이터의 라벨"
   ]
  },
  {
   "cell_type": "code",
   "execution_count": 16,
   "metadata": {
    "id": "BLpkxQNdBcQL"
   },
   "outputs": [
    {
     "name": "stdout",
     "output_type": "stream",
     "text": [
      "[ 412   30    6  776 1584   51   34 3757   59    2  105   10   30   26\n",
      "    0    0    0    0    0    0    0    0    0    0    0    0    0    0\n",
      "    0    0    0    0    0    0    0    0]\n",
      "재밌 고 새로운 에피소드 내 에서 메인 스토리 <UNK> 나오 게 재밌 음 <PAD> <PAD> <PAD> <PAD> <PAD> <PAD> <PAD> <PAD> <PAD> <PAD> <PAD> <PAD> <PAD> <PAD> <PAD> <PAD> <PAD> <PAD> <PAD> <PAD> <PAD> <PAD>\n",
      "라벨:  1\n"
     ]
    }
   ],
   "source": [
    "print(X_train_post[99])\n",
    "print(get_decoded_sentence(X_train_post[99], index_to_word))\n",
    "print('라벨: ', y_train[99])  # 100번째 리뷰데이터의 라벨"
   ]
  },
  {
   "cell_type": "markdown",
   "metadata": {
    "id": "pLm4yVE_Olzk"
   },
   "source": [
    "# 4. validation set 구성 및 모델 학습"
   ]
  },
  {
   "cell_type": "markdown",
   "metadata": {
    "id": "07AkixxNOnib"
   },
   "source": [
    "## validation set 분리"
   ]
  },
  {
   "cell_type": "code",
   "execution_count": 17,
   "metadata": {
    "id": "4OLjI7l0BcSw"
   },
   "outputs": [
    {
     "name": "stdout",
     "output_type": "stream",
     "text": [
      "(45000, 36)\n",
      "(45000, 36)\n",
      "(45000,)\n",
      "(100393, 36)\n",
      "(100393, 36)\n",
      "(100393,)\n"
     ]
    }
   ],
   "source": [
    "# validation set 10000건 분리\n",
    "X_val_pre = X_train_pre[:45000]    # pre 패딩된 train set 분리\n",
    "X_val_post = X_train_post[:45000]  # post 패딩된 train set 분리\n",
    "y_val = y_train[:45000]\n",
    "\n",
    "# validation set을 제외한 나머지\n",
    "partial_X_train_pre = X_train_pre[45000:]\n",
    "partial_X_train_post = X_train_post[45000:]\n",
    "partial_y_train = y_train[45000:]\n",
    "\n",
    "\n",
    "# validation set 갯수\n",
    "print(X_val_pre.shape)\n",
    "print(X_val_post.shape)\n",
    "print(y_val.shape)\n",
    "\n",
    "# 나머지 train set 갯수\n",
    "print(partial_X_train_pre.shape)\n",
    "print(partial_X_train_post.shape)\n",
    "print(partial_y_train.shape)"
   ]
  },
  {
   "cell_type": "markdown",
   "metadata": {
    "id": "X9xOAQjUOrvM"
   },
   "source": [
    "## 모델구성\n",
    "### 1. LSTM(pre, post)\n",
    "### 2. GRU(pre, post)\n",
    "### 3. 1-D CNN(pre, post)\n",
    "### 4. GlobalMaxPooling1D(pre, post)"
   ]
  },
  {
   "cell_type": "markdown",
   "metadata": {
    "id": "8Am318GKOtM2"
   },
   "source": [
    "# 4.1 LSTM Pre"
   ]
  },
  {
   "cell_type": "code",
   "execution_count": 18,
   "metadata": {
    "id": "fPLqcW2PBcVW"
   },
   "outputs": [
    {
     "name": "stdout",
     "output_type": "stream",
     "text": [
      "Model: \"sequential\"\n",
      "_________________________________________________________________\n",
      "Layer (type)                 Output Shape              Param #   \n",
      "=================================================================\n",
      "embedding (Embedding)        (None, None, 16)          160000    \n",
      "_________________________________________________________________\n",
      "lstm (LSTM)                  (None, 8)                 800       \n",
      "_________________________________________________________________\n",
      "dense (Dense)                (None, 8)                 72        \n",
      "_________________________________________________________________\n",
      "dense_1 (Dense)              (None, 1)                 9         \n",
      "=================================================================\n",
      "Total params: 160,881\n",
      "Trainable params: 160,881\n",
      "Non-trainable params: 0\n",
      "_________________________________________________________________\n"
     ]
    }
   ],
   "source": [
    "vocab_size = 10000    # 어휘 사전의 크기입니다(10,000개의 단어)\n",
    "word_vector_dim = 16  # 워드 벡터의 차원 수 (변경 가능한 하이퍼파라미터)\n",
    "\n",
    "# model 설계 - 딥러닝 모델 코드를 직접 작성해 주세요.\n",
    "model_lstm_pre = keras.Sequential()\n",
    "model_lstm_pre.add(keras.layers.Embedding(vocab_size, word_vector_dim, input_shape=(None,)))\n",
    "model_lstm_pre.add(keras.layers.LSTM(8))\n",
    "model_lstm_pre.add(keras.layers.Dense(8, activation='relu'))\n",
    "model_lstm_pre.add(keras.layers.Dense(1, activation='sigmoid'))  # 최종 출력은 긍정/부정을 나타내는 1dim\n",
    "\n",
    "model_lstm_pre.summary()"
   ]
  },
  {
   "cell_type": "code",
   "execution_count": 19,
   "metadata": {
    "id": "J-aYaHOjBcYB"
   },
   "outputs": [
    {
     "name": "stdout",
     "output_type": "stream",
     "text": [
      "Epoch 1/5\n",
      "1569/1569 [==============================] - 12s 5ms/step - loss: 0.4141 - accuracy: 0.8098 - val_loss: 0.3549 - val_accuracy: 0.8414\n",
      "Epoch 2/5\n",
      "1569/1569 [==============================] - 8s 5ms/step - loss: 0.3339 - accuracy: 0.8556 - val_loss: 0.3548 - val_accuracy: 0.8406\n",
      "Epoch 3/5\n",
      "1569/1569 [==============================] - 8s 5ms/step - loss: 0.3030 - accuracy: 0.8693 - val_loss: 0.3478 - val_accuracy: 0.8460\n",
      "Epoch 4/5\n",
      "1569/1569 [==============================] - 8s 5ms/step - loss: 0.2731 - accuracy: 0.8823 - val_loss: 0.3536 - val_accuracy: 0.8483\n",
      "Epoch 5/5\n",
      "1569/1569 [==============================] - 8s 5ms/step - loss: 0.2464 - accuracy: 0.8952 - val_loss: 0.3809 - val_accuracy: 0.8469\n"
     ]
    }
   ],
   "source": [
    "model_lstm_pre.compile(optimizer='adam',\n",
    "                   loss='binary_crossentropy',\n",
    "                   metrics=['accuracy'])\n",
    "\n",
    "history_lstm_pre = model_lstm_pre.fit(partial_X_train_pre,\n",
    "                                  partial_y_train,\n",
    "                                  epochs=5,\n",
    "                                  batch_size=64,\n",
    "                                  validation_data=(X_val_pre, y_val),\n",
    "                                  verbose=1)"
   ]
  },
  {
   "cell_type": "code",
   "execution_count": 20,
   "metadata": {
    "id": "argeE6E1Bcat"
   },
   "outputs": [
    {
     "data": {
      "image/png": "[encoded data removed]",
      "text/plain": [
       "<Figure size 1080x288 with 2 Axes>"
      ]
     },
     "metadata": {
      "needs_background": "light"
     },
     "output_type": "display_data"
    }
   ],
   "source": [
    "history_rnn_pre_result = history_lstm_pre.history\n",
    "\n",
    "acc = history_rnn_pre_result['accuracy']\n",
    "val_acc = history_rnn_pre_result['val_accuracy']\n",
    "loss = history_rnn_pre_result['loss']\n",
    "val_loss = history_rnn_pre_result['val_loss']\n",
    "\n",
    "epochs = range(1, len(acc) + 1)\n",
    "\n",
    "plt.figure(figsize=(15,4))\n",
    "\n",
    "# loss 그래프\n",
    "plt.subplot(1,2,1)\n",
    "plt.plot(epochs, loss, 'r', label='Training loss')\n",
    "plt.plot(epochs, val_loss, 'b', label='Validation loss')\n",
    "plt.title('Training and validation loss')\n",
    "plt.xlabel('Epochs')\n",
    "plt.ylabel('Loss')\n",
    "plt.legend()\n",
    "\n",
    "# accuracy 그래프\n",
    "plt.subplot(1,2,2)\n",
    "plt.plot(epochs, acc, 'r', label='Training acc')\n",
    "plt.plot(epochs, val_acc, 'b', label='Validation acc')\n",
    "plt.title('Training and validation accuracy')\n",
    "plt.xlabel('Epochs')\n",
    "plt.ylabel('Accuracy')\n",
    "plt.legend()\n",
    "\n",
    "plt.show()"
   ]
  },
  {
   "cell_type": "code",
   "execution_count": 21,
   "metadata": {
    "id": "jIhuZEsABcdQ"
   },
   "outputs": [
    {
     "name": "stdout",
     "output_type": "stream",
     "text": [
      "1532/1532 - 3s - loss: 0.3884 - accuracy: 0.8418\n",
      "[0.3883804976940155, 0.8417593836784363]\n"
     ]
    }
   ],
   "source": [
    "results = model_lstm_pre.evaluate(X_test_pre,  y_test, verbose=2)\n",
    "print(results)"
   ]
  },
  {
   "cell_type": "markdown",
   "metadata": {
    "id": "r4iqDa9fO-6O"
   },
   "source": [
    "# 4.2 LSTM Post"
   ]
  },
  {
   "cell_type": "code",
   "execution_count": 22,
   "metadata": {
    "id": "KXXAVMrEBcfn"
   },
   "outputs": [
    {
     "name": "stdout",
     "output_type": "stream",
     "text": [
      "Model: \"sequential_1\"\n",
      "_________________________________________________________________\n",
      "Layer (type)                 Output Shape              Param #   \n",
      "=================================================================\n",
      "embedding_1 (Embedding)      (None, None, 16)          160000    \n",
      "_________________________________________________________________\n",
      "lstm_1 (LSTM)                (None, 8)                 800       \n",
      "_________________________________________________________________\n",
      "dense_2 (Dense)              (None, 8)                 72        \n",
      "_________________________________________________________________\n",
      "dense_3 (Dense)              (None, 1)                 9         \n",
      "=================================================================\n",
      "Total params: 160,881\n",
      "Trainable params: 160,881\n",
      "Non-trainable params: 0\n",
      "_________________________________________________________________\n"
     ]
    }
   ],
   "source": [
    "vocab_size = 10000    # 어휘 사전의 크기입니다(10,000개의 단어)\n",
    "word_vector_dim = 16  # 워드 벡터의 차원 수 (변경 가능한 하이퍼파라미터)\n",
    "\n",
    "# model 설계 - 딥러닝 모델 코드를 직접 작성해 주세요.\n",
    "model_lstm_post = keras.Sequential()\n",
    "model_lstm_post.add(keras.layers.Embedding(vocab_size, word_vector_dim, input_shape=(None,)))\n",
    "model_lstm_post.add(keras.layers.LSTM(8))\n",
    "model_lstm_post.add(keras.layers.Dense(8, activation='relu'))\n",
    "model_lstm_post.add(keras.layers.Dense(1, activation='sigmoid'))  # 최종 출력은 긍정/부정을 나타내는 1dim\n",
    "\n",
    "model_lstm_post.summary()"
   ]
  },
  {
   "cell_type": "code",
   "execution_count": 23,
   "metadata": {
    "id": "4q6XBTJmBcif"
   },
   "outputs": [
    {
     "name": "stdout",
     "output_type": "stream",
     "text": [
      "Epoch 1/5\n",
      "1569/1569 [==============================] - 10s 5ms/step - loss: 0.4117 - accuracy: 0.8156 - val_loss: 0.3496 - val_accuracy: 0.8457\n",
      "Epoch 2/5\n",
      "1569/1569 [==============================] - 8s 5ms/step - loss: 0.3217 - accuracy: 0.8616 - val_loss: 0.3408 - val_accuracy: 0.8498\n",
      "Epoch 3/5\n",
      "1569/1569 [==============================] - 8s 5ms/step - loss: 0.2857 - accuracy: 0.8789 - val_loss: 0.3508 - val_accuracy: 0.8468\n",
      "Epoch 4/5\n",
      "1569/1569 [==============================] - 8s 5ms/step - loss: 0.2568 - accuracy: 0.8919 - val_loss: 0.3588 - val_accuracy: 0.8480\n",
      "Epoch 5/5\n",
      "1569/1569 [==============================] - 8s 5ms/step - loss: 0.2329 - accuracy: 0.9023 - val_loss: 0.3749 - val_accuracy: 0.8476\n"
     ]
    }
   ],
   "source": [
    "model_lstm_post.compile(optimizer='adam',\n",
    "                   loss='binary_crossentropy',\n",
    "                   metrics=['accuracy'])\n",
    "\n",
    "history_lstm_post = model_lstm_post.fit(partial_X_train_pre,\n",
    "                                  partial_y_train,\n",
    "                                  epochs=5,\n",
    "                                  batch_size=64,\n",
    "                                  validation_data=(X_val_pre, y_val),\n",
    "                                  verbose=1)"
   ]
  },
  {
   "cell_type": "code",
   "execution_count": 24,
   "metadata": {
    "id": "eC77819WBck9"
   },
   "outputs": [
    {
     "data": {
      "image/png": "[encoded data removed]",
      "text/plain": [
       "<Figure size 1080x288 with 2 Axes>"
      ]
     },
     "metadata": {
      "needs_background": "light"
     },
     "output_type": "display_data"
    }
   ],
   "source": [
    "history_lstm_post_result = history_lstm_post.history\n",
    "\n",
    "acc = history_lstm_post_result['accuracy']\n",
    "val_acc = history_lstm_post_result['val_accuracy']\n",
    "loss = history_lstm_post_result['loss']\n",
    "val_loss = history_lstm_post_result['val_loss']\n",
    "\n",
    "epochs = range(1, len(acc) + 1)\n",
    "\n",
    "plt.figure(figsize=(15,4))\n",
    "\n",
    "# loss 그래프\n",
    "plt.subplot(1,2,1)\n",
    "plt.plot(epochs, loss, 'r', label='Training loss')\n",
    "plt.plot(epochs, val_loss, 'b', label='Validation loss')\n",
    "plt.title('Training and validation loss')\n",
    "plt.xlabel('Epochs')\n",
    "plt.ylabel('Loss')\n",
    "plt.legend()\n",
    "\n",
    "# accuracy 그래프\n",
    "plt.subplot(1,2,2)\n",
    "plt.plot(epochs, acc, 'r', label='Training acc')\n",
    "plt.plot(epochs, val_acc, 'b', label='Validation acc')\n",
    "plt.title('Training and validation accuracy')\n",
    "plt.xlabel('Epochs')\n",
    "plt.ylabel('Accuracy')\n",
    "plt.legend()\n",
    "\n",
    "plt.show()"
   ]
  },
  {
   "cell_type": "code",
   "execution_count": 25,
   "metadata": {
    "id": "tIssjx6BBcnx"
   },
   "outputs": [
    {
     "name": "stdout",
     "output_type": "stream",
     "text": [
      "1532/1532 - 3s - loss: 0.6830 - accuracy: 0.5335\n",
      "[0.6829617619514465, 0.5334625840187073]\n"
     ]
    }
   ],
   "source": [
    "results = model_lstm_post.evaluate(X_test_post,  y_test, verbose=2)\n",
    "print(results)"
   ]
  },
  {
   "cell_type": "markdown",
   "metadata": {
    "id": "LBlHhgjTPZhU"
   },
   "source": [
    "# 4.3 GRU Pre"
   ]
  },
  {
   "cell_type": "code",
   "execution_count": 26,
   "metadata": {
    "id": "0Y39m3fsP3TM"
   },
   "outputs": [
    {
     "name": "stdout",
     "output_type": "stream",
     "text": [
      "Model: \"sequential_2\"\n",
      "_________________________________________________________________\n",
      "Layer (type)                 Output Shape              Param #   \n",
      "=================================================================\n",
      "embedding_2 (Embedding)      (None, None, 16)          160000    \n",
      "_________________________________________________________________\n",
      "gru (GRU)                    (None, 8)                 624       \n",
      "_________________________________________________________________\n",
      "dense_4 (Dense)              (None, 8)                 72        \n",
      "_________________________________________________________________\n",
      "dense_5 (Dense)              (None, 1)                 9         \n",
      "=================================================================\n",
      "Total params: 160,705\n",
      "Trainable params: 160,705\n",
      "Non-trainable params: 0\n",
      "_________________________________________________________________\n"
     ]
    }
   ],
   "source": [
    "vocab_size = 10000    # 어휘 사전의 크기입니다(10,000개의 단어)\n",
    "word_vector_dim = 16  # 워드 벡터의 차원 수 (변경 가능한 하이퍼파라미터)\n",
    "\n",
    "# model 설계 - 딥러닝 모델 코드를 직접 작성해 주세요.\n",
    "model_gru_pre = keras.Sequential()\n",
    "model_gru_pre.add(keras.layers.Embedding(vocab_size, word_vector_dim, input_shape=(None,)))\n",
    "model_gru_pre.add(keras.layers.GRU(8))\n",
    "model_gru_pre.add(keras.layers.Dense(8, activation='relu'))\n",
    "model_gru_pre.add(keras.layers.Dense(1, activation='sigmoid'))  # 최종 출력은 긍정/부정을 나타내는 1dim\n",
    "\n",
    "model_gru_pre.summary()"
   ]
  },
  {
   "cell_type": "code",
   "execution_count": 27,
   "metadata": {
    "id": "skdEK-28P3Nu"
   },
   "outputs": [
    {
     "name": "stdout",
     "output_type": "stream",
     "text": [
      "Epoch 1/5\n",
      "1569/1569 [==============================] - 10s 5ms/step - loss: 0.4231 - accuracy: 0.8065 - val_loss: 0.3599 - val_accuracy: 0.8415\n",
      "Epoch 2/5\n",
      "1569/1569 [==============================] - 8s 5ms/step - loss: 0.3395 - accuracy: 0.8540 - val_loss: 0.3497 - val_accuracy: 0.8464\n",
      "Epoch 3/5\n",
      "1569/1569 [==============================] - 8s 5ms/step - loss: 0.3082 - accuracy: 0.8701 - val_loss: 0.3432 - val_accuracy: 0.8501\n",
      "Epoch 4/5\n",
      "1569/1569 [==============================] - 8s 5ms/step - loss: 0.2805 - accuracy: 0.8837 - val_loss: 0.3500 - val_accuracy: 0.8488\n",
      "Epoch 5/5\n",
      "1569/1569 [==============================] - 8s 5ms/step - loss: 0.2563 - accuracy: 0.8945 - val_loss: 0.3583 - val_accuracy: 0.8478\n"
     ]
    }
   ],
   "source": [
    "model_gru_pre.compile(optimizer='adam',\n",
    "                   loss='binary_crossentropy',\n",
    "                   metrics=['accuracy'])\n",
    "\n",
    "history_gru_pre = model_gru_pre.fit(partial_X_train_pre,\n",
    "                                  partial_y_train,\n",
    "                                  epochs=5,\n",
    "                                  batch_size=64,\n",
    "                                  validation_data=(X_val_pre, y_val),\n",
    "                                  verbose=1)"
   ]
  },
  {
   "cell_type": "code",
   "execution_count": 28,
   "metadata": {
    "id": "xQigSWJnP3Hr"
   },
   "outputs": [
    {
     "data": {
      "image/png": "[encoded data removed]",
      "text/plain": [
       "<Figure size 1080x288 with 2 Axes>"
      ]
     },
     "metadata": {
      "needs_background": "light"
     },
     "output_type": "display_data"
    }
   ],
   "source": [
    "history_gru_pre_result = history_gru_pre.history\n",
    "\n",
    "acc = history_gru_pre_result['accuracy']\n",
    "val_acc = history_gru_pre_result['val_accuracy']\n",
    "loss = history_gru_pre_result['loss']\n",
    "val_loss = history_gru_pre_result['val_loss']\n",
    "\n",
    "epochs = range(1, len(acc) + 1)\n",
    "\n",
    "plt.figure(figsize=(15,4))\n",
    "\n",
    "# loss 그래프\n",
    "plt.subplot(1,2,1)\n",
    "plt.plot(epochs, loss, 'r', label='Training loss')\n",
    "plt.plot(epochs, val_loss, 'b', label='Validation loss')\n",
    "plt.title('Training and validation loss')\n",
    "plt.xlabel('Epochs')\n",
    "plt.ylabel('Loss')\n",
    "plt.legend()\n",
    "\n",
    "# accuracy 그래프\n",
    "plt.subplot(1,2,2)\n",
    "plt.plot(epochs, acc, 'r', label='Training acc')\n",
    "plt.plot(epochs, val_acc, 'b', label='Validation acc')\n",
    "plt.title('Training and validation accuracy')\n",
    "plt.xlabel('Epochs')\n",
    "plt.ylabel('Accuracy')\n",
    "plt.legend()\n",
    "\n",
    "plt.show()"
   ]
  },
  {
   "cell_type": "code",
   "execution_count": 29,
   "metadata": {
    "id": "IJLU1J5zP3CN"
   },
   "outputs": [
    {
     "name": "stdout",
     "output_type": "stream",
     "text": [
      "1532/1532 - 3s - loss: 0.3611 - accuracy: 0.8442\n",
      "[0.36109423637390137, 0.8442085981369019]\n"
     ]
    }
   ],
   "source": [
    "results = model_gru_pre.evaluate(X_test_pre,  y_test, verbose=2)\n",
    "print(results)"
   ]
  },
  {
   "cell_type": "markdown",
   "metadata": {
    "id": "xWFRDjxxPgcr"
   },
   "source": [
    "# 4.4 GRU Post"
   ]
  },
  {
   "cell_type": "code",
   "execution_count": 30,
   "metadata": {
    "id": "bQEB2UmtP40L"
   },
   "outputs": [
    {
     "name": "stdout",
     "output_type": "stream",
     "text": [
      "Model: \"sequential_3\"\n",
      "_________________________________________________________________\n",
      "Layer (type)                 Output Shape              Param #   \n",
      "=================================================================\n",
      "embedding_3 (Embedding)      (None, None, 16)          160000    \n",
      "_________________________________________________________________\n",
      "lstm_2 (LSTM)                (None, 8)                 800       \n",
      "_________________________________________________________________\n",
      "dense_6 (Dense)              (None, 8)                 72        \n",
      "_________________________________________________________________\n",
      "dense_7 (Dense)              (None, 1)                 9         \n",
      "=================================================================\n",
      "Total params: 160,881\n",
      "Trainable params: 160,881\n",
      "Non-trainable params: 0\n",
      "_________________________________________________________________\n"
     ]
    }
   ],
   "source": [
    "vocab_size = 10000    # 어휘 사전의 크기입니다(10,000개의 단어)\n",
    "word_vector_dim = 16  # 워드 벡터의 차원 수 (변경 가능한 하이퍼파라미터)\n",
    "\n",
    "# model 설계 - 딥러닝 모델 코드를 직접 작성해 주세요.\n",
    "model_gru_post = keras.Sequential()\n",
    "model_gru_post.add(keras.layers.Embedding(vocab_size, word_vector_dim, input_shape=(None,)))\n",
    "model_gru_post.add(keras.layers.LSTM(8))\n",
    "model_gru_post.add(keras.layers.Dense(8, activation='relu'))\n",
    "model_gru_post.add(keras.layers.Dense(1, activation='sigmoid'))  # 최종 출력은 긍정/부정을 나타내는 1dim\n",
    "\n",
    "model_gru_post.summary()"
   ]
  },
  {
   "cell_type": "code",
   "execution_count": 31,
   "metadata": {
    "id": "Gshm2v65P4vz"
   },
   "outputs": [
    {
     "name": "stdout",
     "output_type": "stream",
     "text": [
      "Epoch 1/5\n",
      "1569/1569 [==============================] - 10s 5ms/step - loss: 0.4210 - accuracy: 0.8093 - val_loss: 0.3603 - val_accuracy: 0.8421\n",
      "Epoch 2/5\n",
      "1569/1569 [==============================] - 8s 5ms/step - loss: 0.3390 - accuracy: 0.8535 - val_loss: 0.3513 - val_accuracy: 0.8456\n",
      "Epoch 3/5\n",
      "1569/1569 [==============================] - 8s 5ms/step - loss: 0.3106 - accuracy: 0.8673 - val_loss: 0.3529 - val_accuracy: 0.8441\n",
      "Epoch 4/5\n",
      "1569/1569 [==============================] - 8s 5ms/step - loss: 0.2857 - accuracy: 0.8782 - val_loss: 0.3572 - val_accuracy: 0.8465\n",
      "Epoch 5/5\n",
      "1569/1569 [==============================] - 8s 5ms/step - loss: 0.2627 - accuracy: 0.8887 - val_loss: 0.3689 - val_accuracy: 0.8482\n"
     ]
    }
   ],
   "source": [
    "model_gru_post.compile(optimizer='adam',\n",
    "                   loss='binary_crossentropy',\n",
    "                   metrics=['accuracy'])\n",
    "\n",
    "history_gru_post = model_gru_post.fit(partial_X_train_pre,\n",
    "                                  partial_y_train,\n",
    "                                  epochs=5,\n",
    "                                  batch_size=64,\n",
    "                                  validation_data=(X_val_pre, y_val),\n",
    "                                  verbose=1)"
   ]
  },
  {
   "cell_type": "code",
   "execution_count": 32,
   "metadata": {
    "id": "UVu3uPXsP4tV"
   },
   "outputs": [
    {
     "data": {
      "image/png": "[encoded data removed]",
      "text/plain": [
       "<Figure size 1080x288 with 2 Axes>"
      ]
     },
     "metadata": {
      "needs_background": "light"
     },
     "output_type": "display_data"
    }
   ],
   "source": [
    "history_gru_post_result = history_gru_post.history\n",
    "\n",
    "acc = history_gru_post_result['accuracy']\n",
    "val_acc = history_gru_post_result['val_accuracy']\n",
    "loss = history_gru_post_result['loss']\n",
    "val_loss = history_gru_post_result['val_loss']\n",
    "\n",
    "epochs = range(1, len(acc) + 1)\n",
    "\n",
    "plt.figure(figsize=(15,4))\n",
    "\n",
    "# loss 그래프\n",
    "plt.subplot(1,2,1)\n",
    "plt.plot(epochs, loss, 'r', label='Training loss')\n",
    "plt.plot(epochs, val_loss, 'b', label='Validation loss')\n",
    "plt.title('Training and validation loss')\n",
    "plt.xlabel('Epochs')\n",
    "plt.ylabel('Loss')\n",
    "plt.legend()\n",
    "\n",
    "# accuracy 그래프\n",
    "plt.subplot(1,2,2)\n",
    "plt.plot(epochs, acc, 'r', label='Training acc')\n",
    "plt.plot(epochs, val_acc, 'b', label='Validation acc')\n",
    "plt.title('Training and validation accuracy')\n",
    "plt.xlabel('Epochs')\n",
    "plt.ylabel('Accuracy')\n",
    "plt.legend()\n",
    "\n",
    "plt.show()"
   ]
  },
  {
   "cell_type": "code",
   "execution_count": 33,
   "metadata": {
    "id": "hQy84PEPP4rE"
   },
   "outputs": [
    {
     "name": "stdout",
     "output_type": "stream",
     "text": [
      "1532/1532 - 3s - loss: 0.6431 - accuracy: 0.6074\n",
      "[0.6430603861808777, 0.6074497103691101]\n"
     ]
    }
   ],
   "source": [
    "results = model_gru_post.evaluate(X_test_post,  y_test, verbose=2)\n",
    "print(results)"
   ]
  },
  {
   "cell_type": "markdown",
   "metadata": {
    "id": "6aYXfAiEPhE8"
   },
   "source": [
    "# 4.5 1-D CNN Pre"
   ]
  },
  {
   "cell_type": "code",
   "execution_count": 34,
   "metadata": {
    "id": "WPMjHMnQP6Cf"
   },
   "outputs": [
    {
     "name": "stdout",
     "output_type": "stream",
     "text": [
      "Model: \"sequential_4\"\n",
      "_________________________________________________________________\n",
      "Layer (type)                 Output Shape              Param #   \n",
      "=================================================================\n",
      "embedding_4 (Embedding)      (None, None, 16)          160000    \n",
      "_________________________________________________________________\n",
      "conv1d (Conv1D)              (None, None, 16)          1296      \n",
      "_________________________________________________________________\n",
      "max_pooling1d (MaxPooling1D) (None, None, 16)          0         \n",
      "_________________________________________________________________\n",
      "conv1d_1 (Conv1D)            (None, None, 16)          1296      \n",
      "_________________________________________________________________\n",
      "global_max_pooling1d (Global (None, 16)                0         \n",
      "_________________________________________________________________\n",
      "dense_8 (Dense)              (None, 8)                 136       \n",
      "_________________________________________________________________\n",
      "dense_9 (Dense)              (None, 1)                 9         \n",
      "=================================================================\n",
      "Total params: 162,737\n",
      "Trainable params: 162,737\n",
      "Non-trainable params: 0\n",
      "_________________________________________________________________\n"
     ]
    }
   ],
   "source": [
    "vocab_size = 10000    # 어휘 사전의 크기입니다(10,000개의 단어)\n",
    "word_vector_dim = 16  # 워드 벡터의 차원 수 (변경 가능한 하이퍼파라미터)\n",
    "\n",
    "# model 설계 - 딥러닝 모델 코드를 직접 작성해 주세요.\n",
    "model_cnn_pre = keras.Sequential()\n",
    "model_cnn_pre.add(keras.layers.Embedding(vocab_size, word_vector_dim, input_shape=(None,)))\n",
    "model_cnn_pre.add(keras.layers.Conv1D(16, 5, activation='relu'))\n",
    "model_cnn_pre.add(keras.layers.MaxPooling1D(5))\n",
    "model_cnn_pre.add(keras.layers.Conv1D(16, 5, activation='relu'))\n",
    "model_cnn_pre.add(keras.layers.GlobalMaxPooling1D())\n",
    "model_cnn_pre.add(keras.layers.Dense(8, activation='relu'))\n",
    "model_cnn_pre.add(keras.layers.Dense(1, activation='sigmoid'))  # 최종 출력은 긍정/부정을 나타내는 1dim\n",
    "\n",
    "model_cnn_pre.summary()"
   ]
  },
  {
   "cell_type": "code",
   "execution_count": 35,
   "metadata": {
    "id": "zJgCAAk5P5_g"
   },
   "outputs": [
    {
     "name": "stdout",
     "output_type": "stream",
     "text": [
      "Epoch 1/5\n",
      "1569/1569 [==============================] - 9s 5ms/step - loss: 0.4878 - accuracy: 0.7461 - val_loss: 0.4187 - val_accuracy: 0.7978\n",
      "Epoch 2/5\n",
      "1569/1569 [==============================] - 7s 5ms/step - loss: 0.3783 - accuracy: 0.8241 - val_loss: 0.4163 - val_accuracy: 0.8022\n",
      "Epoch 3/5\n",
      "1569/1569 [==============================] - 7s 5ms/step - loss: 0.3204 - accuracy: 0.8557 - val_loss: 0.4422 - val_accuracy: 0.7977\n",
      "Epoch 4/5\n",
      "1569/1569 [==============================] - 7s 5ms/step - loss: 0.2665 - accuracy: 0.8827 - val_loss: 0.4792 - val_accuracy: 0.7941\n",
      "Epoch 5/5\n",
      "1569/1569 [==============================] - 7s 5ms/step - loss: 0.2213 - accuracy: 0.9032 - val_loss: 0.5423 - val_accuracy: 0.7862\n"
     ]
    }
   ],
   "source": [
    "model_cnn_pre.compile(optimizer='adam',\n",
    "                   loss='binary_crossentropy',\n",
    "                   metrics=['accuracy'])\n",
    "\n",
    "history_cnn_pre = model_cnn_pre.fit(partial_X_train_pre,\n",
    "                                  partial_y_train,\n",
    "                                  epochs=5,\n",
    "                                  batch_size=64,\n",
    "                                  validation_data=(X_val_pre, y_val),\n",
    "                                  verbose=1)"
   ]
  },
  {
   "cell_type": "code",
   "execution_count": 36,
   "metadata": {
    "id": "kHjIW-7mP59Y"
   },
   "outputs": [
    {
     "data": {
      "image/png": "[encoded data removed]",
      "text/plain": [
       "<Figure size 1080x288 with 2 Axes>"
      ]
     },
     "metadata": {
      "needs_background": "light"
     },
     "output_type": "display_data"
    }
   ],
   "source": [
    "history_cnn_pre_result = history_cnn_pre.history\n",
    "\n",
    "acc = history_cnn_pre_result['accuracy']\n",
    "val_acc = history_cnn_pre_result['val_accuracy']\n",
    "loss = history_cnn_pre_result['loss']\n",
    "val_loss = history_cnn_pre_result['val_loss']\n",
    "\n",
    "epochs = range(1, len(acc) + 1)\n",
    "\n",
    "plt.figure(figsize=(15,4))\n",
    "\n",
    "# loss 그래프\n",
    "plt.subplot(1,2,1)\n",
    "plt.plot(epochs, loss, 'r', label='Training loss')\n",
    "plt.plot(epochs, val_loss, 'b', label='Validation loss')\n",
    "plt.title('Training and validation loss')\n",
    "plt.xlabel('Epochs')\n",
    "plt.ylabel('Loss')\n",
    "plt.legend()\n",
    "\n",
    "# accuracy 그래프\n",
    "plt.subplot(1,2,2)\n",
    "plt.plot(epochs, acc, 'r', label='Training acc')\n",
    "plt.plot(epochs, val_acc, 'b', label='Validation acc')\n",
    "plt.title('Training and validation accuracy')\n",
    "plt.xlabel('Epochs')\n",
    "plt.ylabel('Accuracy')\n",
    "plt.legend()\n",
    "\n",
    "plt.show()"
   ]
  },
  {
   "cell_type": "code",
   "execution_count": 37,
   "metadata": {
    "id": "1tVJuy38P57Q"
   },
   "outputs": [
    {
     "name": "stdout",
     "output_type": "stream",
     "text": [
      "1532/1532 - 2s - loss: 0.5447 - accuracy: 0.7856\n",
      "[0.5446504950523376, 0.7856107950210571]\n"
     ]
    }
   ],
   "source": [
    "results = model_cnn_pre.evaluate(X_test_pre,  y_test, verbose=2)\n",
    "print(results)"
   ]
  },
  {
   "cell_type": "markdown",
   "metadata": {
    "id": "IqlFG7hSPh2-"
   },
   "source": [
    "# 4.6 1-D CNN Post"
   ]
  },
  {
   "cell_type": "code",
   "execution_count": 38,
   "metadata": {
    "id": "j7folYX_P5qu"
   },
   "outputs": [
    {
     "name": "stdout",
     "output_type": "stream",
     "text": [
      "Model: \"sequential_5\"\n",
      "_________________________________________________________________\n",
      "Layer (type)                 Output Shape              Param #   \n",
      "=================================================================\n",
      "embedding_5 (Embedding)      (None, None, 16)          160000    \n",
      "_________________________________________________________________\n",
      "conv1d_2 (Conv1D)            (None, None, 16)          1296      \n",
      "_________________________________________________________________\n",
      "max_pooling1d_1 (MaxPooling1 (None, None, 16)          0         \n",
      "_________________________________________________________________\n",
      "conv1d_3 (Conv1D)            (None, None, 16)          1296      \n",
      "_________________________________________________________________\n",
      "global_max_pooling1d_1 (Glob (None, 16)                0         \n",
      "_________________________________________________________________\n",
      "dense_10 (Dense)             (None, 8)                 136       \n",
      "_________________________________________________________________\n",
      "dense_11 (Dense)             (None, 1)                 9         \n",
      "=================================================================\n",
      "Total params: 162,737\n",
      "Trainable params: 162,737\n",
      "Non-trainable params: 0\n",
      "_________________________________________________________________\n"
     ]
    }
   ],
   "source": [
    "vocab_size = 10000    # 어휘 사전의 크기입니다(10,000개의 단어)\n",
    "word_vector_dim = 16  # 워드 벡터의 차원 수 (변경 가능한 하이퍼파라미터)\n",
    "\n",
    "# model 설계 - 딥러닝 모델 코드를 직접 작성해 주세요.\n",
    "model_cnn_post = keras.Sequential()\n",
    "model_cnn_post.add(keras.layers.Embedding(vocab_size, word_vector_dim, input_shape=(None,)))\n",
    "model_cnn_post.add(keras.layers.Conv1D(16, 5, activation='relu'))\n",
    "model_cnn_post.add(keras.layers.MaxPooling1D(5))\n",
    "model_cnn_post.add(keras.layers.Conv1D(16, 5, activation='relu'))\n",
    "model_cnn_post.add(keras.layers.GlobalMaxPooling1D())\n",
    "model_cnn_post.add(keras.layers.Dense(8, activation='relu'))\n",
    "model_cnn_post.add(keras.layers.Dense(1, activation='sigmoid'))  # 최종 출력은 긍정/부정을 나타내는 1dim\n",
    "\n",
    "model_cnn_post.summary()"
   ]
  },
  {
   "cell_type": "code",
   "execution_count": 39,
   "metadata": {
    "id": "XTMZAcRzP5n4"
   },
   "outputs": [
    {
     "name": "stdout",
     "output_type": "stream",
     "text": [
      "Epoch 1/5\n",
      "1569/1569 [==============================] - 8s 5ms/step - loss: 0.4790 - accuracy: 0.7551 - val_loss: 0.4230 - val_accuracy: 0.7955\n",
      "Epoch 2/5\n",
      "1569/1569 [==============================] - 7s 5ms/step - loss: 0.3770 - accuracy: 0.8252 - val_loss: 0.4165 - val_accuracy: 0.8021\n",
      "Epoch 3/5\n",
      "1569/1569 [==============================] - 7s 5ms/step - loss: 0.3215 - accuracy: 0.8549 - val_loss: 0.4375 - val_accuracy: 0.7988\n",
      "Epoch 4/5\n",
      "1569/1569 [==============================] - 7s 5ms/step - loss: 0.2694 - accuracy: 0.8813 - val_loss: 0.4873 - val_accuracy: 0.7898\n",
      "Epoch 5/5\n",
      "1569/1569 [==============================] - 7s 5ms/step - loss: 0.2239 - accuracy: 0.9032 - val_loss: 0.5517 - val_accuracy: 0.7857\n"
     ]
    }
   ],
   "source": [
    "model_cnn_post.compile(optimizer='adam',\n",
    "                   loss='binary_crossentropy',\n",
    "                   metrics=['accuracy'])\n",
    "\n",
    "history_cnn_post = model_cnn_post.fit(partial_X_train_pre,\n",
    "                                  partial_y_train,\n",
    "                                  epochs=5,\n",
    "                                  batch_size=64,\n",
    "                                  validation_data=(X_val_pre, y_val),\n",
    "                                  verbose=1)"
   ]
  },
  {
   "cell_type": "code",
   "execution_count": 40,
   "metadata": {
    "id": "HzRqgPEUP5ld"
   },
   "outputs": [
    {
     "data": {
      "image/png": "[encoded data removed]",
      "text/plain": [
       "<Figure size 1080x288 with 2 Axes>"
      ]
     },
     "metadata": {
      "needs_background": "light"
     },
     "output_type": "display_data"
    }
   ],
   "source": [
    "history_cnn_post_result = history_cnn_post.history\n",
    "\n",
    "acc = history_cnn_post_result['accuracy']\n",
    "val_acc = history_cnn_post_result['val_accuracy']\n",
    "loss = history_cnn_post_result['loss']\n",
    "val_loss = history_cnn_post_result['val_loss']\n",
    "\n",
    "epochs = range(1, len(acc) + 1)\n",
    "\n",
    "plt.figure(figsize=(15,4))\n",
    "\n",
    "# loss 그래프\n",
    "plt.subplot(1,2,1)\n",
    "plt.plot(epochs, loss, 'r', label='Training loss')\n",
    "plt.plot(epochs, val_loss, 'b', label='Validation loss')\n",
    "plt.title('Training and validation loss')\n",
    "plt.xlabel('Epochs')\n",
    "plt.ylabel('Loss')\n",
    "plt.legend()\n",
    "\n",
    "# accuracy 그래프\n",
    "plt.subplot(1,2,2)\n",
    "plt.plot(epochs, acc, 'r', label='Training acc')\n",
    "plt.plot(epochs, val_acc, 'b', label='Validation acc')\n",
    "plt.title('Training and validation accuracy')\n",
    "plt.xlabel('Epochs')\n",
    "plt.ylabel('Accuracy')\n",
    "plt.legend()\n",
    "\n",
    "plt.show()"
   ]
  },
  {
   "cell_type": "code",
   "execution_count": 41,
   "metadata": {
    "id": "BxseHzXfP5jU"
   },
   "outputs": [
    {
     "name": "stdout",
     "output_type": "stream",
     "text": [
      "1532/1532 - 2s - loss: 0.4997 - accuracy: 0.7928\n",
      "[0.49966686964035034, 0.7928155660629272]\n"
     ]
    }
   ],
   "source": [
    "results = model_cnn_post.evaluate(X_test_post,  y_test, verbose=2)\n",
    "print(results)"
   ]
  },
  {
   "cell_type": "markdown",
   "metadata": {
    "id": "1lqD5Q5FPhtG"
   },
   "source": [
    "# 4.7 GlobalMaxPooling1D Pre"
   ]
  },
  {
   "cell_type": "code",
   "execution_count": 42,
   "metadata": {
    "id": "GI6zonzZP5Un"
   },
   "outputs": [
    {
     "name": "stdout",
     "output_type": "stream",
     "text": [
      "Model: \"sequential_6\"\n",
      "_________________________________________________________________\n",
      "Layer (type)                 Output Shape              Param #   \n",
      "=================================================================\n",
      "embedding_6 (Embedding)      (None, None, 16)          160000    \n",
      "_________________________________________________________________\n",
      "global_max_pooling1d_2 (Glob (None, 16)                0         \n",
      "_________________________________________________________________\n",
      "dense_12 (Dense)             (None, 8)                 136       \n",
      "_________________________________________________________________\n",
      "dense_13 (Dense)             (None, 1)                 9         \n",
      "=================================================================\n",
      "Total params: 160,145\n",
      "Trainable params: 160,145\n",
      "Non-trainable params: 0\n",
      "_________________________________________________________________\n"
     ]
    }
   ],
   "source": [
    "vocab_size = 10000    # 어휘 사전의 크기입니다(10,000개의 단어)\n",
    "word_vector_dim = 16  # 워드 벡터의 차원 수 (변경 가능한 하이퍼파라미터)\n",
    "\n",
    "# model 설계 - 딥러닝 모델 코드를 직접 작성해 주세요.\n",
    "model_maxpool_pre = keras.Sequential()\n",
    "model_maxpool_pre.add(keras.layers.Embedding(vocab_size, word_vector_dim, input_shape=(None,)))\n",
    "model_maxpool_pre.add(keras.layers.GlobalMaxPooling1D())\n",
    "model_maxpool_pre.add(keras.layers.Dense(8, activation='relu'))\n",
    "model_maxpool_pre.add(keras.layers.Dense(1, activation='sigmoid'))  # 최종 출력은 긍정/부정을 나타내는 1dim\n",
    "\n",
    "model_maxpool_pre.summary()"
   ]
  },
  {
   "cell_type": "code",
   "execution_count": 43,
   "metadata": {
    "id": "XgmwmdnuP5RE"
   },
   "outputs": [
    {
     "name": "stdout",
     "output_type": "stream",
     "text": [
      "Epoch 1/5\n",
      "1569/1569 [==============================] - 6s 3ms/step - loss: 0.4551 - accuracy: 0.7850 - val_loss: 0.3681 - val_accuracy: 0.8361\n",
      "Epoch 2/5\n",
      "1569/1569 [==============================] - 5s 3ms/step - loss: 0.3366 - accuracy: 0.8558 - val_loss: 0.3607 - val_accuracy: 0.8405\n",
      "Epoch 3/5\n",
      "1569/1569 [==============================] - 5s 3ms/step - loss: 0.2982 - accuracy: 0.8751 - val_loss: 0.3657 - val_accuracy: 0.8421\n",
      "Epoch 4/5\n",
      "1569/1569 [==============================] - 5s 3ms/step - loss: 0.2710 - accuracy: 0.8885 - val_loss: 0.3776 - val_accuracy: 0.8380\n",
      "Epoch 5/5\n",
      "1569/1569 [==============================] - 5s 3ms/step - loss: 0.2488 - accuracy: 0.9004 - val_loss: 0.3921 - val_accuracy: 0.8376\n"
     ]
    }
   ],
   "source": [
    "model_maxpool_pre.compile(optimizer='adam',\n",
    "                   loss='binary_crossentropy',\n",
    "                   metrics=['accuracy'])\n",
    "\n",
    "history_maxpool_pre = model_maxpool_pre.fit(partial_X_train_pre,\n",
    "                                  partial_y_train,\n",
    "                                  epochs=5,\n",
    "                                  batch_size=64,\n",
    "                                  validation_data=(X_val_pre, y_val),\n",
    "                                  verbose=1)"
   ]
  },
  {
   "cell_type": "code",
   "execution_count": 44,
   "metadata": {
    "id": "iilNeSdbP5Oj"
   },
   "outputs": [
    {
     "data": {
      "image/png": "[encoded data removed]",
      "text/plain": [
       "<Figure size 1080x288 with 2 Axes>"
      ]
     },
     "metadata": {
      "needs_background": "light"
     },
     "output_type": "display_data"
    }
   ],
   "source": [
    "history_maxpool_pre_result = history_maxpool_pre.history\n",
    "\n",
    "acc = history_maxpool_pre_result['accuracy']\n",
    "val_acc = history_maxpool_pre_result['val_accuracy']\n",
    "loss = history_maxpool_pre_result['loss']\n",
    "val_loss = history_maxpool_pre_result['val_loss']\n",
    "\n",
    "epochs = range(1, len(acc) + 1)\n",
    "\n",
    "plt.figure(figsize=(15,4))\n",
    "\n",
    "# loss 그래프\n",
    "plt.subplot(1,2,1)\n",
    "plt.plot(epochs, loss, 'r', label='Training loss')\n",
    "plt.plot(epochs, val_loss, 'b', label='Validation loss')\n",
    "plt.title('Training and validation loss')\n",
    "plt.xlabel('Epochs')\n",
    "plt.ylabel('Loss')\n",
    "plt.legend()\n",
    "\n",
    "# accuracy 그래프\n",
    "plt.subplot(1,2,2)\n",
    "plt.plot(epochs, acc, 'r', label='Training acc')\n",
    "plt.plot(epochs, val_acc, 'b', label='Validation acc')\n",
    "plt.title('Training and validation accuracy')\n",
    "plt.xlabel('Epochs')\n",
    "plt.ylabel('Accuracy')\n",
    "plt.legend()\n",
    "\n",
    "plt.show()"
   ]
  },
  {
   "cell_type": "code",
   "execution_count": 45,
   "metadata": {
    "id": "LSWrO0TVP5Mg"
   },
   "outputs": [
    {
     "name": "stdout",
     "output_type": "stream",
     "text": [
      "1532/1532 - 2s - loss: 0.4060 - accuracy: 0.8319\n",
      "[0.4060216248035431, 0.8319420218467712]\n"
     ]
    }
   ],
   "source": [
    "results = model_maxpool_pre.evaluate(X_test_pre,  y_test, verbose=2)\n",
    "print(results)"
   ]
  },
  {
   "cell_type": "markdown",
   "metadata": {
    "id": "zT6cHkZ7Phqz"
   },
   "source": [
    "# 4.8 GlobalMaxPooling1D Post"
   ]
  },
  {
   "cell_type": "code",
   "execution_count": 46,
   "metadata": {
    "id": "yVW_7176BcqZ"
   },
   "outputs": [
    {
     "name": "stdout",
     "output_type": "stream",
     "text": [
      "Model: \"sequential_7\"\n",
      "_________________________________________________________________\n",
      "Layer (type)                 Output Shape              Param #   \n",
      "=================================================================\n",
      "embedding_7 (Embedding)      (None, None, 16)          160000    \n",
      "_________________________________________________________________\n",
      "global_max_pooling1d_3 (Glob (None, 16)                0         \n",
      "_________________________________________________________________\n",
      "dense_14 (Dense)             (None, 8)                 136       \n",
      "_________________________________________________________________\n",
      "dense_15 (Dense)             (None, 1)                 9         \n",
      "=================================================================\n",
      "Total params: 160,145\n",
      "Trainable params: 160,145\n",
      "Non-trainable params: 0\n",
      "_________________________________________________________________\n"
     ]
    }
   ],
   "source": [
    "vocab_size = 10000    # 어휘 사전의 크기입니다(10,000개의 단어)\n",
    "word_vector_dim = 16  # 워드 벡터의 차원 수 (변경 가능한 하이퍼파라미터)\n",
    "\n",
    "# model 설계 - 딥러닝 모델 코드를 직접 작성해 주세요.\n",
    "model_maxpool_post = keras.Sequential()\n",
    "model_maxpool_post.add(keras.layers.Embedding(vocab_size, word_vector_dim, input_shape=(None,)))\n",
    "model_maxpool_post.add(keras.layers.GlobalMaxPooling1D())\n",
    "model_maxpool_post.add(keras.layers.Dense(8, activation='relu'))\n",
    "model_maxpool_post.add(keras.layers.Dense(1, activation='sigmoid'))  # 최종 출력은 긍정/부정을 나타내는 1dim\n",
    "\n",
    "model_maxpool_post.summary()"
   ]
  },
  {
   "cell_type": "code",
   "execution_count": 47,
   "metadata": {
    "id": "2GsfTV9dBcs-"
   },
   "outputs": [
    {
     "name": "stdout",
     "output_type": "stream",
     "text": [
      "Epoch 1/5\n",
      "1569/1569 [==============================] - 6s 3ms/step - loss: 0.4620 - accuracy: 0.7790 - val_loss: 0.3819 - val_accuracy: 0.8282\n",
      "Epoch 2/5\n",
      "1569/1569 [==============================] - 5s 3ms/step - loss: 0.3534 - accuracy: 0.8469 - val_loss: 0.3696 - val_accuracy: 0.8361\n",
      "Epoch 3/5\n",
      "1569/1569 [==============================] - 5s 3ms/step - loss: 0.3205 - accuracy: 0.8643 - val_loss: 0.3724 - val_accuracy: 0.8353\n",
      "Epoch 4/5\n",
      "1569/1569 [==============================] - 5s 3ms/step - loss: 0.2980 - accuracy: 0.8751 - val_loss: 0.3804 - val_accuracy: 0.8350\n",
      "Epoch 5/5\n",
      "1569/1569 [==============================] - 5s 3ms/step - loss: 0.2806 - accuracy: 0.8825 - val_loss: 0.3883 - val_accuracy: 0.8343\n"
     ]
    }
   ],
   "source": [
    "model_maxpool_post.compile(optimizer='adam',\n",
    "                   loss='binary_crossentropy',\n",
    "                   metrics=['accuracy'])\n",
    "\n",
    "history_maxpool_post = model_maxpool_post.fit(partial_X_train_pre,\n",
    "                                  partial_y_train,\n",
    "                                  epochs=5,\n",
    "                                  batch_size=64,\n",
    "                                  validation_data=(X_val_pre, y_val),\n",
    "                                  verbose=1)"
   ]
  },
  {
   "cell_type": "code",
   "execution_count": 48,
   "metadata": {
    "id": "WTf9SCSCBcvt"
   },
   "outputs": [
    {
     "data": {
      "image/png": "[encoded data removed]",
      "text/plain": [
       "<Figure size 1080x288 with 2 Axes>"
      ]
     },
     "metadata": {
      "needs_background": "light"
     },
     "output_type": "display_data"
    }
   ],
   "source": [
    "history_maxpool_post_result = history_maxpool_post.history\n",
    "\n",
    "acc = history_maxpool_post_result['accuracy']\n",
    "val_acc = history_maxpool_post_result['val_accuracy']\n",
    "loss = history_maxpool_post_result['loss']\n",
    "val_loss = history_maxpool_post_result['val_loss']\n",
    "\n",
    "epochs = range(1, len(acc) + 1)\n",
    "\n",
    "plt.figure(figsize=(15,4))\n",
    "\n",
    "# loss 그래프\n",
    "plt.subplot(1,2,1)\n",
    "plt.plot(epochs, loss, 'r', label='Training loss')\n",
    "plt.plot(epochs, val_loss, 'b', label='Validation loss')\n",
    "plt.title('Training and validation loss')\n",
    "plt.xlabel('Epochs')\n",
    "plt.ylabel('Loss')\n",
    "plt.legend()\n",
    "\n",
    "# accuracy 그래프\n",
    "plt.subplot(1,2,2)\n",
    "plt.plot(epochs, acc, 'r', label='Training acc')\n",
    "plt.plot(epochs, val_acc, 'b', label='Validation acc')\n",
    "plt.title('Training and validation accuracy')\n",
    "plt.xlabel('Epochs')\n",
    "plt.ylabel('Accuracy')\n",
    "plt.legend()\n",
    "\n",
    "plt.show()"
   ]
  },
  {
   "cell_type": "code",
   "execution_count": 49,
   "metadata": {
    "id": "C9zDc20xBcyW"
   },
   "outputs": [
    {
     "name": "stdout",
     "output_type": "stream",
     "text": [
      "1532/1532 - 2s - loss: 0.3986 - accuracy: 0.8274\n",
      "[0.39855247735977173, 0.8274313807487488]\n"
     ]
    }
   ],
   "source": [
    "results = model_maxpool_post.evaluate(X_test_post,  y_test, verbose=2)\n",
    "print(results)"
   ]
  },
  {
   "cell_type": "markdown",
   "metadata": {
    "id": "52ktuzDGSNZI"
   },
   "source": [
    "# 5. 학습된 Embedding 레이어 분석\n",
    "\n",
    "* model의 첫 번째 레이어는 바로 Embedding 레이어였다.\n",
    "* 이 레이어는 우리가 가진 사전의 단어 개수 X 워드 벡터 사이즈만큼의 크기를 가진 학습 파라미터였다.\n",
    "* 모델이 학습이 잘 되었다면, Embedding 레이어에 학습된 우리의 워드 벡터들도 의미 공간상에 유의미한 형태로 학습되었을 것이다.\n",
    "\n",
    "만약 우리의 감성 분류 모델이 학습이 잘 되었다면, Embedding 레이어에 학습된 우리의 워드 벡터들도 의미 공간상에 유의미한 형태로 학습되었을 것\n",
    "\n",
    "워드 벡터를 다루는데 유용한 gensim 패키지를 사용하여 단어를 하나 주고 그와 가장 유사한 단어와 그 유사도를 확인하는 방법으로 워드 벡터가 의미벡터 공간상에 유의미하게 학습되었는지 확인해본다."
   ]
  },
  {
   "cell_type": "code",
   "execution_count": 50,
   "metadata": {
    "id": "GmNRgwJPBc1B"
   },
   "outputs": [
    {
     "name": "stdout",
     "output_type": "stream",
     "text": [
      "(10000, 16)\n"
     ]
    }
   ],
   "source": [
    "embedding_layer = model_gru_pre.layers[0]\n",
    "weights = embedding_layer.get_weights()[0]\n",
    "print(weights.shape)    # shape: (vocab_size, embedding_dim)"
   ]
  },
  {
   "cell_type": "code",
   "execution_count": 51,
   "metadata": {
    "id": "GrJOQ6n_Bc3m"
   },
   "outputs": [],
   "source": [
    "import os\n",
    "\n",
    "# 학습한 Embedding 파라미터를 파일에 써서 저장\n",
    "word2vec_file_path = os.getenv('HOME')+'/aiffel/sentiment_classification/data/word2vec_test.txt'\n",
    "f = open(word2vec_file_path, 'w')\n",
    "f.write('{} {}\\n'.format(vocab_size-4, word_vector_dim))  # 몇개의 벡터를 얼마 사이즈로 기재할지 타이틀을 씁니다.\n",
    "\n",
    "# 단어 개수(특수문자 4개는 제외)만큼의 워드 벡터를 파일에 기록\n",
    "vectors = model_lstm_pre.get_weights()[0]\n",
    "for i in range(4,vocab_size):\n",
    "    f.write('{} {}\\n'.format(index_to_word[i], ' '.join(map(str, list(vectors[i, :])))))\n",
    "f.close()"
   ]
  },
  {
   "cell_type": "code",
   "execution_count": 52,
   "metadata": {
    "id": "jKCTGXHeBc6X"
   },
   "outputs": [
    {
     "data": {
      "text/plain": [
       "[('놓치', 0.9780011773109436),\n",
       " ('대작', 0.9754068851470947),\n",
       " ('너희', 0.9691435694694519),\n",
       " ('아찔', 0.966591477394104),\n",
       " ('깊', 0.963537871837616),\n",
       " ('오묘', 0.9618391990661621),\n",
       " ('앍', 0.9590834379196167),\n",
       " ('히트', 0.9578129053115845),\n",
       " ('만점', 0.9563586711883545),\n",
       " ('핡', 0.9562418460845947)]"
      ]
     },
     "execution_count": 52,
     "metadata": {},
     "output_type": "execute_result"
    }
   ],
   "source": [
    "from gensim.models.keyedvectors import Word2VecKeyedVectors\n",
    "\n",
    "word_vectors = Word2VecKeyedVectors.load_word2vec_format(word2vec_file_path, binary=False)\n",
    "\n",
    "word_vectors.similar_by_word(\"사랑\")"
   ]
  },
  {
   "cell_type": "code",
   "execution_count": 53,
   "metadata": {
    "id": "QjjsToJABc9U"
   },
   "outputs": [
    {
     "data": {
      "text/plain": [
       "[('멋진데', 0.9420783519744873),\n",
       " ('증명', 0.9243541359901428),\n",
       " ('벗어난', 0.9155787229537964),\n",
       " ('요점', 0.9113372564315796),\n",
       " ('한류', 0.9082077741622925),\n",
       " ('당위', 0.9076851010322571),\n",
       " ('떠오름', 0.8967214822769165),\n",
       " ('노아', 0.896207332611084),\n",
       " ('쏟아지', 0.8947845101356506),\n",
       " ('안구', 0.8916566371917725)]"
      ]
     },
     "execution_count": 53,
     "metadata": {},
     "output_type": "execute_result"
    }
   ],
   "source": [
    "word_vectors.similar_by_word(\"기분\")"
   ]
  },
  {
   "cell_type": "code",
   "execution_count": 54,
   "metadata": {
    "id": "qOKLHd81Bc_-",
    "scrolled": true
   },
   "outputs": [
    {
     "data": {
      "text/plain": [
       "[('그만', 0.9749100208282471),\n",
       " ('부자연', 0.9748069047927856),\n",
       " ('아까워', 0.9734141230583191),\n",
       " ('별반', 0.9732133150100708),\n",
       " ('인내력', 0.9725671410560608),\n",
       " ('망한', 0.9720989465713501),\n",
       " ('다수', 0.971389889717102),\n",
       " ('실망', 0.971350908279419),\n",
       " ('어색', 0.9704569578170776),\n",
       " ('그나마', 0.9703726768493652)]"
      ]
     },
     "execution_count": 54,
     "metadata": {},
     "output_type": "execute_result"
    }
   ],
   "source": [
    "word_vectors.similar_by_word(\"피곤\")"
   ]
  },
  {
   "cell_type": "markdown",
   "metadata": {
    "id": "_yRDiMbzBdCr"
   },
   "source": [
    "### 다소 부자연스럽다.\n",
    "\n",
    "* 위의 훈련데이터만으로는 word vector를 정교하게 학습시키기 어렵다.\n",
    "\n",
    "* 따라서 더 좋은 모델의 성능을 위해서는 한국어 Word2Vec 임베딩 활용한 성능개선이 필요하다."
   ]
  },
  {
   "cell_type": "markdown",
   "metadata": {},
   "source": [
    "# 6. 한국어 Word2Vec 임베딩 활용하여 성능개선"
   ]
  },
  {
   "cell_type": "code",
   "execution_count": null,
   "metadata": {
    "scrolled": true
   },
   "outputs": [],
   "source": [
    "pip install --upgrade gensim==3.8.3"
   ]
  },
  {
   "cell_type": "code",
   "execution_count": 55,
   "metadata": {
    "id": "CTkhKawDBdN4"
   },
   "outputs": [
    {
     "name": "stderr",
     "output_type": "stream",
     "text": [
      "/tmp/ipykernel_637/1005516468.py:7: DeprecationWarning: Call to deprecated `__getitem__` (Method will be removed in 4.0.0, use self.wv.__getitem__() instead).\n",
      "  vector = word2vec['사랑']\n"
     ]
    },
    {
     "data": {
      "text/plain": [
       "(200,)"
      ]
     },
     "execution_count": 55,
     "metadata": {},
     "output_type": "execute_result"
    }
   ],
   "source": [
    "import gensim\n",
    "from gensim.models import KeyedVectors\n",
    "\n",
    "word2vec_path = os.getenv('HOME')+'/aiffel/sentiment_classification/data/ko.bin'\n",
    "\n",
    "word2vec = gensim.models.Word2Vec.load(word2vec_path)\n",
    "vector = word2vec['사랑']\n",
    "vector.shape     # 200dim의 워드 벡터"
   ]
  },
  {
   "cell_type": "code",
   "execution_count": 56,
   "metadata": {
    "id": "M4QJQY11BdQZ"
   },
   "outputs": [
    {
     "name": "stderr",
     "output_type": "stream",
     "text": [
      "/tmp/ipykernel_637/1360476464.py:1: DeprecationWarning: Call to deprecated `similar_by_word` (Method will be removed in 4.0.0, use self.wv.similar_by_word() instead).\n",
      "  word2vec.similar_by_word(\"사랑\")\n"
     ]
    },
    {
     "data": {
      "text/plain": [
       "[('슬픔', 0.7216662764549255),\n",
       " ('행복', 0.6759077310562134),\n",
       " ('절망', 0.6468985080718994),\n",
       " ('기쁨', 0.6458414196968079),\n",
       " ('이별', 0.6334798336029053),\n",
       " ('추억', 0.6320937275886536),\n",
       " ('인생', 0.6216273307800293),\n",
       " ('애정', 0.6206069588661194),\n",
       " ('연인', 0.6186063289642334),\n",
       " ('유혹', 0.5965287685394287)]"
      ]
     },
     "execution_count": 56,
     "metadata": {},
     "output_type": "execute_result"
    }
   ],
   "source": [
    "word2vec.similar_by_word(\"사랑\")"
   ]
  },
  {
   "cell_type": "code",
   "execution_count": 57,
   "metadata": {
    "id": "-ihWG7BIBdTV"
   },
   "outputs": [
    {
     "name": "stderr",
     "output_type": "stream",
     "text": [
      "/tmp/ipykernel_637/4116297719.py:1: DeprecationWarning: Call to deprecated `similar_by_word` (Method will be removed in 4.0.0, use self.wv.similar_by_word() instead).\n",
      "  word2vec.similar_by_word(\"지루\")\n"
     ]
    },
    {
     "data": {
      "text/plain": [
       "[('답답', 0.7367106676101685),\n",
       " ('편안', 0.7046725749969482),\n",
       " ('솔직', 0.689364492893219),\n",
       " ('쓸쓸', 0.6880695819854736),\n",
       " ('차분', 0.6868932247161865),\n",
       " ('조용', 0.6765609383583069),\n",
       " ('냉정', 0.6706622838973999),\n",
       " ('자유분방', 0.6680829524993896),\n",
       " ('피곤', 0.6597293019294739),\n",
       " ('느긋', 0.659047544002533)]"
      ]
     },
     "execution_count": 57,
     "metadata": {},
     "output_type": "execute_result"
    }
   ],
   "source": [
    "word2vec.similar_by_word(\"지루\")"
   ]
  },
  {
   "cell_type": "code",
   "execution_count": 58,
   "metadata": {},
   "outputs": [
    {
     "name": "stderr",
     "output_type": "stream",
     "text": [
      "/tmp/ipykernel_637/1783528530.py:1: DeprecationWarning: Call to deprecated `similar_by_word` (Method will be removed in 4.0.0, use self.wv.similar_by_word() instead).\n",
      "  word2vec.similar_by_word(\"피곤\")\n"
     ]
    },
    {
     "data": {
      "text/plain": [
       "[('지루', 0.6597292423248291),\n",
       " ('거만', 0.6573756337165833),\n",
       " ('조용', 0.6500644087791443),\n",
       " ('난폭', 0.64898681640625),\n",
       " ('지저분', 0.6316137313842773),\n",
       " ('무뚝뚝', 0.6290295124053955),\n",
       " ('소심', 0.6229598522186279),\n",
       " ('나약', 0.620331883430481),\n",
       " ('인색', 0.6179662942886353),\n",
       " ('교만', 0.6142992973327637)]"
      ]
     },
     "execution_count": 58,
     "metadata": {},
     "output_type": "execute_result"
    }
   ],
   "source": [
    "word2vec.similar_by_word(\"피곤\")"
   ]
  },
  {
   "cell_type": "markdown",
   "metadata": {
    "id": "0iCKqAr0BdV3"
   },
   "source": [
    "* Word2Vec에서 제공하는 워드 임베딩 벡터들끼리는 의미적 유사도가 서로 가깝게 제대로 학습된 것을 확인할 수 있다.\n",
    "\n",
    "* 정확하다, 비슷하다 라는 느낌보다는 확실히 성능적으로 보았을때 좋다라는것이 느껴짐.\n",
    "\n",
    "* 이제 이전 스텝에서 학습했던 모델의 임베딩 레이어를 Word2Vec의 것으로 교체하여 모델을 학습시킨다."
   ]
  },
  {
   "cell_type": "code",
   "execution_count": 60,
   "metadata": {
    "id": "kImsOFPBBdYw"
   },
   "outputs": [
    {
     "name": "stderr",
     "output_type": "stream",
     "text": [
      "/tmp/ipykernel_637/3778977091.py:10: DeprecationWarning: Call to deprecated `__contains__` (Method will be removed in 4.0.0, use self.wv.__contains__() instead).\n",
      "  if index_to_word[i] in word2vec:\n",
      "/tmp/ipykernel_637/3778977091.py:11: DeprecationWarning: Call to deprecated `__getitem__` (Method will be removed in 4.0.0, use self.wv.__getitem__() instead).\n",
      "  embedding_matrix[i] = word2vec[index_to_word[i]]\n"
     ]
    }
   ],
   "source": [
    "from tensorflow.keras.initializers import Constant\n",
    "\n",
    "vocab_size = 10000    # 어휘 사전의 크기입니다(10,000개의 단어)\n",
    "word_vector_dim = 200  # 워드 벡터의 차원수 (변경가능한 하이퍼파라미터)\n",
    "\n",
    "embedding_matrix = np.random.rand(vocab_size, word_vector_dim)\n",
    "\n",
    "# embedding_matrix에 Word2Vec 워드 벡터를 단어 하나씩마다 차례차례 카피한다.\n",
    "for i in range(4,vocab_size):\n",
    "    if index_to_word[i] in word2vec:\n",
    "        embedding_matrix[i] = word2vec[index_to_word[i]]"
   ]
  },
  {
   "cell_type": "code",
   "execution_count": 70,
   "metadata": {
    "id": "GF61mavqBdbg"
   },
   "outputs": [
    {
     "name": "stdout",
     "output_type": "stream",
     "text": [
      "Model: \"sequential_11\"\n",
      "_________________________________________________________________\n",
      "Layer (type)                 Output Shape              Param #   \n",
      "=================================================================\n",
      "embedding_11 (Embedding)     (None, 36, 200)           2000000   \n",
      "_________________________________________________________________\n",
      "gru_3 (GRU)                  (None, 128)               126720    \n",
      "_________________________________________________________________\n",
      "dense_22 (Dense)             (None, 8)                 1032      \n",
      "_________________________________________________________________\n",
      "dense_23 (Dense)             (None, 1)                 9         \n",
      "=================================================================\n",
      "Total params: 2,127,761\n",
      "Trainable params: 2,127,761\n",
      "Non-trainable params: 0\n",
      "_________________________________________________________________\n"
     ]
    }
   ],
   "source": [
    "# LSTM 레이어로 모델 설계\n",
    "model_ko = keras.Sequential()\n",
    "model_ko.add(keras.layers.Embedding(vocab_size, \n",
    "                                 word_vector_dim, \n",
    "                                 embeddings_initializer=Constant(embedding_matrix),  # 카피한 임베딩을 여기서 활용\n",
    "                                 input_length=maxlen, \n",
    "                                 trainable=True))   # trainable을 True로 주면 Fine-tuning\n",
    "model_ko.add(keras.layers.GRU(128))  # LSTM state 벡터의 차원수 (변경가능)\n",
    "model_ko.add(keras.layers.Dense(8, activation='relu'))\n",
    "model_ko.add(keras.layers.Dense(1, activation='sigmoid'))  # 최종 출력은 긍정/부정을 나타내는 1dim\n",
    "\n",
    "model_ko.summary()"
   ]
  },
  {
   "cell_type": "code",
   "execution_count": 71,
   "metadata": {
    "id": "ZH_AjWTwBdeU"
   },
   "outputs": [
    {
     "name": "stdout",
     "output_type": "stream",
     "text": [
      "Epoch 1/5\n",
      "1569/1569 [==============================] - 11s 6ms/step - loss: 0.4115 - accuracy: 0.8054 - val_loss: 0.3353 - val_accuracy: 0.8528\n",
      "Epoch 2/5\n",
      "1569/1569 [==============================] - 9s 6ms/step - loss: 0.3023 - accuracy: 0.8705 - val_loss: 0.3335 - val_accuracy: 0.8588\n",
      "Epoch 3/5\n",
      "1569/1569 [==============================] - 9s 6ms/step - loss: 0.2573 - accuracy: 0.8921 - val_loss: 0.3334 - val_accuracy: 0.8586\n",
      "Epoch 4/5\n",
      "1569/1569 [==============================] - 10s 6ms/step - loss: 0.2151 - accuracy: 0.9125 - val_loss: 0.3698 - val_accuracy: 0.8535\n",
      "Epoch 5/5\n",
      "1569/1569 [==============================] - 9s 6ms/step - loss: 0.1741 - accuracy: 0.9312 - val_loss: 0.3909 - val_accuracy: 0.8538\n"
     ]
    }
   ],
   "source": [
    "model_ko.compile(optimizer='adam',\n",
    "              loss='binary_crossentropy',\n",
    "              metrics=['accuracy'])\n",
    "              \n",
    "epochs=5   \n",
    "\n",
    "history_ko = model_ko.fit(partial_X_train_pre,\n",
    "                    partial_y_train,\n",
    "                    epochs=epochs,\n",
    "                    batch_size=64,\n",
    "                    validation_data=(X_val_pre, y_val),\n",
    "                    verbose=1)"
   ]
  },
  {
   "cell_type": "code",
   "execution_count": 72,
   "metadata": {
    "id": "tAuI8CNIBdhA"
   },
   "outputs": [
    {
     "data": {
      "image/png": "[encoded data removed]",
      "text/plain": [
       "<Figure size 1080x288 with 2 Axes>"
      ]
     },
     "metadata": {
      "needs_background": "light"
     },
     "output_type": "display_data"
    }
   ],
   "source": [
    "history_ko_gru_pre_result = history_ko.history\n",
    "\n",
    "acc = history_ko_gru_pre_result['accuracy']\n",
    "val_acc = history_ko_gru_pre_result['val_accuracy']\n",
    "loss = history_ko_gru_pre_result['loss']\n",
    "val_loss = history_ko_gru_pre_result['val_loss']\n",
    "\n",
    "epochs = range(1, len(acc) + 1)\n",
    "\n",
    "plt.figure(figsize=(15,4))\n",
    "\n",
    "# loss 그래프\n",
    "plt.subplot(1,2,1)\n",
    "plt.plot(epochs, loss, 'r', label='Training loss')\n",
    "plt.plot(epochs, val_loss, 'b', label='Validation loss')\n",
    "plt.title('Training and validation loss')\n",
    "plt.xlabel('Epochs')\n",
    "plt.ylabel('Loss')\n",
    "plt.legend()\n",
    "\n",
    "# accuracy 그래프\n",
    "plt.subplot(1,2,2)\n",
    "plt.plot(epochs, acc, 'r', label='Training acc')\n",
    "plt.plot(epochs, val_acc, 'b', label='Validation acc')\n",
    "plt.title('Training and validation accuracy')\n",
    "plt.xlabel('Epochs')\n",
    "plt.ylabel('Accuracy')\n",
    "plt.legend()\n",
    "\n",
    "plt.show()"
   ]
  },
  {
   "cell_type": "code",
   "execution_count": 73,
   "metadata": {
    "id": "aaU9R8iXBdjw"
   },
   "outputs": [
    {
     "name": "stdout",
     "output_type": "stream",
     "text": [
      "1532/1532 - 3s - loss: 0.3934 - accuracy: 0.8504\n",
      "[0.3934141993522644, 0.8503520488739014]\n"
     ]
    }
   ],
   "source": [
    "results = model_ko.evaluate(X_test_pre,  y_test, verbose=2)\n",
    "\n",
    "print(results)"
   ]
  },
  {
   "cell_type": "markdown",
   "metadata": {
    "id": "dvY7BRwQBdmY"
   },
   "source": [
    "# DropOut 적용하여 성능 개선"
   ]
  },
  {
   "cell_type": "code",
   "execution_count": 86,
   "metadata": {
    "id": "l4YK1nBDBdpR"
   },
   "outputs": [
    {
     "name": "stdout",
     "output_type": "stream",
     "text": [
      "Model: \"sequential_15\"\n",
      "_________________________________________________________________\n",
      "Layer (type)                 Output Shape              Param #   \n",
      "=================================================================\n",
      "embedding_15 (Embedding)     (None, 36, 200)           2000000   \n",
      "_________________________________________________________________\n",
      "gru_8 (GRU)                  (None, 128)               126720    \n",
      "_________________________________________________________________\n",
      "dense_29 (Dense)             (None, 8)                 1032      \n",
      "_________________________________________________________________\n",
      "dense_30 (Dense)             (None, 1)                 9         \n",
      "=================================================================\n",
      "Total params: 2,127,761\n",
      "Trainable params: 2,127,761\n",
      "Non-trainable params: 0\n",
      "_________________________________________________________________\n"
     ]
    }
   ],
   "source": [
    "# LSTM 레이어로 모델 설계\n",
    "model_ko = keras.Sequential()\n",
    "model_ko.add(keras.layers.Embedding(vocab_size, \n",
    "                                 word_vector_dim, \n",
    "                                 embeddings_initializer=Constant(embedding_matrix),  # 카피한 임베딩을 여기서 활용\n",
    "                                 input_length=maxlen, \n",
    "                                 trainable=True))   # trainable을 True로 주면 Fine-tuning\n",
    "model_ko.add(keras.layers.GRU(128, dropout=0.3))  # LSTM state 벡터의 차원수 (변경가능)\n",
    "model_ko.add(keras.layers.Dense(8, activation='relu'))\n",
    "model_ko.add(keras.layers.Dense(1, activation='sigmoid'))  # 최종 출력은 긍정/부정을 나타내는 1dim\n",
    "\n",
    "model_ko.summary()"
   ]
  },
  {
   "cell_type": "code",
   "execution_count": 87,
   "metadata": {
    "id": "IbUOp40dBdsH"
   },
   "outputs": [
    {
     "name": "stdout",
     "output_type": "stream",
     "text": [
      "Epoch 1/5\n",
      "1569/1569 [==============================] - 11s 6ms/step - loss: 0.4555 - accuracy: 0.7781 - val_loss: 0.3613 - val_accuracy: 0.8396\n",
      "Epoch 2/5\n",
      "1569/1569 [==============================] - 10s 6ms/step - loss: 0.3483 - accuracy: 0.8451 - val_loss: 0.3278 - val_accuracy: 0.8551\n",
      "Epoch 3/5\n",
      "1569/1569 [==============================] - 10s 6ms/step - loss: 0.3130 - accuracy: 0.8621 - val_loss: 0.3278 - val_accuracy: 0.8582\n",
      "Epoch 4/5\n",
      "1569/1569 [==============================] - 10s 6ms/step - loss: 0.2894 - accuracy: 0.8743 - val_loss: 0.3246 - val_accuracy: 0.8613\n",
      "Epoch 5/5\n",
      "1569/1569 [==============================] - 10s 6ms/step - loss: 0.2711 - accuracy: 0.8843 - val_loss: 0.3257 - val_accuracy: 0.8608\n"
     ]
    }
   ],
   "source": [
    "model_ko.compile(optimizer='adam',\n",
    "              loss='binary_crossentropy',\n",
    "              metrics=['accuracy'])\n",
    "              \n",
    "epochs=5   \n",
    "\n",
    "history_ko = model_ko.fit(partial_X_train_pre,\n",
    "                    partial_y_train,\n",
    "                    epochs=epochs,\n",
    "                    batch_size=64,\n",
    "                    validation_data=(X_val_pre, y_val),\n",
    "                    verbose=1)"
   ]
  },
  {
   "cell_type": "code",
   "execution_count": 88,
   "metadata": {
    "id": "YPti_6YsBdvB"
   },
   "outputs": [
    {
     "data": {
      "image/png": "[encoded data removed]",
      "text/plain": [
       "<Figure size 1080x288 with 2 Axes>"
      ]
     },
     "metadata": {
      "needs_background": "light"
     },
     "output_type": "display_data"
    }
   ],
   "source": [
    "history_ko_gru_pre_result = history_ko.history\n",
    "\n",
    "acc = history_ko_gru_pre_result['accuracy']\n",
    "val_acc = history_ko_gru_pre_result['val_accuracy']\n",
    "loss = history_ko_gru_pre_result['loss']\n",
    "val_loss = history_ko_gru_pre_result['val_loss']\n",
    "\n",
    "epochs = range(1, len(acc) + 1)\n",
    "\n",
    "plt.figure(figsize=(15,4))\n",
    "\n",
    "# loss 그래프\n",
    "plt.subplot(1,2,1)\n",
    "plt.plot(epochs, loss, 'r', label='Training loss')\n",
    "plt.plot(epochs, val_loss, 'b', label='Validation loss')\n",
    "plt.title('Training and validation loss')\n",
    "plt.xlabel('Epochs')\n",
    "plt.ylabel('Loss')\n",
    "plt.legend()\n",
    "\n",
    "# accuracy 그래프\n",
    "plt.subplot(1,2,2)\n",
    "plt.plot(epochs, acc, 'r', label='Training acc')\n",
    "plt.plot(epochs, val_acc, 'b', label='Validation acc')\n",
    "plt.title('Training and validation accuracy')\n",
    "plt.xlabel('Epochs')\n",
    "plt.ylabel('Accuracy')\n",
    "plt.legend()\n",
    "\n",
    "plt.show()"
   ]
  },
  {
   "cell_type": "code",
   "execution_count": 89,
   "metadata": {
    "id": "pHH2ehfyBdyF"
   },
   "outputs": [
    {
     "name": "stdout",
     "output_type": "stream",
     "text": [
      "1532/1532 - 3s - loss: 0.3299 - accuracy: 0.8582\n",
      "[0.3299327492713928, 0.858210027217865]\n"
     ]
    }
   ],
   "source": [
    "results = model_ko.evaluate(X_test_pre,  y_test, verbose=2)\n",
    "\n",
    "print(results)"
   ]
  },
  {
   "cell_type": "markdown",
   "metadata": {
    "id": "cNUIZxgISNhL"
   },
   "source": [
    "# 모델별 학습 결과\n",
    "\n",
    "| 모델 | pre 패딩 | post 패딩 |\n",
    "| :---: | :---: | :---: |\n",
    "| LSTM | 84.179% | 53.35% |\n",
    "| GRU | 84.42% | 60.74% |\n",
    "| 1-D CNN | 78.56% | 79.28% |\n",
    "| GlobalMaxPooling1D | 83.19% | 82.74% |\n",
    "\n",
    "위 과정은 다양한 전처리 작업 및 maxlen을 적절하게 구했다. 이후 pre padding 및 post padding 적용을 나누어 사용하였다. LMS노드에서 pre padding을 하면 성능이 좋다고 했는데, 이를 검증하기 위해서 각 모델별로 나누어 적용했다.\n",
    "\n",
    "* 위 모델을 볼때 GRU 모델을 적용 및 pre padding을 적용한 정확도가 84.42%로 가장 높음.\n",
    "* pre padding과 post padding 적용을 비교해볼때, pre padding의 정확도가 전체적으로 높다.\n",
    "* 1-D CNN와 GlobalMaxPooling1D는 별로 차이가 없지만, LSTM과 GRU를 적용했을 때 큰 차이가 난다.\n",
    "* 또한 모델들이 전체적으로 과적합의 양상을 띄고 있다."
   ]
  },
  {
   "attachments": {
    "image.png": {
     "image/png": "[encoded data removed]"
    }
   },
   "cell_type": "markdown",
   "metadata": {
    "id": "NGVAplL3Bd06"
   },
   "source": [
    "# 학습된 Embedding 레이어 분석 결과\n",
    "\n",
    "\n",
    "워드 벡터를 다루는데 유용한 gensim 패키지를 사용하여 단어를 하나 주고 그와 가장 유사한 단어와 그 유사도를 확인하는 방법으로 워드 벡터가 의미벡터 공간상에 유의미하게 학습되었는지 확인하고 비교해보았다.\n",
    "\n",
    "* 결과적으로 학습된 Embedding 레이어가 다소 부자연 스럽다.\n",
    "\n",
    "\n",
    "\n",
    "![image.png](attachment:image.png)"
   ]
  },
  {
   "cell_type": "markdown",
   "metadata": {
    "id": "fTpHVqcIBd3v"
   },
   "source": [
    "# 한국어 Word2Vec 임베딩 활용 결과\n",
    "\n",
    "|  | Loss | accuracy |\n",
    "| :---: | :---: | :---: |\n",
    "| Word2Vec 결과 | 0.3934 | 0.8504 |\n",
    "| Dropout 적용 결과 | 0.3299 | 0.8582 |\n",
    "\n",
    "* 최종적으로 한국어 Word2Vec 임베딩 결과 85.04%의 정확도가 나옴.\n",
    "* 규제기법인 Dropout 적용시 85.82%로 다소 성능이 향상되었다.\n",
    "* 직접 설계한 임베딩보다 과적합이 상대적으로 감소했다."
   ]
  },
  {
   "cell_type": "markdown",
   "metadata": {
    "id": "88kBuNGMBd6p"
   },
   "source": [
    "# 개인적인 추가 생각\n",
    "\n",
    "### 용어 정리의 필요성\n",
    "\n",
    "* NLP던 CV던 중요하게 드는 생각이 용어의 정리이다.\n",
    "* 용어자체의 정의를 제대로 하지않고 넘어간 경향이 없지않아 존재했기 때문에 노드진행이 상당히 어려웠고 반성해야 한다.\n",
    "* 용어 및 기능들을 정리해야겠다... + 텍스트 전처리\n",
    "\n",
    "### 하이퍼 파라미터에 대한 경험 부재\n",
    "\n",
    "* 오늘 기본적으로 4개의 모델에 대해 학습을 진행했지만 아이러니하게 모델에대한 제대로된 이해가 부족해서 어떤 하이퍼 파라미터를 추가해야할지, 또는 추가하더라도 성능이 이상하게 나온 부분이 있다.\n",
    "* 이러한 수치나 학습결과가 발생하는 문제는 데이터도 데이터지만 근본적으로 다양한 하이퍼 파라미터를 어떻게 설정하느냐에 따라 결과수치가 급격하게 달라진다."
   ]
  }
 ],
 "metadata": {
  "colab": {
   "collapsed_sections": [],
   "name": "Sentimental_Analysis_Naver_Movie_Review.ipynb",
   "provenance": []
  },
  "kernelspec": {
   "display_name": "Python 3 (ipykernel)",
   "language": "python",
   "name": "python3"
  },
  "language_info": {
   "codemirror_mode": {
    "name": "ipython",
    "version": 3
   },
   "file_extension": ".py",
   "mimetype": "text/x-python",
   "name": "python",
   "nbconvert_exporter": "python",
   "pygments_lexer": "ipython3",
   "version": "3.9.7"
  }
 },
 "nbformat": 4,
 "nbformat_minor": 1
}
