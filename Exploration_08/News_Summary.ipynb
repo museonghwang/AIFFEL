{
 "cells": [
  {
   "cell_type": "markdown",
   "id": "c10425af",
   "metadata": {},
   "source": [
    "# [EXPLORATION-08] News_Summary"
   ]
  },
  {
   "cell_type": "markdown",
   "id": "ad823152",
   "metadata": {},
   "source": [
    "**텍스트 요약(Text Summarization)**이란 긴 길이의 문서(Document) 원문을 핵심 주제만으로 구성된 짧은 요약(Summary) 문장들로 변환하는 것이다.\n",
    "\n",
    "\n",
    "텍스트 요약은 크게 추출적 요약(extractive summarization)과 추상적 요약(abstractive summarization)으로 나뉜다.\n",
    "* **추출적 요약(Extractive Summarization)** : 원문에서 중요한 핵심 문장 또는 단어구를 몇 개 뽑아서 이들로 구성된 요약문을 만드는 방법\n",
    "* **추상적 요약(Abstractive Summarization)** : 원문에 없던 문장이라도 핵심 문맥을 반영한 새로운 문장을 생성해서 원문을 요약하는 방법\n",
    "\n",
    "뉴스기사 데이터셋에 대해서 추상적 요약과 추출적 요약을 모두 해본다."
   ]
  },
  {
   "cell_type": "code",
   "execution_count": 2,
   "id": "2f1802a3",
   "metadata": {},
   "outputs": [
    {
     "name": "stderr",
     "output_type": "stream",
     "text": [
      "[nltk_data] Downloading package stopwords to /aiffel/nltk_data...\n",
      "[nltk_data]   Unzipping corpora/stopwords.zip.\n"
     ]
    }
   ],
   "source": [
    "import nltk\n",
    "nltk.download('stopwords')\n",
    "\n",
    "import numpy as np\n",
    "import pandas as pd\n",
    "import os\n",
    "import re\n",
    "import matplotlib.pyplot as plt\n",
    "from nltk.corpus import stopwords\n",
    "from bs4 import BeautifulSoup \n",
    "from tensorflow.keras.preprocessing.text import Tokenizer \n",
    "from tensorflow.keras.preprocessing.sequence import pad_sequences\n",
    "import urllib.request\n",
    "import warnings\n",
    "warnings.filterwarnings(\"ignore\", category=UserWarning, module='bs4')"
   ]
  },
  {
   "cell_type": "markdown",
   "id": "78b63c3f",
   "metadata": {},
   "source": [
    "# 1. 데이터 수집하기"
   ]
  },
  {
   "cell_type": "code",
   "execution_count": 3,
   "id": "980d63fa",
   "metadata": {
    "scrolled": true
   },
   "outputs": [
    {
     "name": "stdout",
     "output_type": "stream",
     "text": [
      "전체 샘플수 : 98401\n"
     ]
    }
   ],
   "source": [
    "# 데이터 다운로드\n",
    "urllib.request.urlretrieve(\"https://raw.githubusercontent.com/sunnysai12345/News_Summary/master/news_summary_more.csv\", filename=\"news_summary_more.csv\")\n",
    "data = pd.read_csv('news_summary_more.csv', encoding='iso-8859-1')\n",
    "print('전체 샘플수 :', (len(data)))"
   ]
  },
  {
   "cell_type": "markdown",
   "id": "f02b437b",
   "metadata": {},
   "source": [
    "* nltk패키지에서 불용어 사전 다운로드\n",
    "* urllib을 이용하여 뉴스 기사 데이터를 다운로드"
   ]
  },
  {
   "cell_type": "code",
   "execution_count": 4,
   "id": "e8386511",
   "metadata": {
    "scrolled": true
   },
   "outputs": [
    {
     "data": {
      "text/html": [
       "<div>\n",
       "<style scoped>\n",
       "    .dataframe tbody tr th:only-of-type {\n",
       "        vertical-align: middle;\n",
       "    }\n",
       "\n",
       "    .dataframe tbody tr th {\n",
       "        vertical-align: top;\n",
       "    }\n",
       "\n",
       "    .dataframe thead th {\n",
       "        text-align: right;\n",
       "    }\n",
       "</style>\n",
       "<table border=\"1\" class=\"dataframe\">\n",
       "  <thead>\n",
       "    <tr style=\"text-align: right;\">\n",
       "      <th></th>\n",
       "      <th>headlines</th>\n",
       "      <th>text</th>\n",
       "    </tr>\n",
       "  </thead>\n",
       "  <tbody>\n",
       "    <tr>\n",
       "      <th>72758</th>\n",
       "      <td>Women tortured, gang raped in Syrian govt pris...</td>\n",
       "      <td>A report by Syrian NGO Lawyers and Doctors for...</td>\n",
       "    </tr>\n",
       "    <tr>\n",
       "      <th>69237</th>\n",
       "      <td>What was Viagra doing in godman's room: Rakhi ...</td>\n",
       "      <td>Rakhi Sawant, while revealing that she found V...</td>\n",
       "    </tr>\n",
       "    <tr>\n",
       "      <th>48074</th>\n",
       "      <td>Pak lists 26/11 mastermind Hafiz Saeed's JuD a...</td>\n",
       "      <td>Pakistan's President Mamnoon Hussain has signe...</td>\n",
       "    </tr>\n",
       "    <tr>\n",
       "      <th>82099</th>\n",
       "      <td>Hot air balloon with 17 tourists crashes into ...</td>\n",
       "      <td>Seventeen tourists flying in a hot air balloon...</td>\n",
       "    </tr>\n",
       "    <tr>\n",
       "      <th>19930</th>\n",
       "      <td>Army orders action against Major Gogoi who met...</td>\n",
       "      <td>Indian Army ordered disciplinary action agains...</td>\n",
       "    </tr>\n",
       "    <tr>\n",
       "      <th>56121</th>\n",
       "      <td>Google to shut down augmented reality platform...</td>\n",
       "      <td>Technology giant Google has announced that it ...</td>\n",
       "    </tr>\n",
       "    <tr>\n",
       "      <th>59198</th>\n",
       "      <td>Courts cannot force husband to keep his wife: ...</td>\n",
       "      <td>The Supreme Court has observed that courts can...</td>\n",
       "    </tr>\n",
       "    <tr>\n",
       "      <th>22010</th>\n",
       "      <td>Vijay Mallya's London mansion has a gold toile...</td>\n",
       "      <td>Beleaguered liquor baron Vijay Mallya's London...</td>\n",
       "    </tr>\n",
       "    <tr>\n",
       "      <th>460</th>\n",
       "      <td>Hand that touches Hindu girl should be cut: An...</td>\n",
       "      <td>Union Minister Anantkumar Hegde on Sunday said...</td>\n",
       "    </tr>\n",
       "    <tr>\n",
       "      <th>32632</th>\n",
       "      <td>Minister confirms no deaths after saying 27 di...</td>\n",
       "      <td>A day after confirming 27 people were charred ...</td>\n",
       "    </tr>\n",
       "  </tbody>\n",
       "</table>\n",
       "</div>"
      ],
      "text/plain": [
       "                                               headlines  \\\n",
       "72758  Women tortured, gang raped in Syrian govt pris...   \n",
       "69237  What was Viagra doing in godman's room: Rakhi ...   \n",
       "48074  Pak lists 26/11 mastermind Hafiz Saeed's JuD a...   \n",
       "82099  Hot air balloon with 17 tourists crashes into ...   \n",
       "19930  Army orders action against Major Gogoi who met...   \n",
       "56121  Google to shut down augmented reality platform...   \n",
       "59198  Courts cannot force husband to keep his wife: ...   \n",
       "22010  Vijay Mallya's London mansion has a gold toile...   \n",
       "460    Hand that touches Hindu girl should be cut: An...   \n",
       "32632  Minister confirms no deaths after saying 27 di...   \n",
       "\n",
       "                                                    text  \n",
       "72758  A report by Syrian NGO Lawyers and Doctors for...  \n",
       "69237  Rakhi Sawant, while revealing that she found V...  \n",
       "48074  Pakistan's President Mamnoon Hussain has signe...  \n",
       "82099  Seventeen tourists flying in a hot air balloon...  \n",
       "19930  Indian Army ordered disciplinary action agains...  \n",
       "56121  Technology giant Google has announced that it ...  \n",
       "59198  The Supreme Court has observed that courts can...  \n",
       "22010  Beleaguered liquor baron Vijay Mallya's London...  \n",
       "460    Union Minister Anantkumar Hegde on Sunday said...  \n",
       "32632  A day after confirming 27 people were charred ...  "
      ]
     },
     "execution_count": 4,
     "metadata": {},
     "output_type": "execute_result"
    }
   ],
   "source": [
    "data.sample(10)"
   ]
  },
  {
   "cell_type": "markdown",
   "id": "c132666b",
   "metadata": {},
   "source": [
    "해당 데이터는 text와 headlines 두 가지 열로 구성되어 있음.\n",
    "\n",
    "* **추상적 요약** : text를 본문, headlines를 이미 요약된 데이터로 취급하여 모델을 학습\n",
    "* **추출적 요약** : 오직 text열만을 사용"
   ]
  },
  {
   "cell_type": "markdown",
   "id": "27c3b3be",
   "metadata": {},
   "source": [
    "# 2. 데이터 전처리하기 (추상적 요약)\n",
    "\n",
    "데이터 전처리 과정은 크게 세 과정으로 나눠서 진행된다.\n",
    "\n",
    "1. 데이터 정리\n",
    "2. 훈련 데이터와 데스트 데이터 분할\n",
    "3. 정수 인코딩"
   ]
  },
  {
   "cell_type": "markdown",
   "id": "90cc6520",
   "metadata": {},
   "source": [
    "# 2.1 데이터 전처리하기 - 데이터 정리\n",
    "\n",
    "## 중복 샘플과 NULL 값이 존재하는 샘플 제거"
   ]
  },
  {
   "cell_type": "code",
   "execution_count": 5,
   "id": "177e3bfd",
   "metadata": {},
   "outputs": [
    {
     "name": "stdout",
     "output_type": "stream",
     "text": [
      "Text 열에서 중복을 배제한 유일한 샘플의 수 : 98360\n",
      "Summary 열에서 중복을 배제한 유일한 샘플의 수 : 98280\n"
     ]
    }
   ],
   "source": [
    "print('Text 열에서 중복을 배제한 유일한 샘플의 수 :', data['text'].nunique())\n",
    "print('Summary 열에서 중복을 배제한 유일한 샘플의 수 :', data['headlines'].nunique())"
   ]
  },
  {
   "cell_type": "markdown",
   "id": "f1d66840",
   "metadata": {},
   "source": [
    "중복을 제외한다면 text에는 98,360개, headlines에는 98,280개의 유니크한 데이터가 존재.\n",
    "headlines에는 간단한 요약들도 많아서 Text가 달라도 headlines는 동일할 수 있다. 하지만 Text 자체가 중복이 된 경우는 중복 샘플이므로 제거해야한다.\n",
    "\n",
    "* 데이터프레임의 `drop_duplicates()`를 사용하면, 손쉽게 중복 샘플을 제거가능.\n",
    "* 전체 샘플수는 98401개 이므로 text 열에서 41개 중복이 존재하는 것을 알 수 있음."
   ]
  },
  {
   "cell_type": "code",
   "execution_count": 7,
   "id": "b335a37c",
   "metadata": {},
   "outputs": [
    {
     "name": "stdout",
     "output_type": "stream",
     "text": [
      "전체 샘플수 : 98360\n"
     ]
    }
   ],
   "source": [
    "# inplace=True 를 설정하면 DataFrame 타입 값을 return 하지 않고 data 내부를 직접적으로 바꿉니다\n",
    "data.drop_duplicates(subset = ['text'], inplace=True)\n",
    "print('전체 샘플수 :', (len(data)))"
   ]
  },
  {
   "cell_type": "markdown",
   "id": "567acc22",
   "metadata": {},
   "source": [
    "* 데이터프레임에 Null 값이 있는지 확인하는 방법은 `.isnull().sum()`을 사용하면 알아볼 수 있음."
   ]
  },
  {
   "cell_type": "code",
   "execution_count": 8,
   "id": "5745d42e",
   "metadata": {},
   "outputs": [
    {
     "name": "stdout",
     "output_type": "stream",
     "text": [
      "headlines    0\n",
      "text         0\n",
      "dtype: int64\n"
     ]
    }
   ],
   "source": [
    "print(data.isnull().sum())"
   ]
  },
  {
   "cell_type": "markdown",
   "id": "9e6d99e7",
   "metadata": {},
   "source": [
    "* 결측치가 존재하지 않음."
   ]
  },
  {
   "cell_type": "markdown",
   "id": "e855332b",
   "metadata": {},
   "source": [
    "## 텍스트 정규화와 불용어 제거\n",
    "\n",
    "**텍스트 정규화(text normalization)** 란, 같은 의미이지만 다른 표현으로 사용되는 단어들을 같은 단어로 통일시켜주는 역할로, `it'll` = `it will`, `mustn't` = `must not` 와 같은 의미의 표현들을 통일시키는 과정. 텍스트 정규화를 통해 기계의 연산량을 줄일 수 있다."
   ]
  },
  {
   "cell_type": "code",
   "execution_count": 9,
   "id": "dab9713f",
   "metadata": {},
   "outputs": [
    {
     "name": "stdout",
     "output_type": "stream",
     "text": [
      "정규화 사전의 수:  120\n"
     ]
    }
   ],
   "source": [
    "contractions = {\"ain't\": \"is not\", \"aren't\": \"are not\",\"can't\": \"cannot\", \"'cause\": \"because\", \"could've\": \"could have\", \"couldn't\": \"could not\",\n",
    "                           \"didn't\": \"did not\",  \"doesn't\": \"does not\", \"don't\": \"do not\", \"hadn't\": \"had not\", \"hasn't\": \"has not\", \"haven't\": \"have not\",\n",
    "                           \"he'd\": \"he would\",\"he'll\": \"he will\", \"he's\": \"he is\", \"how'd\": \"how did\", \"how'd'y\": \"how do you\", \"how'll\": \"how will\", \"how's\": \"how is\",\n",
    "                           \"I'd\": \"I would\", \"I'd've\": \"I would have\", \"I'll\": \"I will\", \"I'll've\": \"I will have\",\"I'm\": \"I am\", \"I've\": \"I have\", \"i'd\": \"i would\",\n",
    "                           \"i'd've\": \"i would have\", \"i'll\": \"i will\",  \"i'll've\": \"i will have\",\"i'm\": \"i am\", \"i've\": \"i have\", \"isn't\": \"is not\", \"it'd\": \"it would\",\n",
    "                           \"it'd've\": \"it would have\", \"it'll\": \"it will\", \"it'll've\": \"it will have\",\"it's\": \"it is\", \"let's\": \"let us\", \"ma'am\": \"madam\",\n",
    "                           \"mayn't\": \"may not\", \"might've\": \"might have\",\"mightn't\": \"might not\",\"mightn't've\": \"might not have\", \"must've\": \"must have\",\n",
    "                           \"mustn't\": \"must not\", \"mustn't've\": \"must not have\", \"needn't\": \"need not\", \"needn't've\": \"need not have\",\"o'clock\": \"of the clock\",\n",
    "                           \"oughtn't\": \"ought not\", \"oughtn't've\": \"ought not have\", \"shan't\": \"shall not\", \"sha'n't\": \"shall not\", \"shan't've\": \"shall not have\",\n",
    "                           \"she'd\": \"she would\", \"she'd've\": \"she would have\", \"she'll\": \"she will\", \"she'll've\": \"she will have\", \"she's\": \"she is\",\n",
    "                           \"should've\": \"should have\", \"shouldn't\": \"should not\", \"shouldn't've\": \"should not have\", \"so've\": \"so have\",\"so's\": \"so as\",\n",
    "                           \"this's\": \"this is\",\"that'd\": \"that would\", \"that'd've\": \"that would have\", \"that's\": \"that is\", \"there'd\": \"there would\",\n",
    "                           \"there'd've\": \"there would have\", \"there's\": \"there is\", \"here's\": \"here is\",\"they'd\": \"they would\", \"they'd've\": \"they would have\",\n",
    "                           \"they'll\": \"they will\", \"they'll've\": \"they will have\", \"they're\": \"they are\", \"they've\": \"they have\", \"to've\": \"to have\",\n",
    "                           \"wasn't\": \"was not\", \"we'd\": \"we would\", \"we'd've\": \"we would have\", \"we'll\": \"we will\", \"we'll've\": \"we will have\", \"we're\": \"we are\",\n",
    "                           \"we've\": \"we have\", \"weren't\": \"were not\", \"what'll\": \"what will\", \"what'll've\": \"what will have\", \"what're\": \"what are\",\n",
    "                           \"what's\": \"what is\", \"what've\": \"what have\", \"when's\": \"when is\", \"when've\": \"when have\", \"where'd\": \"where did\", \"where's\": \"where is\",\n",
    "                           \"where've\": \"where have\", \"who'll\": \"who will\", \"who'll've\": \"who will have\", \"who's\": \"who is\", \"who've\": \"who have\",\n",
    "                           \"why's\": \"why is\", \"why've\": \"why have\", \"will've\": \"will have\", \"won't\": \"will not\", \"won't've\": \"will not have\",\n",
    "                           \"would've\": \"would have\", \"wouldn't\": \"would not\", \"wouldn't've\": \"would not have\", \"y'all\": \"you all\",\n",
    "                           \"y'all'd\": \"you all would\",\"y'all'd've\": \"you all would have\",\"y'all're\": \"you all are\",\"y'all've\": \"you all have\",\n",
    "                           \"you'd\": \"you would\", \"you'd've\": \"you would have\", \"you'll\": \"you will\", \"you'll've\": \"you will have\",\n",
    "                           \"you're\": \"you are\", \"you've\": \"you have\"}\n",
    "\n",
    "print(\"정규화 사전의 수: \", len(contractions))"
   ]
  },
  {
   "cell_type": "markdown",
   "id": "e78f8e66",
   "metadata": {},
   "source": [
    "**불용어** 란 자연어 처리를 할 때 의미를 분석하고 요약하는 데는 거의 의미가 없는 단어이다.\n",
    "\n",
    "* NLTK 에서 제공하는 불용어 리스트를 참조해, 샘플에서 불용어를 제거한다.\n",
    "* 불용어 리스트에는 총 179개의 불용어가 존재"
   ]
  },
  {
   "cell_type": "code",
   "execution_count": 10,
   "id": "f19f9429",
   "metadata": {},
   "outputs": [
    {
     "name": "stdout",
     "output_type": "stream",
     "text": [
      "불용어 개수 : 179\n",
      "['i', 'me', 'my', 'myself', 'we', 'our', 'ours', 'ourselves', 'you', \"you're\", \"you've\", \"you'll\", \"you'd\", 'your', 'yours', 'yourself', 'yourselves', 'he', 'him', 'his', 'himself', 'she', \"she's\", 'her', 'hers', 'herself', 'it', \"it's\", 'its', 'itself', 'they', 'them', 'their', 'theirs', 'themselves', 'what', 'which', 'who', 'whom', 'this', 'that', \"that'll\", 'these', 'those', 'am', 'is', 'are', 'was', 'were', 'be', 'been', 'being', 'have', 'has', 'had', 'having', 'do', 'does', 'did', 'doing', 'a', 'an', 'the', 'and', 'but', 'if', 'or', 'because', 'as', 'until', 'while', 'of', 'at', 'by', 'for', 'with', 'about', 'against', 'between', 'into', 'through', 'during', 'before', 'after', 'above', 'below', 'to', 'from', 'up', 'down', 'in', 'out', 'on', 'off', 'over', 'under', 'again', 'further', 'then', 'once', 'here', 'there', 'when', 'where', 'why', 'how', 'all', 'any', 'both', 'each', 'few', 'more', 'most', 'other', 'some', 'such', 'no', 'nor', 'not', 'only', 'own', 'same', 'so', 'than', 'too', 'very', 's', 't', 'can', 'will', 'just', 'don', \"don't\", 'should', \"should've\", 'now', 'd', 'll', 'm', 'o', 're', 've', 'y', 'ain', 'aren', \"aren't\", 'couldn', \"couldn't\", 'didn', \"didn't\", 'doesn', \"doesn't\", 'hadn', \"hadn't\", 'hasn', \"hasn't\", 'haven', \"haven't\", 'isn', \"isn't\", 'ma', 'mightn', \"mightn't\", 'mustn', \"mustn't\", 'needn', \"needn't\", 'shan', \"shan't\", 'shouldn', \"shouldn't\", 'wasn', \"wasn't\", 'weren', \"weren't\", 'won', \"won't\", 'wouldn', \"wouldn't\"]\n"
     ]
    }
   ],
   "source": [
    "print('불용어 개수 :', len(stopwords.words('english') ))\n",
    "print(stopwords.words('english'))"
   ]
  },
  {
   "cell_type": "markdown",
   "id": "bb46d4b8",
   "metadata": {},
   "source": [
    "데이터 전처리 함수 `preprocess_sentence`를 생성한다.\n",
    "* 텍스트 소문자화\n",
    "* html 태그 제거\n",
    "* 괄호로 닫힌 문자열 (...) 제거\n",
    "* 정규 표현식을 통해 각종 특수문자 제거\n",
    "* 소유격 제거\n",
    "\n",
    "\n",
    "이후, if 조건문을 이용하여 text에 있는 불용어를 제거하고, headlines에 있는 불용어는 제거하지 않음\n",
    "* **text** 데이터만 불용어 제거하기 위해 함수의 인자로 `remove_stopwords` 추가\n",
    "* Abstractive한 문장 요약 결과문이 자연스러운 문장이 되려면 이 불용어들이 **headlines**에는 남아 있는 게 더 좋음"
   ]
  },
  {
   "cell_type": "code",
   "execution_count": 11,
   "id": "1828022c",
   "metadata": {},
   "outputs": [],
   "source": [
    "#데이터 전처리 함수\n",
    "def preprocess_sentence(sentence, remove_stopwords=True):\n",
    "    sentence = sentence.lower() # 텍스트 소문자화\n",
    "    sentence = BeautifulSoup(sentence, \"lxml\").text # <br />, <a href = ...> 등의 html 태그 제거\n",
    "    sentence = re.sub(r'\\([^)]*\\)', '', sentence) # 괄호로 닫힌 문자열 (...) 제거 Ex) my husband (and myself!) for => my husband for\n",
    "    sentence = re.sub('\"','', sentence) # 쌍따옴표 \" 제거\n",
    "    sentence = ' '.join([contractions[t] if t in contractions else t for t in sentence.split(\" \")]) # 약어 정규화\n",
    "    sentence = re.sub(r\"'s\\b\",\"\",sentence) # 소유격 제거. Ex) roland's -> roland\n",
    "    sentence = re.sub(\"[^a-zA-Z]\", \" \", sentence) # 영어 외 문자(숫자, 특수문자 등) 공백으로 변환\n",
    "    sentence = re.sub('[m]{2,}', 'mm', sentence) # m이 3개 이상이면 2개로 변경. Ex) ummmmmmm yeah -> umm yeah\n",
    "    \n",
    "    # 불용어 제거 (text)\n",
    "    if remove_stopwords:\n",
    "        tokens = ' '.join(word for word in sentence.split() if not word in stopwords.words('english') if len(word) > 1)\n",
    "    # 불용어 미제거 (headlines)\n",
    "    else:\n",
    "        tokens = ' '.join(word for word in sentence.split() if len(word) > 1)\n",
    "    return tokens"
   ]
  },
  {
   "cell_type": "markdown",
   "id": "61786e5e",
   "metadata": {},
   "source": [
    "* 전체 text에 대하여 전처리 과정\n",
    "* 전처리 과정을 거친 text 데이터는 clean_text라는 빈 리스트에 추가\n",
    "* 불용어 제거, `remove_stopwords=True`"
   ]
  },
  {
   "cell_type": "code",
   "execution_count": 13,
   "id": "62ec6320",
   "metadata": {},
   "outputs": [
    {
     "name": "stdout",
     "output_type": "stream",
     "text": [
      "Text 전처리 후 결과:  ['saurav kant alumnus upgrad iiit pg program machine learning artificial intelligence sr systems engineer infosys almost years work experience program upgrad degree career support helped transition data scientist tech mahindra salary hike upgrad online power learning powered lakh careers', 'kunal shah credit card bill payment platform cred gave users chance win free food swiggy one year pranav kaushik delhi techie bagged reward spending cred coins users get one cred coin per rupee bill paid used avail rewards brands like ixigo bookmyshow ubereats cult fit', 'new zealand defeated india wickets fourth odi hamilton thursday win first match five match odi series india lost international match rohit sharma captaincy consecutive victories dating back march match witnessed india getting seventh lowest total odi cricket history', 'aegon life iterm insurance plan customers enjoy tax benefits premiums paid save taxes plan provides life cover age years also customers options insure critical illnesses disability accidental death benefit rider life cover age years', 'speaking sexual harassment allegations rajkumar hirani sonam kapoor said known hirani many years true metoo movement get derailed metoo movement always believe woman case need reserve judgment added hirani accused assistant worked sanju']\n"
     ]
    }
   ],
   "source": [
    "clean_text = []\n",
    "# 전체 Text 데이터에 대한 전처리 : 10분 이상 시간이 걸릴 수 있습니다. \n",
    "for s in data['text']:\n",
    "    clean_text.append(preprocess_sentence(s))\n",
    "\n",
    "# 전처리 후 출력\n",
    "print(\"Text 전처리 후 결과: \", clean_text[:5])"
   ]
  },
  {
   "cell_type": "markdown",
   "id": "d9cc104d",
   "metadata": {},
   "source": [
    "* 전체 headlines에 대하여 전처리 과정\n",
    "* 전처리 과정을 거친 headlines 데이터는 clean_headlines 이라는 빈 리스트에 추가\n",
    "* 불용어 제거 X, `remove_stopwords=False`"
   ]
  },
  {
   "cell_type": "code",
   "execution_count": 15,
   "id": "c4cee082",
   "metadata": {},
   "outputs": [
    {
     "name": "stdout",
     "output_type": "stream",
     "text": [
      "headlines 전처리 후 결과:  ['upgrad learner switches to career in ml al with salary hike', 'delhi techie wins free food from swiggy for one year on cred', 'new zealand end rohit sharma led india match winning streak', 'aegon life iterm insurance plan helps customers save tax', 'have known hirani for yrs what if metoo claims are not true sonam']\n"
     ]
    }
   ],
   "source": [
    "clean_headlines = []\n",
    "# 전체 headlines 데이터에 대한 전처리 : 5분 이상 시간이 걸릴 수 있습니다. \n",
    "for s in data['headlines']:\n",
    "    clean_headlines.append(preprocess_sentence(s, False))\n",
    "\n",
    "print(\"headlines 전처리 후 결과: \", clean_headlines[:5])"
   ]
  },
  {
   "cell_type": "markdown",
   "id": "55d49d76",
   "metadata": {},
   "source": [
    "* 정제 전에는 데이터가 존재했지만, 정제 과정에서 문장의 모든 단어가 사라지는 경우가 있을 수 있다. 이렇게 되면 샘플 자체가 빈 값을 가지게 된다.\n",
    "\n",
    "* 이후 빈(empty) 값을 가진 샘플들이 있다면, 모두 Null 값을 가진 샘플로 대체한다."
   ]
  },
  {
   "cell_type": "code",
   "execution_count": 16,
   "id": "d4efafdb",
   "metadata": {},
   "outputs": [],
   "source": [
    "data['text'] = clean_text\n",
    "data['headlines'] = clean_headlines\n",
    "\n",
    "# 빈 값을 Null 값으로 변환\n",
    "data.replace('', np.nan, inplace=True)"
   ]
  },
  {
   "cell_type": "markdown",
   "id": "3c732c40",
   "metadata": {},
   "source": [
    "* dataframe 내에 NULL 값이 존재하는지 확인"
   ]
  },
  {
   "cell_type": "code",
   "execution_count": 17,
   "id": "d9e3eed2",
   "metadata": {},
   "outputs": [
    {
     "data": {
      "text/plain": [
       "headlines    0\n",
       "text         0\n",
       "dtype: int64"
      ]
     },
     "execution_count": 17,
     "metadata": {},
     "output_type": "execute_result"
    }
   ],
   "source": [
    "data.isnull().sum()"
   ]
  },
  {
   "cell_type": "markdown",
   "id": "45b41035",
   "metadata": {},
   "source": [
    "# 2.2 데이터 전처리하기 - 훈련 데이터와 데스트 데이터 분할\n",
    "\n",
    "## 샘플의 최대 길이 정하기\n",
    "\n",
    "* 필요 없는 단어를 모두 솎아낸 데이터를 가지게 되었으니, 이제 훈련에 사용할 샘플의 최대 길이를 정해준다.\n",
    "* `text` 와 `headlines` 의 최소, 최대, 평균 길이를 구하고 길이 분포를 시각화해본다."
   ]
  },
  {
   "cell_type": "code",
   "execution_count": 18,
   "id": "e947ca98",
   "metadata": {},
   "outputs": [
    {
     "name": "stdout",
     "output_type": "stream",
     "text": [
      "text 의 최소 길이 : 1\n",
      "text 의 최대 길이 : 60\n",
      "text 의 평균 길이 : 35.09968483123221\n",
      "headlines 의 최소 길이 : 1\n",
      "headlines 의 최대 길이 : 16\n",
      "headlines 의 평균 길이 : 9.299532330215534\n"
     ]
    },
    {
     "data": {
      "image/png": "[encoded data removed]",
      "text/plain": [
       "<Figure size 432x288 with 2 Axes>"
      ]
     },
     "metadata": {
      "needs_background": "light"
     },
     "output_type": "display_data"
    },
    {
     "data": {
      "image/png": "[encoded data removed]",
      "text/plain": [
       "<Figure size 432x288 with 1 Axes>"
      ]
     },
     "metadata": {
      "needs_background": "light"
     },
     "output_type": "display_data"
    },
    {
     "data": {
      "image/png": "[encoded data removed]",
      "text/plain": [
       "<Figure size 432x288 with 1 Axes>"
      ]
     },
     "metadata": {
      "needs_background": "light"
     },
     "output_type": "display_data"
    }
   ],
   "source": [
    "# 길이 분포 출력\n",
    "import matplotlib.pyplot as plt\n",
    "\n",
    "text_len = [len(s.split()) for s in data['text']]\n",
    "headlines_len = [len(s.split()) for s in data['headlines']]\n",
    "\n",
    "print('text 의 최소 길이 : {}'.format(np.min(text_len)))\n",
    "print('text 의 최대 길이 : {}'.format(np.max(text_len)))\n",
    "print('text 의 평균 길이 : {}'.format(np.mean(text_len)))\n",
    "print('headlines 의 최소 길이 : {}'.format(np.min(headlines_len)))\n",
    "print('headlines 의 최대 길이 : {}'.format(np.max(headlines_len)))\n",
    "print('headlines 의 평균 길이 : {}'.format(np.mean(headlines_len)))\n",
    "\n",
    "plt.subplot(1,2,1)\n",
    "plt.boxplot(headlines_len)\n",
    "plt.title('headlines')\n",
    "plt.subplot(1,2,2)\n",
    "plt.boxplot(text_len)\n",
    "plt.title('text')\n",
    "plt.tight_layout()\n",
    "plt.show()\n",
    "\n",
    "plt.title('headlines')\n",
    "plt.hist(headlines_len, bins = 40)\n",
    "plt.xlabel('length of samples')\n",
    "plt.ylabel('number of samples')\n",
    "plt.show()\n",
    "\n",
    "plt.title('text')\n",
    "plt.hist(text_len, bins = 40)\n",
    "plt.xlabel('length of samples')\n",
    "plt.ylabel('number of samples')\n",
    "plt.show()"
   ]
  },
  {
   "cell_type": "markdown",
   "id": "18ba94bf",
   "metadata": {},
   "source": [
    "* `text`의 경우, 대체적으로 25 ~ 45 사이의 길이 분포를 구성\n",
    "* `headlines`의 경우, 대체적으로 6 ~ 13 사이의 길이 분포를 구성text에 비해 길이가 상대적으로 짧음\n",
    "\n",
    "* text와 headlines의 적절한 최대 길이를 임의로 설정"
   ]
  },
  {
   "cell_type": "code",
   "execution_count": 27,
   "id": "cc1255f5",
   "metadata": {},
   "outputs": [],
   "source": [
    "text_max_len = 44\n",
    "headlines_max_len = 12"
   ]
  },
  {
   "cell_type": "code",
   "execution_count": 28,
   "id": "ed6d54ce",
   "metadata": {},
   "outputs": [],
   "source": [
    "def below_threshold_len(max_len, nested_list):  # 데이터의 몇 %가 해당하는지 계산하는 함수\n",
    "  cnt = 0\n",
    "  for s in nested_list:\n",
    "    if(len(s.split()) <= max_len):\n",
    "        cnt = cnt + 1\n",
    "  print('전체 샘플 중 길이가 %s 이하인 샘플의 비율: %s'%(max_len, (cnt / len(nested_list))))"
   ]
  },
  {
   "cell_type": "code",
   "execution_count": 29,
   "id": "f8227366",
   "metadata": {},
   "outputs": [
    {
     "name": "stdout",
     "output_type": "stream",
     "text": [
      "전체 샘플 중 길이가 44 이하인 샘플의 비율: 0.9933712891419276\n",
      "전체 샘플 중 길이가 12 이하인 샘플의 비율: 0.9880337535583571\n"
     ]
    }
   ],
   "source": [
    "below_threshold_len(text_max_len, data['text'])\n",
    "below_threshold_len(headlines_max_len,  data['headlines'])"
   ]
  },
  {
   "cell_type": "markdown",
   "id": "b77a870f",
   "metadata": {},
   "source": [
    "* text와 headlines의 약 98% 이상의 데이터들이 포함되는 것을 확인\n",
    "\n",
    "\n",
    "## 최대길이 적용\n",
    "\n",
    "* 설정한 최대 길이보다 긴 데이터들은 dataframe에서 제외\n",
    "* 최종적으로 남는 **샘플의 수는 96,538개**"
   ]
  },
  {
   "cell_type": "code",
   "execution_count": 30,
   "id": "7e0df2d0",
   "metadata": {},
   "outputs": [
    {
     "name": "stdout",
     "output_type": "stream",
     "text": [
      "전체 샘플 수 : 96538\n"
     ]
    }
   ],
   "source": [
    "data = data[data['text'].apply(lambda x: len(x.split()) <= text_max_len)]\n",
    "data = data[data['headlines'].apply(lambda x: len(x.split()) <= headlines_max_len)]\n",
    "print('전체 샘플 수 :',(len(data)))"
   ]
  },
  {
   "cell_type": "markdown",
   "id": "44a4a709",
   "metadata": {},
   "source": [
    "## 시작 토큰과 종료 토큰 추가하기\n",
    "\n",
    "* seq2seq 훈련을 위해서는 디코더의 입력과 레이블에 시작 토큰과 종료 토큰을 추가해야한다.\n",
    "* 시작 토큰은 `sostoken`, 종료 토큰은 `eostoken`이라 임의로 명명하고 앞, 뒤로 추가한다."
   ]
  },
  {
   "cell_type": "code",
   "execution_count": 31,
   "id": "34b5dd39",
   "metadata": {},
   "outputs": [
    {
     "data": {
      "text/html": [
       "<div>\n",
       "<style scoped>\n",
       "    .dataframe tbody tr th:only-of-type {\n",
       "        vertical-align: middle;\n",
       "    }\n",
       "\n",
       "    .dataframe tbody tr th {\n",
       "        vertical-align: top;\n",
       "    }\n",
       "\n",
       "    .dataframe thead th {\n",
       "        text-align: right;\n",
       "    }\n",
       "</style>\n",
       "<table border=\"1\" class=\"dataframe\">\n",
       "  <thead>\n",
       "    <tr style=\"text-align: right;\">\n",
       "      <th></th>\n",
       "      <th>headlines</th>\n",
       "      <th>text</th>\n",
       "      <th>decoder_input</th>\n",
       "      <th>decoder_target</th>\n",
       "    </tr>\n",
       "  </thead>\n",
       "  <tbody>\n",
       "    <tr>\n",
       "      <th>0</th>\n",
       "      <td>upgrad learner switches to career in ml al wit...</td>\n",
       "      <td>saurav kant alumnus upgrad iiit pg program mac...</td>\n",
       "      <td>sostoken upgrad learner switches to career in ...</td>\n",
       "      <td>upgrad learner switches to career in ml al wit...</td>\n",
       "    </tr>\n",
       "    <tr>\n",
       "      <th>2</th>\n",
       "      <td>new zealand end rohit sharma led india match w...</td>\n",
       "      <td>new zealand defeated india wickets fourth odi ...</td>\n",
       "      <td>sostoken new zealand end rohit sharma led indi...</td>\n",
       "      <td>new zealand end rohit sharma led india match w...</td>\n",
       "    </tr>\n",
       "    <tr>\n",
       "      <th>3</th>\n",
       "      <td>aegon life iterm insurance plan helps customer...</td>\n",
       "      <td>aegon life iterm insurance plan customers enjo...</td>\n",
       "      <td>sostoken aegon life iterm insurance plan helps...</td>\n",
       "      <td>aegon life iterm insurance plan helps customer...</td>\n",
       "    </tr>\n",
       "    <tr>\n",
       "      <th>5</th>\n",
       "      <td>rahat fateh ali khan denies getting notice for...</td>\n",
       "      <td>pakistani singer rahat fateh ali khan denied r...</td>\n",
       "      <td>sostoken rahat fateh ali khan denies getting n...</td>\n",
       "      <td>rahat fateh ali khan denies getting notice for...</td>\n",
       "    </tr>\n",
       "    <tr>\n",
       "      <th>6</th>\n",
       "      <td>india get all out for their lowest odi total i...</td>\n",
       "      <td>india recorded lowest odi total new zealand ge...</td>\n",
       "      <td>sostoken india get all out for their lowest od...</td>\n",
       "      <td>india get all out for their lowest odi total i...</td>\n",
       "    </tr>\n",
       "  </tbody>\n",
       "</table>\n",
       "</div>"
      ],
      "text/plain": [
       "                                           headlines  \\\n",
       "0  upgrad learner switches to career in ml al wit...   \n",
       "2  new zealand end rohit sharma led india match w...   \n",
       "3  aegon life iterm insurance plan helps customer...   \n",
       "5  rahat fateh ali khan denies getting notice for...   \n",
       "6  india get all out for their lowest odi total i...   \n",
       "\n",
       "                                                text  \\\n",
       "0  saurav kant alumnus upgrad iiit pg program mac...   \n",
       "2  new zealand defeated india wickets fourth odi ...   \n",
       "3  aegon life iterm insurance plan customers enjo...   \n",
       "5  pakistani singer rahat fateh ali khan denied r...   \n",
       "6  india recorded lowest odi total new zealand ge...   \n",
       "\n",
       "                                       decoder_input  \\\n",
       "0  sostoken upgrad learner switches to career in ...   \n",
       "2  sostoken new zealand end rohit sharma led indi...   \n",
       "3  sostoken aegon life iterm insurance plan helps...   \n",
       "5  sostoken rahat fateh ali khan denies getting n...   \n",
       "6  sostoken india get all out for their lowest od...   \n",
       "\n",
       "                                      decoder_target  \n",
       "0  upgrad learner switches to career in ml al wit...  \n",
       "2  new zealand end rohit sharma led india match w...  \n",
       "3  aegon life iterm insurance plan helps customer...  \n",
       "5  rahat fateh ali khan denies getting notice for...  \n",
       "6  india get all out for their lowest odi total i...  "
      ]
     },
     "execution_count": 31,
     "metadata": {},
     "output_type": "execute_result"
    }
   ],
   "source": [
    "data['decoder_input'] = data['headlines'].apply(lambda x : 'sostoken '+ x)\n",
    "data['decoder_target'] = data['headlines'].apply(lambda x : x + ' eostoken')\n",
    "data.head()"
   ]
  },
  {
   "cell_type": "markdown",
   "id": "bb282e38",
   "metadata": {},
   "source": [
    "## Encoder 및 Decoder 생성 + 섞기\n",
    "\n",
    "* 인코더의 입력, 디코더의 입력, 디코더의 레이블을 numpy 타입으로 저장\n",
    "* 훈련 데이터와 테스트 데이터를 분리하기 전에, encoder_input과 크기와 형태가 같은 순서가 섞인 정수 시퀀스를 선언\n",
    "* 앞서 만든 정수 시퀀스를 이용하여, 데이터의 샘플 순서를 정의\n",
    "* 샘플을 섞어주는 역할을 수행"
   ]
  },
  {
   "cell_type": "code",
   "execution_count": 32,
   "id": "ef7a27ff",
   "metadata": {},
   "outputs": [
    {
     "name": "stdout",
     "output_type": "stream",
     "text": [
      "[29236 29113 45462 ... 53232 90746 21530]\n"
     ]
    }
   ],
   "source": [
    "# 인코더의 입력, 디코더의 입력과 레이블을 각각 다시 Numpy 타입으로 저장 \n",
    "encoder_input = np.array(data['text']) # 인코더의 입력\n",
    "decoder_input = np.array(data['decoder_input']) # 디코더의 입력\n",
    "decoder_target = np.array(data['decoder_target']) # 디코더의 레이블\n",
    "\n",
    "indices = np.arange(encoder_input.shape[0])\n",
    "np.random.shuffle(indices)\n",
    "print(indices)\n",
    "\n",
    "encoder_input = encoder_input[indices]\n",
    "decoder_input = decoder_input[indices]\n",
    "decoder_target = decoder_target[indices]"
   ]
  },
  {
   "cell_type": "markdown",
   "id": "db3a1592",
   "metadata": {},
   "source": [
    "## 훈련 데이터와 테스트 데이터 분할\n",
    "\n",
    "* 섞인 데이터를 8:2의 비율로 훈련 데이터와 테스트 데이터로 분리할 예정\n",
    "* 전체 데이터 크기에 0.2를 곱하여, 테스트 데이터의 크기를 정의\n",
    "* 앞서 정의한 테스트 데이터의 갯수를 이용하여 전체 데이터를 훈련 데이터와 테스트 데이터로 양분\n",
    "* 총 훈련 데이터는 77,231개이고, 테스트 데이터는 19,307개"
   ]
  },
  {
   "cell_type": "code",
   "execution_count": 33,
   "id": "6e014076",
   "metadata": {},
   "outputs": [
    {
     "name": "stdout",
     "output_type": "stream",
     "text": [
      "테스트 데이터의 수 : 19307\n",
      "훈련 데이터의 개수 : 77231\n",
      "훈련 레이블의 개수 : 77231\n",
      "테스트 데이터의 개수 : 19307\n",
      "테스트 레이블의 개수 : 19307\n"
     ]
    }
   ],
   "source": [
    "n_of_val = int(len(encoder_input)*0.2)\n",
    "print('테스트 데이터의 수 :', n_of_val)\n",
    "\n",
    "encoder_input_train = encoder_input[:-n_of_val]\n",
    "decoder_input_train = decoder_input[:-n_of_val]\n",
    "decoder_target_train = decoder_target[:-n_of_val]\n",
    "\n",
    "encoder_input_test = encoder_input[-n_of_val:]\n",
    "decoder_input_test = decoder_input[-n_of_val:]\n",
    "decoder_target_test = decoder_target[-n_of_val:]\n",
    "\n",
    "print('훈련 데이터의 개수 :', len(encoder_input_train))\n",
    "print('훈련 레이블의 개수 :', len(decoder_input_train))\n",
    "print('테스트 데이터의 개수 :', len(encoder_input_test))\n",
    "print('테스트 레이블의 개수 :', len(decoder_input_test))"
   ]
  },
  {
   "cell_type": "markdown",
   "id": "b4c49d9f",
   "metadata": {},
   "source": [
    "# 2.3 데이터 전처리하기 - 정수 인코딩\n",
    "\n",
    "## 단어 집합(vocabulary) 만들기 및 정수 인코딩"
   ]
  },
  {
   "cell_type": "code",
   "execution_count": 34,
   "id": "6a1f7e4e",
   "metadata": {},
   "outputs": [],
   "source": [
    "src_tokenizer = Tokenizer() # 토크나이저 정의\n",
    "src_tokenizer.fit_on_texts(encoder_input_train) # 입력된 데이터로부터 단어 집합 생성"
   ]
  },
  {
   "cell_type": "markdown",
   "id": "8b89510f",
   "metadata": {},
   "source": [
    "* 현재 생성된 단어 집합은 `src_tokenizer.word_index` 에 저장되어 있다.\n",
    "\n",
    "* 만든 단어 집합에 있는 모든 단어를 사용하는 것이 아니라, 빈도수가 낮은 단어들은 훈련 데이터에서 제외한다.\n",
    "\n",
    "* `src_tokenizer.word_counts.items()` 를 사용하여 등장 빈도수가 8회 미만인 단어들이 이 데이터에서 얼만큼의 비중을 차지하는지 확인해본다."
   ]
  },
  {
   "cell_type": "code",
   "execution_count": 40,
   "id": "e886a7d2",
   "metadata": {},
   "outputs": [
    {
     "name": "stdout",
     "output_type": "stream",
     "text": [
      "단어 집합(vocabulary)의 크기 : 68761\n",
      "등장 빈도가 7번 이하인 희귀 단어의 수: 48297\n",
      "단어 집합에서 희귀 단어를 제외시킬 경우의 단어 집합의 크기 20464\n",
      "단어 집합에서 희귀 단어의 비율: 70.23894358720787\n",
      "전체 등장 빈도에서 희귀 단어 등장 빈도 비율: 3.8959070984528728\n"
     ]
    }
   ],
   "source": [
    "threshold = 8\n",
    "total_cnt = len(src_tokenizer.word_index) # 단어의 수\n",
    "rare_cnt = 0 # 등장 빈도수가 threshold보다 작은 단어의 개수를 카운트\n",
    "total_freq = 0 # 훈련 데이터의 전체 단어 빈도수 총 합\n",
    "rare_freq = 0 # 등장 빈도수가 threshold보다 작은 단어의 등장 빈도수의 총 합\n",
    "\n",
    "# 단어와 빈도수의 쌍(pair)을 key와 value로 받는다.\n",
    "for key, value in src_tokenizer.word_counts.items():\n",
    "    total_freq = total_freq + value\n",
    "\n",
    "    # 단어의 등장 빈도수가 threshold보다 작으면\n",
    "    if(value < threshold):\n",
    "        rare_cnt = rare_cnt + 1\n",
    "        rare_freq = rare_freq + value\n",
    "\n",
    "print('단어 집합(vocabulary)의 크기 :', total_cnt)\n",
    "print('등장 빈도가 %s번 이하인 희귀 단어의 수: %s'%(threshold - 1, rare_cnt))\n",
    "print('단어 집합에서 희귀 단어를 제외시킬 경우의 단어 집합의 크기 %s'%(total_cnt - rare_cnt))\n",
    "print(\"단어 집합에서 희귀 단어의 비율:\", (rare_cnt / total_cnt)*100)\n",
    "print(\"전체 등장 빈도에서 희귀 단어 등장 빈도 비율:\", (rare_freq / total_freq)*100)"
   ]
  },
  {
   "cell_type": "markdown",
   "id": "7ff98133",
   "metadata": {},
   "source": [
    "* 등장 빈도가 threshold 값인 7회 이하인 단어들은 단어 집합에서 약 70% 를 차지함.\n",
    "* 하지만, 실제로 훈련 데이터에서 등장 빈도로 차지하는 비중은 상대적으로 적은 수치인 3.89% 밖에 되지 않음.\n",
    "\n",
    "등장 빈도가 7회 이하인 단어들은 정수 인코딩 과정에서 빼고, 훈련 데이터에서 제거한다.\n",
    "\n",
    "단어 집합의 크기를 20,000으로 제한한다."
   ]
  },
  {
   "cell_type": "code",
   "execution_count": 41,
   "id": "a68d1e25",
   "metadata": {},
   "outputs": [],
   "source": [
    "src_vocab = 20000\n",
    "src_tokenizer = Tokenizer(num_words=src_vocab) # 단어 집합의 크기를 20,000으로 제한\n",
    "src_tokenizer.fit_on_texts(encoder_input_train) # 단어 집합 재생성."
   ]
  },
  {
   "cell_type": "code",
   "execution_count": 42,
   "id": "46ad1bf6",
   "metadata": {},
   "outputs": [
    {
     "name": "stdout",
     "output_type": "stream",
     "text": [
      "[536, 687, 1270, 1587, 2323, 4683, 4724, 1417, 456, 85, 92, 168, 386, 2992, 176, 416, 5812, 838, 2855, 55, 671, 6901, 4, 1602, 416, 3900, 572, 536, 92, 820, 6179, 416, 2812]\n"
     ]
    }
   ],
   "source": [
    "# 텍스트 시퀀스를 정수 시퀀스로 변환\n",
    "encoder_input_train = src_tokenizer.texts_to_sequences(encoder_input_train) \n",
    "encoder_input_test = src_tokenizer.texts_to_sequences(encoder_input_test)\n",
    "\n",
    "# 잘 진행되었는지 샘플 출력\n",
    "print(encoder_input_train[0])"
   ]
  },
  {
   "cell_type": "markdown",
   "id": "ada80627",
   "metadata": {},
   "source": [
    "## keras의 토크나이저를 이용하여, decoder_input에 대해서도 똑같은 작업을 수행"
   ]
  },
  {
   "cell_type": "code",
   "execution_count": 43,
   "id": "1c0eab51",
   "metadata": {},
   "outputs": [],
   "source": [
    "# 전체 단어 집합과 각 단어에 대한 빈도수를 계산\n",
    "tar_tokenizer = Tokenizer()\n",
    "tar_tokenizer.fit_on_texts(decoder_input_train)"
   ]
  },
  {
   "cell_type": "code",
   "execution_count": 44,
   "id": "5214eade",
   "metadata": {},
   "outputs": [
    {
     "name": "stdout",
     "output_type": "stream",
     "text": [
      "단어 집합(vocabulary)의 크기 : 29762\n",
      "등장 빈도가 6번 이하인 희귀 단어의 수: 20328\n",
      "단어 집합에서 희귀 단어를 제외시킬 경우의 단어 집합의 크기 9434\n",
      "단어 집합에서 희귀 단어의 비율: 68.3018614340434\n",
      "전체 등장 빈도에서 희귀 단어 등장 빈도 비율: 5.382085905690958\n"
     ]
    }
   ],
   "source": [
    "# 등장 빈도수가 8회 미만인 단어들이 이 데이터에서 얼만큼의 비중을 차지하는지 확인\n",
    "threshold = 7\n",
    "total_cnt = len(tar_tokenizer.word_index) # 단어의 수\n",
    "rare_cnt = 0 # 등장 빈도수가 threshold보다 작은 단어의 개수를 카운트\n",
    "total_freq = 0 # 훈련 데이터의 전체 단어 빈도수 총 합\n",
    "rare_freq = 0 # 등장 빈도수가 threshold보다 작은 단어의 등장 빈도수의 총 합\n",
    "\n",
    "# 단어와 빈도수의 쌍(pair)을 key와 value로 받는다.\n",
    "for key, value in tar_tokenizer.word_counts.items():\n",
    "    total_freq = total_freq + value\n",
    "\n",
    "    # 단어의 등장 빈도수가 threshold보다 작으면\n",
    "    if(value < threshold):\n",
    "        rare_cnt = rare_cnt + 1\n",
    "        rare_freq = rare_freq + value\n",
    "\n",
    "print('단어 집합(vocabulary)의 크기 :', total_cnt)\n",
    "print('등장 빈도가 %s번 이하인 희귀 단어의 수: %s'%(threshold - 1, rare_cnt))\n",
    "print('단어 집합에서 희귀 단어를 제외시킬 경우의 단어 집합의 크기 %s'%(total_cnt - rare_cnt))\n",
    "print(\"단어 집합에서 희귀 단어의 비율:\", (rare_cnt / total_cnt)*100)\n",
    "print(\"전체 등장 빈도에서 희귀 단어 등장 빈도 비율:\", (rare_freq / total_freq)*100)"
   ]
  },
  {
   "cell_type": "code",
   "execution_count": 45,
   "id": "82bf3cda",
   "metadata": {},
   "outputs": [
    {
     "name": "stdout",
     "output_type": "stream",
     "text": [
      "input\n",
      "input  [1, 3648, 636, 426, 107, 80, 6118, 24, 215, 7, 1537, 244]\n",
      "target\n",
      "decoder  [3648, 636, 426, 107, 80, 6118, 24, 215, 7, 1537, 244, 2]\n"
     ]
    }
   ],
   "source": [
    "tar_vocab = 9000\n",
    "tar_tokenizer = Tokenizer(num_words = tar_vocab) \n",
    "tar_tokenizer.fit_on_texts(decoder_input_train)\n",
    "tar_tokenizer.fit_on_texts(decoder_target_train)\n",
    "\n",
    "# 텍스트 시퀀스를 정수 시퀀스로 변환\n",
    "decoder_input_train = tar_tokenizer.texts_to_sequences(decoder_input_train) \n",
    "decoder_target_train = tar_tokenizer.texts_to_sequences(decoder_target_train)\n",
    "decoder_input_test = tar_tokenizer.texts_to_sequences(decoder_input_test)\n",
    "decoder_target_test = tar_tokenizer.texts_to_sequences(decoder_target_test)\n",
    "\n",
    "#잘 변환되었는지 확인\n",
    "print('input')\n",
    "print('input ',decoder_input_train[0])\n",
    "print('target')\n",
    "print('decoder ',decoder_target_train[0])"
   ]
  },
  {
   "cell_type": "markdown",
   "id": "284e66b4",
   "metadata": {},
   "source": [
    "* 전체 데이터에서 빈도수가 낮은 단어가 삭제되었다는 것은 빈도수가 낮은 단어만으로 구성되었던 샘플들은 이제 빈(empty) 샘플이 되었을 가능성이 있다.\n",
    "\n",
    "* decoder_input에는 sostoken 또는 decoder_target에는 eostoken이 추가된 상태이므로 길이가 0이 된 요악문의 실제 길이는 1로 나올 것이다.\n",
    "\n",
    "* 훈련 데이터와 테스트 데이터에 대해서 요약문의 길이가 1인 경우의 인덱스를 각각 drop_train과 drop_test에 라는 변수에 저장하고 샘플들은 모두 삭제한다."
   ]
  },
  {
   "cell_type": "code",
   "execution_count": 46,
   "id": "c9341d25",
   "metadata": {},
   "outputs": [
    {
     "name": "stdout",
     "output_type": "stream",
     "text": [
      "삭제할 훈련 데이터의 개수 : 0\n",
      "삭제할 테스트 데이터의 개수 : 1\n",
      "훈련 데이터의 개수 : 77231\n",
      "훈련 레이블의 개수 : 77231\n",
      "테스트 데이터의 개수 : 19306\n",
      "테스트 레이블의 개수 : 19306\n"
     ]
    },
    {
     "name": "stderr",
     "output_type": "stream",
     "text": [
      "/opt/conda/lib/python3.9/site-packages/numpy/lib/function_base.py:4454: VisibleDeprecationWarning: Creating an ndarray from ragged nested sequences (which is a list-or-tuple of lists-or-tuples-or ndarrays with different lengths or shapes) is deprecated. If you meant to do this, you must specify 'dtype=object' when creating the ndarray.\n",
      "  arr = asarray(arr)\n"
     ]
    }
   ],
   "source": [
    "drop_train = [index for index, sentence in enumerate(decoder_input_train) if len(sentence) == 1]\n",
    "drop_test = [index for index, sentence in enumerate(decoder_input_test) if len(sentence) == 1]\n",
    "\n",
    "print('삭제할 훈련 데이터의 개수 :', len(drop_train))\n",
    "print('삭제할 테스트 데이터의 개수 :', len(drop_test))\n",
    "\n",
    "encoder_input_train = np.delete(encoder_input_train, drop_train, axis=0)\n",
    "decoder_input_train = np.delete(decoder_input_train, drop_train, axis=0)\n",
    "decoder_target_train = np.delete(decoder_target_train, drop_train, axis=0)\n",
    "\n",
    "encoder_input_test = np.delete(encoder_input_test, drop_test, axis=0)\n",
    "decoder_input_test = np.delete(decoder_input_test, drop_test, axis=0)\n",
    "decoder_target_test = np.delete(decoder_target_test, drop_test, axis=0)\n",
    "\n",
    "print('훈련 데이터의 개수 :', len(encoder_input_train))\n",
    "print('훈련 레이블의 개수 :', len(decoder_input_train))\n",
    "print('테스트 데이터의 개수 :', len(encoder_input_test))\n",
    "print('테스트 레이블의 개수 :', len(decoder_input_test))"
   ]
  },
  {
   "cell_type": "markdown",
   "id": "64b09bab",
   "metadata": {},
   "source": [
    "## 패딩 추가\n",
    "\n",
    "* 서로 다른 길이의 샘플들을 병렬 처리하기 위해 같은 길이로 맞춰주는 패딩 작업을 해준다."
   ]
  },
  {
   "cell_type": "code",
   "execution_count": 47,
   "id": "c9d47562",
   "metadata": {},
   "outputs": [],
   "source": [
    "encoder_input_train = pad_sequences(encoder_input_train, maxlen=text_max_len, padding='post')\n",
    "encoder_input_test = pad_sequences(encoder_input_test, maxlen=text_max_len, padding='post')\n",
    "decoder_input_train = pad_sequences(decoder_input_train, maxlen=headlines_max_len, padding='post')\n",
    "decoder_target_train = pad_sequences(decoder_target_train, maxlen=headlines_max_len, padding='post')\n",
    "decoder_input_test = pad_sequences(decoder_input_test, maxlen=headlines_max_len, padding='post')\n",
    "decoder_target_test = pad_sequences(decoder_target_test, maxlen=headlines_max_len, padding='post')"
   ]
  },
  {
   "cell_type": "markdown",
   "id": "0700c37e",
   "metadata": {},
   "source": [
    "# 3. 모델 설계\n",
    "\n",
    "## Encoder Model 정의\n",
    "\n",
    "* 임베딩 벡터의 차원을 128로 정의하고, hidden state의 크기를 256으로 정의\n",
    "* 이후, 인코더 부분의 LSTM은 총 3개의 층으로 구성\n",
    "* 인코더의 최종 출력 벡터는 디코더로 보낼 예정"
   ]
  },
  {
   "cell_type": "code",
   "execution_count": 48,
   "id": "739467b9",
   "metadata": {},
   "outputs": [
    {
     "name": "stdout",
     "output_type": "stream",
     "text": [
      "WARNING:tensorflow:Layer lstm will not use cuDNN kernels since it doesn't meet the criteria. It will use a generic GPU kernel as fallback when running on GPU.\n",
      "WARNING:tensorflow:Layer lstm_1 will not use cuDNN kernels since it doesn't meet the criteria. It will use a generic GPU kernel as fallback when running on GPU.\n",
      "WARNING:tensorflow:Layer lstm_2 will not use cuDNN kernels since it doesn't meet the criteria. It will use a generic GPU kernel as fallback when running on GPU.\n"
     ]
    }
   ],
   "source": [
    "from tensorflow.keras.layers import Input, LSTM, Embedding, Dense, Concatenate\n",
    "from tensorflow.keras.models import Model\n",
    "from tensorflow.keras.callbacks import EarlyStopping, ModelCheckpoint\n",
    "\n",
    "\n",
    "# 인코더 설계 시작\n",
    "embedding_dim = 128\n",
    "hidden_size = 256\n",
    "\n",
    "# 인코더\n",
    "encoder_inputs = Input(shape=(text_max_len,))\n",
    "\n",
    "# 인코더의 임베딩 층\n",
    "enc_emb = Embedding(src_vocab, embedding_dim)(encoder_inputs)\n",
    "\n",
    "# 인코더의 LSTM 1\n",
    "encoder_lstm1 = LSTM(hidden_size, return_sequences=True, return_state=True ,dropout = 0.4, recurrent_dropout = 0.4)\n",
    "encoder_output1, state_h1, state_c1 = encoder_lstm1(enc_emb)\n",
    "\n",
    "# 인코더의 LSTM 2\n",
    "encoder_lstm2 = LSTM(hidden_size, return_sequences=True, return_state=True, dropout=0.4, recurrent_dropout=0.4)\n",
    "encoder_output2, state_h2, state_c2 = encoder_lstm2(encoder_output1)\n",
    "\n",
    "# 인코더의 LSTM 3\n",
    "encoder_lstm3 = LSTM(hidden_size, return_state=True, return_sequences=True, dropout=0.4, recurrent_dropout=0.4)\n",
    "encoder_outputs, state_h, state_c= encoder_lstm3(encoder_output2)"
   ]
  },
  {
   "cell_type": "markdown",
   "id": "78ba424f",
   "metadata": {},
   "source": [
    "## Decoder Model 정의\n",
    "\n",
    "* 디코더의 임베딩 층을 설계하는 것은 인코더와 동일\n",
    "* LSTM 층은 initial_state의 인자값으로 인코더의 hidden state와 cell state의 값을 넣어줌"
   ]
  },
  {
   "cell_type": "code",
   "execution_count": 49,
   "id": "dc456057",
   "metadata": {},
   "outputs": [
    {
     "name": "stdout",
     "output_type": "stream",
     "text": [
      "WARNING:tensorflow:Layer lstm_3 will not use cuDNN kernels since it doesn't meet the criteria. It will use a generic GPU kernel as fallback when running on GPU.\n"
     ]
    }
   ],
   "source": [
    "# 디코더 설계\n",
    "decoder_inputs = Input(shape=(None,))\n",
    "\n",
    "# 디코더의 임베딩 층\n",
    "dec_emb_layer = Embedding(tar_vocab, embedding_dim)\n",
    "dec_emb = dec_emb_layer(decoder_inputs)\n",
    "\n",
    "# 디코더의 LSTM\n",
    "decoder_lstm = LSTM(hidden_size, return_sequences=True, return_state=True, dropout=0.4, recurrent_dropout=0.2)\n",
    "decoder_outputs, _, _ = decoder_lstm(dec_emb, initial_state=[state_h, state_c])\n",
    "\n",
    "# 디코더의 출력층 설계\n",
    "decoder_softmax_layer = Dense(tar_vocab, activation='softmax')\n",
    "decoder_softmax_outputs = decoder_softmax_layer(decoder_outputs) "
   ]
  },
  {
   "cell_type": "markdown",
   "id": "e6ad0002",
   "metadata": {},
   "source": [
    "## Encoder와 Decoder 합치기"
   ]
  },
  {
   "cell_type": "code",
   "execution_count": 50,
   "id": "e9909bbe",
   "metadata": {},
   "outputs": [
    {
     "name": "stdout",
     "output_type": "stream",
     "text": [
      "Model: \"model\"\n",
      "__________________________________________________________________________________________________\n",
      "Layer (type)                    Output Shape         Param #     Connected to                     \n",
      "==================================================================================================\n",
      "input_1 (InputLayer)            [(None, 44)]         0                                            \n",
      "__________________________________________________________________________________________________\n",
      "embedding (Embedding)           (None, 44, 128)      2560000     input_1[0][0]                    \n",
      "__________________________________________________________________________________________________\n",
      "lstm (LSTM)                     [(None, 44, 256), (N 394240      embedding[0][0]                  \n",
      "__________________________________________________________________________________________________\n",
      "input_2 (InputLayer)            [(None, None)]       0                                            \n",
      "__________________________________________________________________________________________________\n",
      "lstm_1 (LSTM)                   [(None, 44, 256), (N 525312      lstm[0][0]                       \n",
      "__________________________________________________________________________________________________\n",
      "embedding_1 (Embedding)         (None, None, 128)    1152000     input_2[0][0]                    \n",
      "__________________________________________________________________________________________________\n",
      "lstm_2 (LSTM)                   [(None, 44, 256), (N 525312      lstm_1[0][0]                     \n",
      "__________________________________________________________________________________________________\n",
      "lstm_3 (LSTM)                   [(None, None, 256),  394240      embedding_1[0][0]                \n",
      "                                                                 lstm_2[0][1]                     \n",
      "                                                                 lstm_2[0][2]                     \n",
      "__________________________________________________________________________________________________\n",
      "dense (Dense)                   (None, None, 9000)   2313000     lstm_3[0][0]                     \n",
      "==================================================================================================\n",
      "Total params: 7,864,104\n",
      "Trainable params: 7,864,104\n",
      "Non-trainable params: 0\n",
      "__________________________________________________________________________________________________\n"
     ]
    }
   ],
   "source": [
    "# 모델 정의\n",
    "model = Model([encoder_inputs, decoder_inputs], decoder_softmax_outputs)\n",
    "model.summary()"
   ]
  },
  {
   "cell_type": "markdown",
   "id": "d8ea0590",
   "metadata": {},
   "source": [
    "## Attension Model 어텐션 메커니즘 사용하기 (추상적 요약)\n",
    "\n",
    "* model에서 어텐션 함수를 이용할 예정"
   ]
  },
  {
   "cell_type": "code",
   "execution_count": 52,
   "id": "42adbb84",
   "metadata": {},
   "outputs": [
    {
     "name": "stdout",
     "output_type": "stream",
     "text": [
      "Model: \"model_2\"\n",
      "__________________________________________________________________________________________________\n",
      "Layer (type)                    Output Shape         Param #     Connected to                     \n",
      "==================================================================================================\n",
      "input_1 (InputLayer)            [(None, 44)]         0                                            \n",
      "__________________________________________________________________________________________________\n",
      "embedding (Embedding)           (None, 44, 128)      2560000     input_1[0][0]                    \n",
      "__________________________________________________________________________________________________\n",
      "lstm (LSTM)                     [(None, 44, 256), (N 394240      embedding[0][0]                  \n",
      "__________________________________________________________________________________________________\n",
      "input_2 (InputLayer)            [(None, None)]       0                                            \n",
      "__________________________________________________________________________________________________\n",
      "lstm_1 (LSTM)                   [(None, 44, 256), (N 525312      lstm[0][0]                       \n",
      "__________________________________________________________________________________________________\n",
      "embedding_1 (Embedding)         (None, None, 128)    1152000     input_2[0][0]                    \n",
      "__________________________________________________________________________________________________\n",
      "lstm_2 (LSTM)                   [(None, 44, 256), (N 525312      lstm_1[0][0]                     \n",
      "__________________________________________________________________________________________________\n",
      "lstm_3 (LSTM)                   [(None, None, 256),  394240      embedding_1[0][0]                \n",
      "                                                                 lstm_2[0][1]                     \n",
      "                                                                 lstm_2[0][2]                     \n",
      "__________________________________________________________________________________________________\n",
      "attention_layer (AdditiveAttent (None, None, 256)    256         lstm_3[0][0]                     \n",
      "                                                                 lstm_2[0][0]                     \n",
      "__________________________________________________________________________________________________\n",
      "concat_layer (Concatenate)      (None, None, 512)    0           lstm_3[0][0]                     \n",
      "                                                                 attention_layer[0][0]            \n",
      "__________________________________________________________________________________________________\n",
      "dense_2 (Dense)                 (None, None, 9000)   4617000     concat_layer[0][0]               \n",
      "==================================================================================================\n",
      "Total params: 10,168,360\n",
      "Trainable params: 10,168,360\n",
      "Non-trainable params: 0\n",
      "__________________________________________________________________________________________________\n"
     ]
    }
   ],
   "source": [
    "from tensorflow.keras.layers import AdditiveAttention\n",
    "\n",
    "# 어텐션 층(어텐션 함수)\n",
    "attn_layer = AdditiveAttention(name='attention_layer')\n",
    "\n",
    "# 인코더와 디코더의 모든 time step의 hidden state를 어텐션 층에 전달하고 결과를 리턴\n",
    "attn_out = attn_layer([decoder_outputs, encoder_outputs])\n",
    "\n",
    "\n",
    "# 어텐션의 결과와 디코더의 hidden state들을 연결\n",
    "decoder_concat_input = Concatenate(axis=-1, name='concat_layer')([decoder_outputs, attn_out])\n",
    "\n",
    "# 디코더의 출력층\n",
    "decoder_softmax_layer = Dense(tar_vocab, activation='softmax')\n",
    "decoder_softmax_outputs = decoder_softmax_layer(decoder_concat_input)\n",
    "\n",
    "# 모델 정의\n",
    "model = Model([encoder_inputs, decoder_inputs], decoder_softmax_outputs)\n",
    "model.summary()"
   ]
  },
  {
   "cell_type": "markdown",
   "id": "796f2832",
   "metadata": {},
   "source": [
    "# 4. 모델 훈련"
   ]
  },
  {
   "cell_type": "code",
   "execution_count": 53,
   "id": "3fc2d000",
   "metadata": {},
   "outputs": [
    {
     "name": "stdout",
     "output_type": "stream",
     "text": [
      "Epoch 1/50\n",
      "302/302 [==============================] - 203s 618ms/step - loss: 5.5316 - val_loss: 5.1038\n",
      "Epoch 2/50\n",
      "302/302 [==============================] - 184s 610ms/step - loss: 4.9444 - val_loss: 4.7363\n",
      "Epoch 3/50\n",
      "302/302 [==============================] - 184s 608ms/step - loss: 4.6196 - val_loss: 4.4704\n",
      "Epoch 4/50\n",
      "302/302 [==============================] - 183s 606ms/step - loss: 4.3575 - val_loss: 4.2833\n",
      "Epoch 5/50\n",
      "302/302 [==============================] - 183s 606ms/step - loss: 4.1564 - val_loss: 4.1320\n",
      "Epoch 6/50\n",
      "302/302 [==============================] - 183s 606ms/step - loss: 3.9881 - val_loss: 4.0299\n",
      "Epoch 7/50\n",
      "302/302 [==============================] - 182s 603ms/step - loss: 3.8453 - val_loss: 3.9399\n",
      "Epoch 8/50\n",
      "302/302 [==============================] - 182s 603ms/step - loss: 3.7226 - val_loss: 3.8784\n",
      "Epoch 9/50\n",
      "302/302 [==============================] - 182s 603ms/step - loss: 3.6157 - val_loss: 3.8113\n",
      "Epoch 10/50\n",
      "302/302 [==============================] - 182s 604ms/step - loss: 3.5187 - val_loss: 3.7623\n",
      "Epoch 11/50\n",
      "302/302 [==============================] - 182s 601ms/step - loss: 3.4309 - val_loss: 3.7189\n",
      "Epoch 12/50\n",
      "302/302 [==============================] - 182s 603ms/step - loss: 3.3541 - val_loss: 3.6902\n",
      "Epoch 13/50\n",
      "302/302 [==============================] - 182s 603ms/step - loss: 3.2835 - val_loss: 3.6659\n",
      "Epoch 14/50\n",
      "302/302 [==============================] - 181s 601ms/step - loss: 3.2186 - val_loss: 3.6356\n",
      "Epoch 15/50\n",
      "302/302 [==============================] - 182s 602ms/step - loss: 3.1582 - val_loss: 3.6218\n",
      "Epoch 16/50\n",
      "302/302 [==============================] - 181s 598ms/step - loss: 3.1019 - val_loss: 3.6067\n",
      "Epoch 17/50\n",
      "302/302 [==============================] - 181s 599ms/step - loss: 3.0528 - val_loss: 3.5910\n",
      "Epoch 18/50\n",
      "302/302 [==============================] - 181s 601ms/step - loss: 3.0085 - val_loss: 3.5764\n",
      "Epoch 19/50\n",
      "302/302 [==============================] - 181s 598ms/step - loss: 2.9648 - val_loss: 3.5702\n",
      "Epoch 20/50\n",
      "302/302 [==============================] - 181s 599ms/step - loss: 2.9240 - val_loss: 3.5610\n",
      "Epoch 21/50\n",
      "302/302 [==============================] - 180s 597ms/step - loss: 2.8860 - val_loss: 3.5495\n",
      "Epoch 22/50\n",
      "302/302 [==============================] - 183s 605ms/step - loss: 2.8453 - val_loss: 3.5459\n",
      "Epoch 23/50\n",
      "302/302 [==============================] - 182s 602ms/step - loss: 2.8036 - val_loss: 3.5412\n",
      "Epoch 24/50\n",
      "302/302 [==============================] - 181s 598ms/step - loss: 2.7703 - val_loss: 3.5423\n",
      "Epoch 25/50\n",
      "302/302 [==============================] - 181s 599ms/step - loss: 2.7353 - val_loss: 3.5351\n",
      "Epoch 26/50\n",
      "302/302 [==============================] - 181s 599ms/step - loss: 2.7053 - val_loss: 3.5342\n",
      "Epoch 27/50\n",
      "302/302 [==============================] - 181s 600ms/step - loss: 2.6764 - val_loss: 3.5309\n",
      "Epoch 28/50\n",
      "302/302 [==============================] - 181s 599ms/step - loss: 2.6488 - val_loss: 3.5288\n",
      "Epoch 29/50\n",
      "302/302 [==============================] - 180s 598ms/step - loss: 2.6192 - val_loss: 3.5236\n",
      "Epoch 30/50\n",
      "302/302 [==============================] - 181s 598ms/step - loss: 2.5909 - val_loss: 3.5298\n",
      "Epoch 31/50\n",
      "302/302 [==============================] - 180s 598ms/step - loss: 2.5661 - val_loss: 3.5296\n",
      "Epoch 00031: early stopping\n"
     ]
    }
   ],
   "source": [
    "model.compile(optimizer='rmsprop', loss='sparse_categorical_crossentropy')\n",
    "es = EarlyStopping(monitor='val_loss', patience=2, verbose=1)\n",
    "history = model.fit(x=[encoder_input_train, decoder_input_train], y=decoder_target_train, \\\n",
    "          validation_data=([encoder_input_test, decoder_input_test], decoder_target_test), \\\n",
    "          batch_size=256, callbacks=[es], epochs=50)"
   ]
  },
  {
   "cell_type": "markdown",
   "id": "fb24a8f5",
   "metadata": {},
   "source": [
    "* 설계한 model을 훈련\n",
    "* early stopping 기능을 이용하여, validation loss가 증가하는 현상이 2회 관측될 시, 학습을 종료\n",
    "* 최종적으로, model이 최적점에서 훈련을 종료하는 역할을 수행\n",
    "* model의 loss는 약 2.5661이지만, validation loss는 3.5296으로 둘 사이의 격차가 큼"
   ]
  },
  {
   "cell_type": "code",
   "execution_count": 54,
   "id": "01bde5ad",
   "metadata": {},
   "outputs": [
    {
     "data": {
      "image/png": "[encoded data removed]",
      "text/plain": [
       "<Figure size 432x288 with 1 Axes>"
      ]
     },
     "metadata": {
      "needs_background": "light"
     },
     "output_type": "display_data"
    }
   ],
   "source": [
    "plt.plot(history.history['loss'], label='train')\n",
    "plt.plot(history.history['val_loss'], label='test')\n",
    "plt.legend()\n",
    "plt.show()"
   ]
  },
  {
   "cell_type": "markdown",
   "id": "24e3470f",
   "metadata": {},
   "source": [
    "훈련 데이터와 테스트 데이터의 loss를 시각화\n",
    "훈련 데이터와 테스트 데이터 loss의 격차를 보면, 훈련 데이터가 overfitting이 되었다고 판단할 수 있음"
   ]
  },
  {
   "cell_type": "markdown",
   "id": "7d7ae5df",
   "metadata": {},
   "source": [
    "# 5. 인퍼런스 모델 구현\n",
    "\n",
    "## word2index, index2word 구하기"
   ]
  },
  {
   "cell_type": "code",
   "execution_count": 55,
   "id": "2adc9206",
   "metadata": {},
   "outputs": [],
   "source": [
    "src_index_to_word = src_tokenizer.index_word # 원문 단어 집합에서 정수 -> 단어를 얻음\n",
    "tar_word_to_index = tar_tokenizer.word_index # 요약 단어 집합에서 단어 -> 정수를 얻음\n",
    "tar_index_to_word = tar_tokenizer.index_word # 요약 단어 집합에서 정수 -> 단어를 얻음"
   ]
  },
  {
   "cell_type": "markdown",
   "id": "2514dc24",
   "metadata": {},
   "source": [
    "## Encoder Model"
   ]
  },
  {
   "cell_type": "code",
   "execution_count": 56,
   "id": "359305ec",
   "metadata": {},
   "outputs": [],
   "source": [
    "# 인코더 설계\n",
    "encoder_model = Model(inputs=encoder_inputs, outputs=[encoder_outputs, state_h, state_c])\n",
    "\n",
    "# 이전 시점의 상태들을 저장하는 텐서\n",
    "decoder_state_input_h = Input(shape=(hidden_size,))\n",
    "decoder_state_input_c = Input(shape=(hidden_size,))\n",
    "\n",
    "dec_emb2 = dec_emb_layer(decoder_inputs)\n",
    "\n",
    "# 문장의 다음 단어를 예측하기 위해서 초기 상태(initial_state)를 이전 시점의 상태로 사용. 이는 뒤의 함수 decode_sequence()에 구현\n",
    "# 훈련 과정에서와 달리 LSTM의 리턴하는 은닉 상태와 셀 상태인 state_h와 state_c를 버리지 않음.\n",
    "decoder_outputs2, state_h2, state_c2 = decoder_lstm(dec_emb2, initial_state=[decoder_state_input_h, decoder_state_input_c])"
   ]
  },
  {
   "cell_type": "markdown",
   "id": "e1ad2ff8",
   "metadata": {},
   "source": [
    "## Decoder Model"
   ]
  },
  {
   "cell_type": "code",
   "execution_count": 58,
   "id": "79a4f144",
   "metadata": {},
   "outputs": [],
   "source": [
    "# 어텐션 함수\n",
    "decoder_hidden_state_input = Input(shape=(text_max_len, hidden_size))\n",
    "attn_out_inf = attn_layer([decoder_outputs2, decoder_hidden_state_input])\n",
    "decoder_inf_concat = Concatenate(axis=-1, name='concat')([decoder_outputs2, attn_out_inf])\n",
    "\n",
    "# 디코더의 출력층\n",
    "decoder_outputs2 = decoder_softmax_layer(decoder_inf_concat) \n",
    "\n",
    "# 최종 디코더 모델\n",
    "decoder_model = Model(\n",
    "    [decoder_inputs] + [decoder_hidden_state_input,decoder_state_input_h, decoder_state_input_c],\n",
    "    [decoder_outputs2] + [state_h2, state_c2])"
   ]
  },
  {
   "cell_type": "markdown",
   "id": "718e5e9f",
   "metadata": {},
   "source": [
    "## word를 Sequence로 만드는 함수"
   ]
  },
  {
   "cell_type": "code",
   "execution_count": 64,
   "id": "6c449c28",
   "metadata": {},
   "outputs": [],
   "source": [
    "def decode_sequence(input_seq):\n",
    "    # 입력으로부터 인코더의 상태를 얻음\n",
    "    e_out, e_h, e_c = encoder_model.predict(input_seq)\n",
    "\n",
    "     # <SOS>에 해당하는 토큰 생성\n",
    "    target_seq = np.zeros((1,1))\n",
    "    target_seq[0, 0] = tar_word_to_index['sostoken']\n",
    "\n",
    "    stop_condition = False\n",
    "    decoded_sentence = ''\n",
    "    while not stop_condition: # stop_condition이 True가 될 때까지 루프 반복\n",
    "\n",
    "        output_tokens, h, c = decoder_model.predict([target_seq] + [e_out, e_h, e_c])\n",
    "        sampled_token_index = np.argmax(output_tokens[0, -1, :])\n",
    "        sampled_token = tar_index_to_word[sampled_token_index]\n",
    "\n",
    "        if (sampled_token!='eostoken'):\n",
    "            decoded_sentence += ' '+sampled_token\n",
    "\n",
    "        #  <eos>에 도달하거나 최대 길이를 넘으면 중단.\n",
    "        if (sampled_token == 'eostoken'  or len(decoded_sentence.split()) >= (headlines_max_len-1)):\n",
    "            stop_condition = True\n",
    "\n",
    "        # 길이가 1인 타겟 시퀀스를 업데이트\n",
    "        target_seq = np.zeros((1,1))\n",
    "        target_seq[0, 0] = sampled_token_index\n",
    "\n",
    "        # 상태를 업데이트 합니다.\n",
    "        e_h, e_c = h, c\n",
    "\n",
    "    return decoded_sentence"
   ]
  },
  {
   "cell_type": "markdown",
   "id": "01f3401f",
   "metadata": {},
   "source": [
    "# 6. 모델 테스트\n",
    "\n",
    "주어진 정수 시퀀스를 텍스트 시퀀스로 변환하는 함수를 만든다.\n",
    "\n",
    "이때, Text의 정수 시퀀스에서는 패딩을 위해 사용되는 숫자 0을 제외하고 Summary의 정수 시퀀스에서는 숫자 0, 시작 토큰의 인덱스, 종료 토큰의 인덱스를 출력에서 제외하도록 만든다."
   ]
  },
  {
   "cell_type": "code",
   "execution_count": 65,
   "id": "12c8fb16",
   "metadata": {},
   "outputs": [],
   "source": [
    "# 원문의 정수 시퀀스를 텍스트 시퀀스로 변환\n",
    "def seq2text(input_seq):\n",
    "    temp=''\n",
    "    for i in input_seq:\n",
    "        if (i!=0):\n",
    "            temp = temp + src_index_to_word[i]+' '\n",
    "    return temp\n",
    "\n",
    "# 요약문의 정수 시퀀스를 텍스트 시퀀스로 변환\n",
    "def seq2summary(input_seq):\n",
    "    temp=''\n",
    "    for i in input_seq:\n",
    "        if ((i!=0 and i!=tar_word_to_index['sostoken']) and i!=tar_word_to_index['eostoken']):\n",
    "            temp = temp + tar_index_to_word[i] + ' '\n",
    "    return temp"
   ]
  },
  {
   "cell_type": "code",
   "execution_count": 72,
   "id": "842c5968",
   "metadata": {
    "scrolled": false
   },
   "outputs": [
    {
     "name": "stdout",
     "output_type": "stream",
     "text": [
      "원문 : facebook coo sheryl sandberg twitter co founder ceo jack dorsey seek election walt disney board according filing disney said become increasingly difficult two avoid conflicts relating board matters former starbucks ceo smith also leave board following rules specify retirement age \n",
      "실제 요약 : fb coo twitter ceo to leave disney board \n",
      "예측 요약 :  twitter ceo quits facebook over paris deal\n",
      "\n",
      "\n",
      "원문 : irrfan khan saba qamar starrer hindi medium named best film rd edition filmfare awards irrfan named best actor hindi medium vidya balan best actress tumhari sulu meanwhile rajkummar rao starrer newton best film filmfare award \n",
      "실제 요약 : hindi medium named best film at filmfare awards \n",
      "예측 요약 :  irrfan irrfan khan to star in hindi medium report\n",
      "\n",
      "\n",
      "원문 : student kolkata st paul cathedral mission college allegedly stripped naked filmed seniors questioned funds used college fest filed police complaint video incident circulated college west bengal education minister partha chatterjee said strict action taken accused \n",
      "실제 요약 : kolkata student stripped naked for asking about college fund \n",
      "예측 요약 :  yr old student booked for copying fake student in du\n",
      "\n",
      "\n",
      "원문 : travel company super holiday sale offering attractive deals holiday packages come end th march travellers choose range summer holiday packages destinations like singapore dubai kashmir switzerland ladakh europe bhutan packages start include flights accommodation sightseeing \n",
      "실제 요약 : day left for super holiday sale to end \n",
      "예측 요약 :  thomas cook presents holiday on holiday\n",
      "\n",
      "\n",
      "원문 : karni sena chittorgarh unit president govind singh arrested declared women community ready commit jauhar release padmaavat police also arrested two members organisation earlier karni sena spokesperson said instead resorting violence women opted jauhar \n",
      "실제 요약 : karni sena chief arrested over threat \n",
      "예측 요약 :  karni sena mp arrested for raping woman in ayodhya case\n",
      "\n",
      "\n",
      "원문 : speaking sabarimala temple row union minister smriti irani said would take sanitary napkins menstrual blood walk friend home would would think respectful walk house god right pray right added \n",
      "실제 요약 : will you take bloodied pad to friend home irani on sabarimala \n",
      "예측 요약 :  implement doorstep ration at doorstep sanitary pads irani\n",
      "\n",
      "\n",
      "원문 : two day old newborn baby found abandoned bush tripura district said police friday many ant bites body treated infection hospital icu police added official said condition stable placed child welfare committee rehabilitation \n",
      "실제 요약 : newborn baby dumped in ant bush in tripura rescued \n",
      "예측 요약 :  baby found alive after being found alive in wb\n",
      "\n",
      "\n",
      "원문 : user united states claimed apple iphone exploded allegedly updated ios posted several photos exploded phone apple responded definitely expected behaviour update completed soon phone turned started smoke caught fire user said \n",
      "실제 요약 : apple iphone explodes after update in the us \n",
      "예측 요약 :  apple iphone explodes users to unlock iphone location\n",
      "\n",
      "\n",
      "원문 : india south africa signed three year strategic programme cooperation aimed enhancing strategic partnership two countries two nations agreed enhance ties economic defence sector among others came south african president cyril visited india chief guest republic day celebrations \n",
      "실제 요약 : india africa sign yr strategic programme to ties \n",
      "예측 요약 :  india to hold summit in us for st time in years\n",
      "\n",
      "\n",
      "원문 : uttar pradesh government decided start metro services agra kanpur meerut estimated cost crore two metro corridors planned agra costing crore kanpur metro km long costing crore meerut metro km long costing crore \n",
      "실제 요약 : up to start metro services in agra kanpur by \n",
      "예측 요약 :  up govt to get crore for metro mlas\n",
      "\n",
      "\n",
      "원문 : uttarakhand become first state give identity cards gau rakshaks reports quoting officials said initiative aimed people protect cows resort violence name cow vigilantism officials said genuine gau rakshaks six total districts uttarakhand identified \n",
      "실제 요약 : khand st state to give id cards to gau rakshaks reports \n",
      "예측 요약 :  uttar pradesh to introduce cow protection for cow slaughter\n",
      "\n",
      "\n",
      "원문 : west indies cricketer dwayne bravo invited indian cricketers house team ongoing caribbean tour bravo posted pictures instagram one ms dhoni daughter captioned great brother another mother house last night along beautiful daughter mom champion family mahi \n",
      "실제 요약 : dwayne bravo invites indian players to his house for dinner \n",
      "예측 요약 :  dwayne bravo visits mumbai team before day\n",
      "\n",
      "\n",
      "원문 : actor akshaye khanna asked finds sexiest woman film industry said cannot take eyes aishwarya every time meet added might used people looking embarrassing keep staring like akshaye said \n",
      "실제 요약 : cannot take my eyes off aishwarya when meet her akshaye \n",
      "예측 요약 :  am not doing to make woman rao on\n",
      "\n",
      "\n",
      "원문 : qatar monday filed legal complaint world trade organisation trade boycott saudi arabia bahrain united arab emirates formally requesting consultations three countries qatar triggered day deadline settle complaint face litigation wto potential retaliatory trade sanctions \n",
      "실제 요약 : qatar complains to wto against saudi led trade boycott \n",
      "예측 요약 :  qatar withdraws qatar ban on qatar after being\n",
      "\n",
      "\n",
      "원문 : us based scientists developed technique directly printing metal circuits create electronics instead ink researchers used metal melting points circuit unaffected even bent times stretched strain case damage circuits could heating said researchers \n",
      "실제 요약 : us researchers print self flexible metal \n",
      "예측 요약 :  scientists create new skin skin\n",
      "\n",
      "\n",
      "원문 : women tribe among last societies marry taking many lovers wish called kingdom women china tribe word father husband women make major decisions control household finances ownership houses land full rights children \n",
      "실제 요약 : women in chinese tribe do not marry \n",
      "예측 요약 :  women to marry women in south africa\n",
      "\n",
      "\n",
      "원문 : voting began sunday nepal first local level polls two decades landmark moment country transition democracy least lakh people eligible vote election nearly candidates contesting position mayor deputy mayor ward chairman ward member \n",
      "실제 요약 : nepal votes in first local elections in years today \n",
      "예측 요약 :  nepal begins st ever voter turnout at border\n",
      "\n",
      "\n",
      "원문 : singer mika singh said sing song film ae dil hai mushkil better original singer arijit singh singing lines song show mika said mix arijit atif aslam song mind blowing next time whole song \n",
      "실제 요약 : can sing better than arijit singh mika \n",
      "예측 요약 :  sonu nigam song from singing song featuring sonu nigam\n",
      "\n",
      "\n",
      "원문 : union government wednesday launched study india programme attract foreign students india programme projects premier universities institutes including iits iims ideal destination higher education government plans attract lakh international students sanctioned budget crore two years programme \n",
      "실제 요약 : govt launches study in india to attract foreign students \n",
      "예측 요약 :  govt launches online course for wifi\n",
      "\n",
      "\n",
      "원문 : addressing press conference dubai congress president rahul gandhi saturday said peaceful relationship pakistan absolutely tolerate violence carried innocent indians pakistani state gandhi two day visit dubai also discussed massive employment crisis criticised policies like gst demonetisation \n",
      "실제 요약 : all for peace with pak but will not tolerate violence rahul \n",
      "예측 요약 :  rahul should not let pakistan pm wants to help pak\n",
      "\n",
      "\n"
     ]
    }
   ],
   "source": [
    "for i in range(20, 40):\n",
    "    print(\"원문 :\", seq2text(encoder_input_test[i]))\n",
    "    print(\"실제 요약 :\", seq2summary(decoder_input_test[i]))\n",
    "    print(\"예측 요약 :\", decode_sequence(encoder_input_test[i].reshape(1, text_max_len)))\n",
    "    print(\"\\n\")"
   ]
  },
  {
   "cell_type": "markdown",
   "id": "abab9cf1",
   "metadata": {},
   "source": [
    "# 7. 추출적 요약 (Extractive Summarization)\n",
    "\n",
    "* 패키지 Summa에서는 추출적 요약을 위한 모듈인 summarize를 제공하고 있어 간단하게 구현가능."
   ]
  },
  {
   "cell_type": "code",
   "execution_count": 68,
   "id": "e61884c1",
   "metadata": {},
   "outputs": [],
   "source": [
    "from summa.summarizer import summarize\n",
    "import urllib.request\n",
    "\n",
    "urllib.request.urlretrieve(\"https://raw.githubusercontent.com/sunnysai12345/News_Summary/master/news_summary_more.csv\", filename=\"news_summary_more.csv\")\n",
    "data = pd.read_csv('news_summary_more.csv', encoding='iso-8859-1')"
   ]
  },
  {
   "cell_type": "code",
   "execution_count": 69,
   "id": "819e82e4",
   "metadata": {},
   "outputs": [],
   "source": [
    "data['summary'] = data['text'].apply(lambda x: summarize(x, ratio=0.5))"
   ]
  },
  {
   "cell_type": "code",
   "execution_count": 70,
   "id": "36f40837",
   "metadata": {},
   "outputs": [
    {
     "data": {
      "text/html": [
       "<div>\n",
       "<style scoped>\n",
       "    .dataframe tbody tr th:only-of-type {\n",
       "        vertical-align: middle;\n",
       "    }\n",
       "\n",
       "    .dataframe tbody tr th {\n",
       "        vertical-align: top;\n",
       "    }\n",
       "\n",
       "    .dataframe thead th {\n",
       "        text-align: right;\n",
       "    }\n",
       "</style>\n",
       "<table border=\"1\" class=\"dataframe\">\n",
       "  <thead>\n",
       "    <tr style=\"text-align: right;\">\n",
       "      <th></th>\n",
       "      <th>headlines</th>\n",
       "      <th>text</th>\n",
       "      <th>summary</th>\n",
       "    </tr>\n",
       "  </thead>\n",
       "  <tbody>\n",
       "    <tr>\n",
       "      <th>20523</th>\n",
       "      <td>US man yells 'Jesus is coming' before stabbing...</td>\n",
       "      <td>A man was shot in the leg by his neighbour in ...</td>\n",
       "      <td>A man was shot in the leg by his neighbour in ...</td>\n",
       "    </tr>\n",
       "    <tr>\n",
       "      <th>68255</th>\n",
       "      <td>World Tourism Day celebrated on September 27</td>\n",
       "      <td>World Tourism Day is celebrated on September 2...</td>\n",
       "      <td>World Tourism Day is celebrated on September 2...</td>\n",
       "    </tr>\n",
       "    <tr>\n",
       "      <th>65102</th>\n",
       "      <td>Taj Mahal sits on stolen property: Subramanian...</td>\n",
       "      <td>BJP leader Subramanian Swamy has alleged Taj M...</td>\n",
       "      <td>He said there are documents that also suggest ...</td>\n",
       "    </tr>\n",
       "    <tr>\n",
       "      <th>10921</th>\n",
       "      <td>Thor actor shares video of India traffic, call...</td>\n",
       "      <td>'Thor' actor Chris Hemsworth, who's in India t...</td>\n",
       "      <td>In another video, Hemsworth said, \"No one's......</td>\n",
       "    </tr>\n",
       "    <tr>\n",
       "      <th>10102</th>\n",
       "      <td>PM Modi is my friend and now Ivanka's: Trump a...</td>\n",
       "      <td>While introducing his daughter Ivanka to India...</td>\n",
       "      <td>While introducing his daughter Ivanka to India...</td>\n",
       "    </tr>\n",
       "    <tr>\n",
       "      <th>89824</th>\n",
       "      <td>Scientists generate hydrogen fuel from pollute...</td>\n",
       "      <td>Belgian scientists have developed a device tha...</td>\n",
       "      <td>The compartments for purifying air and storing...</td>\n",
       "    </tr>\n",
       "    <tr>\n",
       "      <th>18897</th>\n",
       "      <td>I've become Shah Rukh Khan because of Salman a...</td>\n",
       "      <td>Actor Shah Rukh Khan, who recently appeared on...</td>\n",
       "      <td>Actor Shah Rukh Khan, who recently appeared on...</td>\n",
       "    </tr>\n",
       "    <tr>\n",
       "      <th>38443</th>\n",
       "      <td>Mumbai witnessed 12 major fires, 22 deaths in ...</td>\n",
       "      <td>Mumbai has witnessed 12 major fires which resu...</td>\n",
       "      <td>Mumbai has witnessed 12 major fires which resu...</td>\n",
       "    </tr>\n",
       "    <tr>\n",
       "      <th>16064</th>\n",
       "      <td>Doctors treat patients under candlelight due t...</td>\n",
       "      <td>Doctors at a government hospital in Odisha's M...</td>\n",
       "      <td>Doctors at a government hospital in Odisha's M...</td>\n",
       "    </tr>\n",
       "    <tr>\n",
       "      <th>60401</th>\n",
       "      <td>What was the answer that won Manushi the Miss ...</td>\n",
       "      <td>In Miss World 2017's final round, India's Manu...</td>\n",
       "      <td></td>\n",
       "    </tr>\n",
       "  </tbody>\n",
       "</table>\n",
       "</div>"
      ],
      "text/plain": [
       "                                               headlines  \\\n",
       "20523  US man yells 'Jesus is coming' before stabbing...   \n",
       "68255       World Tourism Day celebrated on September 27   \n",
       "65102  Taj Mahal sits on stolen property: Subramanian...   \n",
       "10921  Thor actor shares video of India traffic, call...   \n",
       "10102  PM Modi is my friend and now Ivanka's: Trump a...   \n",
       "89824  Scientists generate hydrogen fuel from pollute...   \n",
       "18897  I've become Shah Rukh Khan because of Salman a...   \n",
       "38443  Mumbai witnessed 12 major fires, 22 deaths in ...   \n",
       "16064  Doctors treat patients under candlelight due t...   \n",
       "60401  What was the answer that won Manushi the Miss ...   \n",
       "\n",
       "                                                    text  \\\n",
       "20523  A man was shot in the leg by his neighbour in ...   \n",
       "68255  World Tourism Day is celebrated on September 2...   \n",
       "65102  BJP leader Subramanian Swamy has alleged Taj M...   \n",
       "10921  'Thor' actor Chris Hemsworth, who's in India t...   \n",
       "10102  While introducing his daughter Ivanka to India...   \n",
       "89824  Belgian scientists have developed a device tha...   \n",
       "18897  Actor Shah Rukh Khan, who recently appeared on...   \n",
       "38443  Mumbai has witnessed 12 major fires which resu...   \n",
       "16064  Doctors at a government hospital in Odisha's M...   \n",
       "60401  In Miss World 2017's final round, India's Manu...   \n",
       "\n",
       "                                                 summary  \n",
       "20523  A man was shot in the leg by his neighbour in ...  \n",
       "68255  World Tourism Day is celebrated on September 2...  \n",
       "65102  He said there are documents that also suggest ...  \n",
       "10921  In another video, Hemsworth said, \"No one's......  \n",
       "10102  While introducing his daughter Ivanka to India...  \n",
       "89824  The compartments for purifying air and storing...  \n",
       "18897  Actor Shah Rukh Khan, who recently appeared on...  \n",
       "38443  Mumbai has witnessed 12 major fires which resu...  \n",
       "16064  Doctors at a government hospital in Odisha's M...  \n",
       "60401                                                     "
      ]
     },
     "execution_count": 70,
     "metadata": {},
     "output_type": "execute_result"
    }
   ],
   "source": [
    "data.sample(10)"
   ]
  },
  {
   "cell_type": "code",
   "execution_count": 74,
   "id": "01b4709f",
   "metadata": {
    "scrolled": false
   },
   "outputs": [
    {
     "name": "stdout",
     "output_type": "stream",
     "text": [
      "원문 : Ex-ICICI Bank CEO Chanda Kochhar said she's \"utterly disappointed, hurt and shocked\" by the bank's decision to terminate her. Kochhar said she served ICICI for 34 years with utmost honesty and integrity and that ultimately truth will prevail. Adding that she hasn't been given a copy of the independent probe report, Kochhar said none of ICICI's credit decisions are unilateral\n",
      "실제 요약 : Shocked, hurt by ICICI's decision, truth will prevail: Kochhar\n",
      "추출 요약 : Adding that she hasn't been given a copy of the independent probe report, Kochhar said none of ICICI's credit decisions are unilateral\n",
      "\n",
      "\n",
      "원문 : Swedish multinational fast-fashion brand Hennes & Mauritz AB (H&M) has hired Christopher Wylie, the whistleblower who exposed Facebook's Cambridge Analytica data scandal. WylieÃ¢ÂÂs focus will be to help get better insights on customers, products and markets and support work on sustainable and ethical artificial intelligence, H&M spokesperson said. Wylie is a former employee of Cambridge Analytica.\n",
      "실제 요약 : Fashion brand H&M hires Facebook data scandal whistleblower\n",
      "추출 요약 : Swedish multinational fast-fashion brand Hennes & Mauritz AB (H&M) has hired Christopher Wylie, the whistleblower who exposed Facebook's Cambridge Analytica data scandal.\n",
      "\n",
      "\n",
      "원문 : Micro-blogging platform Twitter is testing a new feature on Android to put news on the top of a user's timeline. \"With this update, weÃ¢ÂÂre making it easier for people to see news and stories their followers have been discussing,\" Product Manager Walter Gurzynski said. The feature comes alongside a prompt saying, \"Catch up on what's happened while you were away.\"\n",
      "실제 요약 : Twitter testing news-first timeline feature on Android\n",
      "추출 요약 : Micro-blogging platform Twitter is testing a new feature on Android to put news on the top of a user's timeline.\n",
      "\n",
      "\n",
      "원문 : Samsung has started mass producing its one terabyte 'embedded Universal Flash Storage (eUFS) 2.1' technology for \"use in next-generation mobile applications\", which it claims is the industry's first such eUFS. The company added the new eUFS will let smartphones store 260 10-minute videos shot in 4K UHD format. It'll be sized the same as the previous 512GB version, Samsung said.\n",
      "실제 요약 : Samsung builds world's first 1TB storage chip for smartphones \n",
      "추출 요약 : Samsung has started mass producing its one terabyte 'embedded Universal Flash Storage (eUFS) 2.1' technology for \"use in next-generation mobile applications\", which it claims is the industry's first such eUFS.\n",
      "\n",
      "\n",
      "원문 : Prime Minister Narendra Modi on Wednesday said the people with 'negative mindset' are questioning him and his government for floating pro-poor schemes. He added negative mindset people are raising doubts about schemes such as building toilets and providing free gas connections to the poor. He further said that negative mentality laced with a vested interest still exists in the country.\n",
      "실제 요약 : People with 'negative mindset' quizzing pro-poor schemes: PM\n",
      "추출 요약 : Prime Minister Narendra Modi on Wednesday said the people with 'negative mindset' are questioning him and his government for floating pro-poor schemes.\n",
      "\n",
      "\n",
      "원문 : Union Minister Anantkumar Hegde took a dig at Congress President Rahul Gandhi by calling him a \"hybrid specimen\" who has no clue about religion. \"A father who's...Muslim, a mother who's...Christian and the son is supposed to be...Brahmin. How is that even possible?\" he said. He added such \"hybrid specimen\" cannot be found in any laboratory in the world.\n",
      "실제 요약 : Rahul is hybrid specimen, has no clue about religion: Hegde\n",
      "추출 요약 : Union Minister Anantkumar Hegde took a dig at Congress President Rahul Gandhi by calling him a \"hybrid specimen\" who has no clue about religion.\n",
      "He added such \"hybrid specimen\" cannot be found in any laboratory in the world.\n",
      "\n",
      "\n",
      "원문 : Several parts of the US are set to experience record low temperatures as the polar vortex hit the Upper Midwest, with more than 200 million people expected to experience below-freezing temperatures this week. Temperatures throughout the Upper Midwest are expected to be at least 20-40Ã¢ÂÂ below zero. Government offices and schools have been closed in several areas.\n",
      "실제 요약 : Extreme cold to affect 200 million people as polar vortex hits US\n",
      "추출 요약 : Several parts of the US are set to experience record low temperatures as the polar vortex hit the Upper Midwest, with more than 200 million people expected to experience below-freezing temperatures this week.\n",
      "\n",
      "\n",
      "원문 : The police on Wednesday registered cases against 13 persons, including a woman leader of Hindu Mahasabha, in Aligarh for firing at an effigy of Mahatma Gandhi with an air pistol. \"The incident took place in a house in Naurangabad locality of the city,\" Senior Superintendent of Police said. The video of the event went viral on social media, he added.\n",
      "실제 요약 : 13 booked for firing air shots at Mahatma Gandhi's effigy\n",
      "추출 요약 : The police on Wednesday registered cases against 13 persons, including a woman leader of Hindu Mahasabha, in Aligarh for firing at an effigy of Mahatma Gandhi with an air pistol.\n",
      "\n",
      "\n",
      "원문 : Railway police has rescued a woman travelling on a train in Chennai who got her leg stuck inside the commode of a toilet. After being caught inside the commode hole, she struggled to remove her leg and following failed attempts, she shouted for help, reports said. Railway police used a cutter to pry open the commode and freed her leg.\n",
      "실제 요약 : Railway police rescues woman with leg stuck in train toilet\n",
      "추출 요약 : Railway police has rescued a woman travelling on a train in Chennai who got her leg stuck inside the commode of a toilet.\n",
      "\n",
      "\n",
      "원문 : The US on Tuesday began returning asylum seekers to Mexico, sending back a migrant from a Central American nation and called the move a \"response to the illegal migration crisis\" faced by it. Under its Migrant Protection Protocols policy, the US will return certain migrants who cross into the country illegally back to Mexico while their asylum requests are processed.\n",
      "실제 요약 : US begins sending back asylum seekers to Mexico\n",
      "추출 요약 : The US on Tuesday began returning asylum seekers to Mexico, sending back a migrant from a Central American nation and called the move a \"response to the illegal migration crisis\" faced by it.\n",
      "\n",
      "\n",
      "원문 : Former Finance Minister Yashwant Sinha on Tuesday demanded a probe into the alleged diversion of loans worth Ã¢ÂÂ¹31,000 crore by Dewan Housing Finance (DHFL). All agencies including regulators of the government have failed to track nefarious deals, he said. This comes after a media report on Tuesday accused DHFL's controlling shareholders of diverting funds to shell companies to buy assets.\n",
      "실제 요약 : Yashwant Sinha demands probe into alleged fund diversion by DHFL\n",
      "추출 요약 : Former Finance Minister Yashwant Sinha on Tuesday demanded a probe into the alleged diversion of loans worth Ã¢ÂÂ¹31,000 crore by Dewan Housing Finance (DHFL).\n",
      "\n",
      "\n",
      "원문 : US-based Boeing on Wednesday reported annual sales worth $101.12 billion in 2018, the first time the planemaker's sales crossed the $100-billion mark in its 102-year history. The company said it expects to deliver between 895 and 905 commercial aircraft in 2019. Boeing retained its position as the world's largest planemaker for the seventh straight year, delivering 806 aircraft in 2018. \n",
      "실제 요약 : Boeing sales cross $100bn for 1st time in its 102-yr history\n",
      "추출 요약 : Boeing retained its position as the world's largest planemaker for the seventh straight year, delivering 806 aircraft in 2018.\n",
      "\n",
      "\n",
      "원문 : text\n",
      "실제 요약 : headlines\n",
      "추출 요약 : \n",
      "\n",
      "\n",
      "원문 : OnePlus has emerged as India's best-selling premium smartphone brand of 2018, as per a report by Counterpoint. It captured 36% of the market share in the premium segment, in Q4 2018. Further, its OnePlus 6 emerged as the highest selling premium smartphone of 2018 followed by OnePlus 6T.\n",
      "실제 요약 : OnePlus named bestselling premium smartphone brand of 2018: Report\n",
      "추출 요약 : Further, its OnePlus 6 emerged as the highest selling premium smartphone of 2018 followed by OnePlus 6T.\n",
      "\n",
      "\n",
      "원문 : Filmmaker Pooja Bhatt, while talking about the presentation of women in her films, said, \"I can never look at a female body, even if it's naked, in a vulgar manner.\" \"Our audience can say...the women in my films are bold or sensual, but never ever vulgar,\" she added. Pooja further said her censor board is her \"own heart and mind\".\n",
      "실제 요약 : Can never look at female body, even if naked, in vulgar way: Pooja\n",
      "추출 요약 : Filmmaker Pooja Bhatt, while talking about the presentation of women in her films, said, \"I can never look at a female body, even if it's naked, in a vulgar manner.\" \"Our audience can say...the women in my films are bold or sensual, but never ever vulgar,\" she added.\n",
      "\n",
      "\n",
      "원문 : Actress Mishti, who has featured in 'Manikarnika: The Queen of Jhansi', has said the film's co-director Kangana Ranaut made false promises to the cast. \"Kangana had said, 'I want dates because all characters look jumbled up...I'm trying my best to give everybody a prominent space on screen.' After watching the movie, there is no scope for other characters,\" Mishti added. \n",
      "실제 요약 : Kangana made fake promises to cast: 'Manikarnika' actress Mishti\n",
      "추출 요약 : Actress Mishti, who has featured in 'Manikarnika: The Queen of Jhansi', has said the film's co-director Kangana Ranaut made false promises to the cast.\n",
      "\n",
      "\n",
      "원문 : The high-powered committee led by PM Narendra Modi to select the next CBI Director will meet again on February 1, Congress leader Mallikarjun Kharge has said. The panel consisting of Kharge and Chief Justice of India Ranjan Gogoi met on January 24, but the meeting ended \"inconclusively\" after Kharge cited lack of details in the list of 80 IPS officers. \n",
      "실제 요약 : PM-led panel to meet on Friday to pick new CBI chief: Kharge\n",
      "추출 요약 : The high-powered committee led by PM Narendra Modi to select the next CBI Director will meet again on February 1, Congress leader Mallikarjun Kharge has said.\n",
      "\n",
      "\n",
      "원문 : Nevada State Athletic Commission has banned MMA fighters Conor McGregor and Khabib Nurmagomedov for six months and nine months respectively over their roles in the mass brawl that occurred after their fight at UFC 229 last October. McGregor and Khabib have been fined $50,000 (Ã¢ÂÂ¹35 lakh) and $500,000 (Ã¢ÂÂ¹3.5 crore) respectively. The brawl occurred after Nurmagomedov confronted McGregor's teammate.\n",
      "실제 요약 : McGregor fined Ã¢ÂÂ¹35 lakh, Khabib Ã¢ÂÂ¹3.5 crore for brawl; both banned\n",
      "추출 요약 : Nevada State Athletic Commission has banned MMA fighters Conor McGregor and Khabib Nurmagomedov for six months and nine months respectively over their roles in the mass brawl that occurred after their fight at UFC 229 last October.\n",
      "\n",
      "\n",
      "원문 : Pakistan captain Sarfaraz Ahmed, who has been banned for four matches over racist remarks, took an apparent dig at his critics by sharing a video of a child reciting 'log hai na' poem on Twitter. \"Pyaar karna hai to khud se kar...dushmani karne ke liye log hai na,\" the poem read. \"This is how the world is,\" Sarfaraz wrote.\n",
      "실제 요약 : Banned for 4 matches, Sarfaraz shares 'log hai na' poem for critics\n",
      "추출 요약 : Pakistan captain Sarfaraz Ahmed, who has been banned for four matches over racist remarks, took an apparent dig at his critics by sharing a video of a child reciting 'log hai na' poem on Twitter.\n",
      "\n",
      "\n",
      "원문 : Banned cricketer Sreesanth has told Supreme Court he initially confessed to Delhi Police about his alleged involvement in 2013 IPL spot-fixing scandal to escape continuous police torture. Sreesanth further said the bookie tried dragging him into spot-fixing but he didn't fall for it. Citing Sreesanth not informing BCCI about fixing approach, the apex court said Sreesanth's conduct \"wasn't good\".\n",
      "실제 요약 : Confessed to spot-fixing to escape police torture: Sreesanth to SC\n",
      "추출 요약 : Sreesanth further said the bookie tried dragging him into spot-fixing but he didn't fall for it.\n",
      "\n",
      "\n"
     ]
    }
   ],
   "source": [
    "for i in range(40, 60):\n",
    "    print(\"원문 :\", data['text'][i])\n",
    "    print(\"실제 요약 :\", data['headlines'][i])\n",
    "    print(\"추출 요약 :\", data['summary'][i])\n",
    "    print(\"\\n\")"
   ]
  },
  {
   "cell_type": "markdown",
   "id": "773089d6",
   "metadata": {},
   "source": [
    "# 8. 결론 및 정리\n",
    "\n",
    "\n",
    "## 추상적 요약(Abstractive Summarization)\n",
    "원문에 없던 문장이라도 핵심 문맥을 반영한 새로운 문장을 생성해서 원문을 요약하는 방법\n",
    "\n",
    "* 원문 : user united states claimed apple iphone exploded allegedly updated ios posted several photos exploded phone apple responded definitely expected behaviour update completed soon phone turned started smoke caught fire user said \n",
    "\n",
    "* 실제 요약 : apple iphone explodes after update in the us \n",
    "\n",
    "* 예측 요약 :  apple iphone explodes users to unlock iphone location\n",
    "\n",
    "\n",
    "위 예측결과를 보면, 추상적 요약에서는 키워드를 찾아내고 그것을 요약할 수 있는 새로운 단어를 만들어 요약을 하는 모습을 확인 할 수 있다.\n",
    "하지만 위와 같이 아주 대략적인 내용 또는 범주는 비슷하지만, 구체적으로 살펴보면 원문의 내용과는 연관성이 떨어지는 요약을 하는 경우도 다수 확인 할 수 있다.\n",
    "또한 원문과는 상관없는 이상한 요약을 예측한 경우도 존재했다.\n",
    "\n",
    "\n",
    "## 추출적 요약(Extractive Summarization)\n",
    "원문에서 중요한 핵심 문장 또는 단어구를 몇 개 뽑아서 이들로 구성된 요약문을 만드는 방법\n",
    "\n",
    "* 원문 : Railway police has rescued a woman travelling on a train in Chennai who got her leg stuck inside the commode of a toilet. After being caught inside the commode hole, she struggled to remove her leg and following failed attempts, she shouted for help, reports said. Railway police used a cutter to pry open the commode and freed her leg.\n",
    "* 실제 요약 : Railway police rescues woman with leg stuck in train toilet\n",
    "* 추출 요약 : Railway police has rescued a woman travelling on a train in Chennai who got her leg stuck inside the commode of a toilet.\n",
    "\n",
    "위의 예측 결과를 보면, 추출적 요약에서는 원문에서 중요한 핵심 문장 또는 단어구를 몇 개 뽑아서 이들로 구성된 요약이 된 것을 확인 할 수 있다. 하지만 이 결과 이외의 다른 결과를 기준으로는 다소 어색하거나 의미가 이상한 것 들이 많다. 그나마 추상적 요약보다는 좋은 것 같다.\n",
    "\n",
    "\n",
    "## 결론\n",
    "\n",
    "**결론적으로**, 추출적 요약 모델이 더 좋거나 적합하다 생각되지만, 모델의 강건성이나 정확성을 생각한다면 큰 의미는 없는 것 같다.\n",
    "\n",
    "\n",
    "## 추가생각\n",
    "\n",
    "model 학습 결과를 보면 성능이 그닥 좋지는 못 한것 같다. 이를 해결하기 위해서는 다양한 기법을 추가하면 될 것 같지만 아주 nice하게 성능이 좋아 질 것이라고 생각하지 않는다. 더군다나 하이퍼파라미터 설정도 주관이 너무 담겨있어서 혼란스럽다. NLP모델은 개인간, 주관이 담기기 때문에 좋은 모델을 작성한다 하더라고 정말 좋은 모델인지, 신뢰할 수 있는지 의문이 든다."
   ]
  }
 ],
 "metadata": {
  "kernelspec": {
   "display_name": "Python 3 (ipykernel)",
   "language": "python",
   "name": "python3"
  },
  "language_info": {
   "codemirror_mode": {
    "name": "ipython",
    "version": 3
   },
   "file_extension": ".py",
   "mimetype": "text/x-python",
   "name": "python",
   "nbconvert_exporter": "python",
   "pygments_lexer": "ipython3",
   "version": "3.9.7"
  }
 },
 "nbformat": 4,
 "nbformat_minor": 5
}
