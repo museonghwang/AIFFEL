{
 "cells": [
  {
   "cell_type": "markdown",
   "id": "39bf11b8",
   "metadata": {},
   "source": [
    "# [EXPLORATION-14] Moivelens_Recommender_Sysyem"
   ]
  },
  {
   "cell_type": "markdown",
   "id": "10a2f3a2",
   "metadata": {},
   "source": [
    "# 1. 데이터 준비와 전처리"
   ]
  },
  {
   "cell_type": "markdown",
   "id": "ddaf1d7d",
   "metadata": {},
   "source": [
    "## 유저가 영화에 대해 평점을 매긴 데이터 불러오기"
   ]
  },
  {
   "cell_type": "code",
   "execution_count": 1,
   "id": "f0ebe83b",
   "metadata": {},
   "outputs": [],
   "source": [
    "import pandas as pd\n",
    "import numpy as np\n",
    "import os\n",
    "import matplotlib.pyplot as plt\n",
    "import seaborn as sns\n",
    "import warnings\n",
    "warnings.filterwarnings('ignore')"
   ]
  },
  {
   "cell_type": "code",
   "execution_count": 2,
   "id": "765a2416",
   "metadata": {
    "scrolled": true
   },
   "outputs": [
    {
     "data": {
      "text/html": [
       "<div>\n",
       "<style scoped>\n",
       "    .dataframe tbody tr th:only-of-type {\n",
       "        vertical-align: middle;\n",
       "    }\n",
       "\n",
       "    .dataframe tbody tr th {\n",
       "        vertical-align: top;\n",
       "    }\n",
       "\n",
       "    .dataframe thead th {\n",
       "        text-align: right;\n",
       "    }\n",
       "</style>\n",
       "<table border=\"1\" class=\"dataframe\">\n",
       "  <thead>\n",
       "    <tr style=\"text-align: right;\">\n",
       "      <th></th>\n",
       "      <th>user_id</th>\n",
       "      <th>movie_id</th>\n",
       "      <th>ratings</th>\n",
       "      <th>timestamp</th>\n",
       "    </tr>\n",
       "  </thead>\n",
       "  <tbody>\n",
       "    <tr>\n",
       "      <th>0</th>\n",
       "      <td>1</td>\n",
       "      <td>1193</td>\n",
       "      <td>5</td>\n",
       "      <td>978300760</td>\n",
       "    </tr>\n",
       "    <tr>\n",
       "      <th>1</th>\n",
       "      <td>1</td>\n",
       "      <td>661</td>\n",
       "      <td>3</td>\n",
       "      <td>978302109</td>\n",
       "    </tr>\n",
       "    <tr>\n",
       "      <th>2</th>\n",
       "      <td>1</td>\n",
       "      <td>914</td>\n",
       "      <td>3</td>\n",
       "      <td>978301968</td>\n",
       "    </tr>\n",
       "    <tr>\n",
       "      <th>3</th>\n",
       "      <td>1</td>\n",
       "      <td>3408</td>\n",
       "      <td>4</td>\n",
       "      <td>978300275</td>\n",
       "    </tr>\n",
       "    <tr>\n",
       "      <th>4</th>\n",
       "      <td>1</td>\n",
       "      <td>2355</td>\n",
       "      <td>5</td>\n",
       "      <td>978824291</td>\n",
       "    </tr>\n",
       "  </tbody>\n",
       "</table>\n",
       "</div>"
      ],
      "text/plain": [
       "   user_id  movie_id  ratings  timestamp\n",
       "0        1      1193        5  978300760\n",
       "1        1       661        3  978302109\n",
       "2        1       914        3  978301968\n",
       "3        1      3408        4  978300275\n",
       "4        1      2355        5  978824291"
      ]
     },
     "execution_count": 2,
     "metadata": {},
     "output_type": "execute_result"
    }
   ],
   "source": [
    "rating_file_path=os.getenv('HOME') + '/aiffel/recommendata_iu/data/ml-1m/ratings.dat'\n",
    "ratings_cols = ['user_id', 'movie_id', 'ratings', 'timestamp']\n",
    "ratings = pd.read_csv(rating_file_path, sep='::', names=ratings_cols, engine='python', encoding = \"ISO-8859-1\")\n",
    "orginal_data_size = len(ratings)\n",
    "ratings.head()"
   ]
  },
  {
   "cell_type": "markdown",
   "id": "aa393a20",
   "metadata": {},
   "source": [
    "## 선호도 기준 정하기\n",
    "\n",
    "* 평점이 3점 이상인 movie들만 남김\n",
    "* 1,000,209개의 영화 중, 836,478개의 영화만 평점이 3점 이상 (약 83.63%)"
   ]
  },
  {
   "cell_type": "code",
   "execution_count": 3,
   "id": "1b6a3007",
   "metadata": {
    "scrolled": true
   },
   "outputs": [
    {
     "data": {
      "image/png": "[encoded data removed]",
      "text/plain": [
       "<Figure size 432x288 with 1 Axes>"
      ]
     },
     "metadata": {
      "needs_background": "light"
     },
     "output_type": "display_data"
    }
   ],
   "source": [
    "sns.countplot(x='ratings', data=ratings);"
   ]
  },
  {
   "cell_type": "code",
   "execution_count": 4,
   "id": "d9cfe182",
   "metadata": {},
   "outputs": [
    {
     "name": "stdout",
     "output_type": "stream",
     "text": [
      "orginal_data_size: 1000209, filtered_data_size: 836478\n",
      "Ratio of Remaining Data is 83.63%\n"
     ]
    }
   ],
   "source": [
    "# 3점 이상만 남깁니다.\n",
    "ratings = ratings[ratings['ratings']>=3]\n",
    "filtered_data_size = len(ratings)\n",
    "\n",
    "print(f'orginal_data_size: {orginal_data_size}, filtered_data_size: {filtered_data_size}')\n",
    "print(f'Ratio of Remaining Data is {filtered_data_size / orginal_data_size:.2%}')"
   ]
  },
  {
   "cell_type": "markdown",
   "id": "1d631145",
   "metadata": {},
   "source": [
    "## 암묵적 평가로 지표 변경\n",
    "* rating은 explicit 데이터지만 implicit 데이터로 간주"
   ]
  },
  {
   "cell_type": "code",
   "execution_count": 5,
   "id": "de488fc2",
   "metadata": {},
   "outputs": [
    {
     "data": {
      "text/html": [
       "<div>\n",
       "<style scoped>\n",
       "    .dataframe tbody tr th:only-of-type {\n",
       "        vertical-align: middle;\n",
       "    }\n",
       "\n",
       "    .dataframe tbody tr th {\n",
       "        vertical-align: top;\n",
       "    }\n",
       "\n",
       "    .dataframe thead th {\n",
       "        text-align: right;\n",
       "    }\n",
       "</style>\n",
       "<table border=\"1\" class=\"dataframe\">\n",
       "  <thead>\n",
       "    <tr style=\"text-align: right;\">\n",
       "      <th></th>\n",
       "      <th>user_id</th>\n",
       "      <th>movie_id</th>\n",
       "      <th>counts</th>\n",
       "      <th>timestamp</th>\n",
       "    </tr>\n",
       "  </thead>\n",
       "  <tbody>\n",
       "    <tr>\n",
       "      <th>0</th>\n",
       "      <td>1</td>\n",
       "      <td>1193</td>\n",
       "      <td>5</td>\n",
       "      <td>978300760</td>\n",
       "    </tr>\n",
       "    <tr>\n",
       "      <th>1</th>\n",
       "      <td>1</td>\n",
       "      <td>661</td>\n",
       "      <td>3</td>\n",
       "      <td>978302109</td>\n",
       "    </tr>\n",
       "    <tr>\n",
       "      <th>2</th>\n",
       "      <td>1</td>\n",
       "      <td>914</td>\n",
       "      <td>3</td>\n",
       "      <td>978301968</td>\n",
       "    </tr>\n",
       "    <tr>\n",
       "      <th>3</th>\n",
       "      <td>1</td>\n",
       "      <td>3408</td>\n",
       "      <td>4</td>\n",
       "      <td>978300275</td>\n",
       "    </tr>\n",
       "    <tr>\n",
       "      <th>4</th>\n",
       "      <td>1</td>\n",
       "      <td>2355</td>\n",
       "      <td>5</td>\n",
       "      <td>978824291</td>\n",
       "    </tr>\n",
       "  </tbody>\n",
       "</table>\n",
       "</div>"
      ],
      "text/plain": [
       "   user_id  movie_id  counts  timestamp\n",
       "0        1      1193       5  978300760\n",
       "1        1       661       3  978302109\n",
       "2        1       914       3  978301968\n",
       "3        1      3408       4  978300275\n",
       "4        1      2355       5  978824291"
      ]
     },
     "execution_count": 5,
     "metadata": {},
     "output_type": "execute_result"
    }
   ],
   "source": [
    "# rating 컬럼의 이름을 count로 바꿉니다.\n",
    "ratings.rename(columns={'ratings':'counts'}, inplace=True)\n",
    "ratings.head()"
   ]
  },
  {
   "cell_type": "markdown",
   "id": "1f84e88a",
   "metadata": {},
   "source": [
    "## 사용하지 않는 Col 제거\n",
    "\n",
    "* 본 커널에서는 시간은 고려하지 않음"
   ]
  },
  {
   "cell_type": "code",
   "execution_count": 6,
   "id": "561e4ded",
   "metadata": {},
   "outputs": [
    {
     "data": {
      "text/html": [
       "<div>\n",
       "<style scoped>\n",
       "    .dataframe tbody tr th:only-of-type {\n",
       "        vertical-align: middle;\n",
       "    }\n",
       "\n",
       "    .dataframe tbody tr th {\n",
       "        vertical-align: top;\n",
       "    }\n",
       "\n",
       "    .dataframe thead th {\n",
       "        text-align: right;\n",
       "    }\n",
       "</style>\n",
       "<table border=\"1\" class=\"dataframe\">\n",
       "  <thead>\n",
       "    <tr style=\"text-align: right;\">\n",
       "      <th></th>\n",
       "      <th>user_id</th>\n",
       "      <th>movie_id</th>\n",
       "      <th>counts</th>\n",
       "    </tr>\n",
       "  </thead>\n",
       "  <tbody>\n",
       "    <tr>\n",
       "      <th>0</th>\n",
       "      <td>1</td>\n",
       "      <td>1193</td>\n",
       "      <td>5</td>\n",
       "    </tr>\n",
       "    <tr>\n",
       "      <th>1</th>\n",
       "      <td>1</td>\n",
       "      <td>661</td>\n",
       "      <td>3</td>\n",
       "    </tr>\n",
       "    <tr>\n",
       "      <th>2</th>\n",
       "      <td>1</td>\n",
       "      <td>914</td>\n",
       "      <td>3</td>\n",
       "    </tr>\n",
       "    <tr>\n",
       "      <th>3</th>\n",
       "      <td>1</td>\n",
       "      <td>3408</td>\n",
       "      <td>4</td>\n",
       "    </tr>\n",
       "    <tr>\n",
       "      <th>4</th>\n",
       "      <td>1</td>\n",
       "      <td>2355</td>\n",
       "      <td>5</td>\n",
       "    </tr>\n",
       "  </tbody>\n",
       "</table>\n",
       "</div>"
      ],
      "text/plain": [
       "   user_id  movie_id  counts\n",
       "0        1      1193       5\n",
       "1        1       661       3\n",
       "2        1       914       3\n",
       "3        1      3408       4\n",
       "4        1      2355       5"
      ]
     },
     "execution_count": 6,
     "metadata": {},
     "output_type": "execute_result"
    }
   ],
   "source": [
    "ratings.drop('timestamp', axis=1, inplace=True)\n",
    "ratings.head()"
   ]
  },
  {
   "cell_type": "markdown",
   "id": "e43ed23d",
   "metadata": {},
   "source": [
    "## 영화 메타 데이터 불러오기"
   ]
  },
  {
   "cell_type": "code",
   "execution_count": 7,
   "id": "124aa5ee",
   "metadata": {},
   "outputs": [
    {
     "data": {
      "text/html": [
       "<div>\n",
       "<style scoped>\n",
       "    .dataframe tbody tr th:only-of-type {\n",
       "        vertical-align: middle;\n",
       "    }\n",
       "\n",
       "    .dataframe tbody tr th {\n",
       "        vertical-align: top;\n",
       "    }\n",
       "\n",
       "    .dataframe thead th {\n",
       "        text-align: right;\n",
       "    }\n",
       "</style>\n",
       "<table border=\"1\" class=\"dataframe\">\n",
       "  <thead>\n",
       "    <tr style=\"text-align: right;\">\n",
       "      <th></th>\n",
       "      <th>movie_id</th>\n",
       "      <th>title</th>\n",
       "      <th>genre</th>\n",
       "    </tr>\n",
       "  </thead>\n",
       "  <tbody>\n",
       "    <tr>\n",
       "      <th>0</th>\n",
       "      <td>1</td>\n",
       "      <td>Toy Story (1995)</td>\n",
       "      <td>Animation|Children's|Comedy</td>\n",
       "    </tr>\n",
       "    <tr>\n",
       "      <th>1</th>\n",
       "      <td>2</td>\n",
       "      <td>Jumanji (1995)</td>\n",
       "      <td>Adventure|Children's|Fantasy</td>\n",
       "    </tr>\n",
       "    <tr>\n",
       "      <th>2</th>\n",
       "      <td>3</td>\n",
       "      <td>Grumpier Old Men (1995)</td>\n",
       "      <td>Comedy|Romance</td>\n",
       "    </tr>\n",
       "    <tr>\n",
       "      <th>3</th>\n",
       "      <td>4</td>\n",
       "      <td>Waiting to Exhale (1995)</td>\n",
       "      <td>Comedy|Drama</td>\n",
       "    </tr>\n",
       "    <tr>\n",
       "      <th>4</th>\n",
       "      <td>5</td>\n",
       "      <td>Father of the Bride Part II (1995)</td>\n",
       "      <td>Comedy</td>\n",
       "    </tr>\n",
       "  </tbody>\n",
       "</table>\n",
       "</div>"
      ],
      "text/plain": [
       "   movie_id                               title                         genre\n",
       "0         1                    Toy Story (1995)   Animation|Children's|Comedy\n",
       "1         2                      Jumanji (1995)  Adventure|Children's|Fantasy\n",
       "2         3             Grumpier Old Men (1995)                Comedy|Romance\n",
       "3         4            Waiting to Exhale (1995)                  Comedy|Drama\n",
       "4         5  Father of the Bride Part II (1995)                        Comedy"
      ]
     },
     "execution_count": 7,
     "metadata": {},
     "output_type": "execute_result"
    }
   ],
   "source": [
    "# 영화 제목을 보기 위해 메타 데이터를 읽어옵니다.\n",
    "movie_file_path=os.getenv('HOME') + '/aiffel/recommendata_iu/data/ml-1m/movies.dat'\n",
    "cols = ['movie_id', 'title', 'genre'] \n",
    "movies = pd.read_csv(movie_file_path, sep='::', names=cols, engine='python', encoding='ISO-8859-1')\n",
    "movies.head()"
   ]
  },
  {
   "cell_type": "markdown",
   "id": "f62c362a",
   "metadata": {},
   "source": [
    "# ratings와 movies dataframe 병합"
   ]
  },
  {
   "cell_type": "code",
   "execution_count": 8,
   "id": "398783f5",
   "metadata": {},
   "outputs": [
    {
     "data": {
      "text/html": [
       "<div>\n",
       "<style scoped>\n",
       "    .dataframe tbody tr th:only-of-type {\n",
       "        vertical-align: middle;\n",
       "    }\n",
       "\n",
       "    .dataframe tbody tr th {\n",
       "        vertical-align: top;\n",
       "    }\n",
       "\n",
       "    .dataframe thead th {\n",
       "        text-align: right;\n",
       "    }\n",
       "</style>\n",
       "<table border=\"1\" class=\"dataframe\">\n",
       "  <thead>\n",
       "    <tr style=\"text-align: right;\">\n",
       "      <th></th>\n",
       "      <th>user_id</th>\n",
       "      <th>movie_id</th>\n",
       "      <th>counts</th>\n",
       "      <th>title</th>\n",
       "      <th>genre</th>\n",
       "    </tr>\n",
       "  </thead>\n",
       "  <tbody>\n",
       "    <tr>\n",
       "      <th>0</th>\n",
       "      <td>1</td>\n",
       "      <td>1193</td>\n",
       "      <td>5</td>\n",
       "      <td>One Flew Over the Cuckoo's Nest (1975)</td>\n",
       "      <td>Drama</td>\n",
       "    </tr>\n",
       "    <tr>\n",
       "      <th>1</th>\n",
       "      <td>1</td>\n",
       "      <td>661</td>\n",
       "      <td>3</td>\n",
       "      <td>James and the Giant Peach (1996)</td>\n",
       "      <td>Animation|Children's|Musical</td>\n",
       "    </tr>\n",
       "    <tr>\n",
       "      <th>2</th>\n",
       "      <td>1</td>\n",
       "      <td>914</td>\n",
       "      <td>3</td>\n",
       "      <td>My Fair Lady (1964)</td>\n",
       "      <td>Musical|Romance</td>\n",
       "    </tr>\n",
       "    <tr>\n",
       "      <th>3</th>\n",
       "      <td>1</td>\n",
       "      <td>3408</td>\n",
       "      <td>4</td>\n",
       "      <td>Erin Brockovich (2000)</td>\n",
       "      <td>Drama</td>\n",
       "    </tr>\n",
       "    <tr>\n",
       "      <th>4</th>\n",
       "      <td>1</td>\n",
       "      <td>2355</td>\n",
       "      <td>5</td>\n",
       "      <td>Bug's Life, A (1998)</td>\n",
       "      <td>Animation|Children's|Comedy</td>\n",
       "    </tr>\n",
       "  </tbody>\n",
       "</table>\n",
       "</div>"
      ],
      "text/plain": [
       "   user_id  movie_id  counts                                   title  \\\n",
       "0        1      1193       5  One Flew Over the Cuckoo's Nest (1975)   \n",
       "1        1       661       3        James and the Giant Peach (1996)   \n",
       "2        1       914       3                     My Fair Lady (1964)   \n",
       "3        1      3408       4                  Erin Brockovich (2000)   \n",
       "4        1      2355       5                    Bug's Life, A (1998)   \n",
       "\n",
       "                          genre  \n",
       "0                         Drama  \n",
       "1  Animation|Children's|Musical  \n",
       "2               Musical|Romance  \n",
       "3                         Drama  \n",
       "4   Animation|Children's|Comedy  "
      ]
     },
     "execution_count": 8,
     "metadata": {},
     "output_type": "execute_result"
    }
   ],
   "source": [
    "df_merge = pd.merge(ratings, movies, how='left', on=['movie_id'])\n",
    "df_merge.head()"
   ]
  },
  {
   "cell_type": "markdown",
   "id": "619914e0",
   "metadata": {},
   "source": [
    "## 가장 많은 장르 수 확인"
   ]
  },
  {
   "cell_type": "code",
   "execution_count": 9,
   "id": "6f11485c",
   "metadata": {},
   "outputs": [
    {
     "name": "stdout",
     "output_type": "stream",
     "text": [
      "Action|Animation|Children's|Sci-Fi|Thriller|War\n"
     ]
    }
   ],
   "source": [
    "print(max(df_merge['genre'], key=len))"
   ]
  },
  {
   "cell_type": "code",
   "execution_count": 10,
   "id": "bd26c30d",
   "metadata": {},
   "outputs": [
    {
     "data": {
      "text/html": [
       "<div>\n",
       "<style scoped>\n",
       "    .dataframe tbody tr th:only-of-type {\n",
       "        vertical-align: middle;\n",
       "    }\n",
       "\n",
       "    .dataframe tbody tr th {\n",
       "        vertical-align: top;\n",
       "    }\n",
       "\n",
       "    .dataframe thead th {\n",
       "        text-align: right;\n",
       "    }\n",
       "</style>\n",
       "<table border=\"1\" class=\"dataframe\">\n",
       "  <thead>\n",
       "    <tr style=\"text-align: right;\">\n",
       "      <th></th>\n",
       "      <th>user_id</th>\n",
       "      <th>movie_id</th>\n",
       "      <th>counts</th>\n",
       "      <th>title</th>\n",
       "      <th>genre</th>\n",
       "      <th>genre_1</th>\n",
       "      <th>genre_2</th>\n",
       "      <th>genre_3</th>\n",
       "      <th>genre_4</th>\n",
       "      <th>genre_5</th>\n",
       "      <th>genre_6</th>\n",
       "    </tr>\n",
       "  </thead>\n",
       "  <tbody>\n",
       "    <tr>\n",
       "      <th>0</th>\n",
       "      <td>1</td>\n",
       "      <td>1193</td>\n",
       "      <td>5</td>\n",
       "      <td>One Flew Over the Cuckoo's Nest (1975)</td>\n",
       "      <td>Drama</td>\n",
       "      <td>Drama</td>\n",
       "      <td>None</td>\n",
       "      <td>None</td>\n",
       "      <td>None</td>\n",
       "      <td>None</td>\n",
       "      <td>None</td>\n",
       "    </tr>\n",
       "    <tr>\n",
       "      <th>1</th>\n",
       "      <td>1</td>\n",
       "      <td>661</td>\n",
       "      <td>3</td>\n",
       "      <td>James and the Giant Peach (1996)</td>\n",
       "      <td>Animation|Children's|Musical</td>\n",
       "      <td>Animation</td>\n",
       "      <td>Children's</td>\n",
       "      <td>Musical</td>\n",
       "      <td>None</td>\n",
       "      <td>None</td>\n",
       "      <td>None</td>\n",
       "    </tr>\n",
       "    <tr>\n",
       "      <th>2</th>\n",
       "      <td>1</td>\n",
       "      <td>914</td>\n",
       "      <td>3</td>\n",
       "      <td>My Fair Lady (1964)</td>\n",
       "      <td>Musical|Romance</td>\n",
       "      <td>Musical</td>\n",
       "      <td>Romance</td>\n",
       "      <td>None</td>\n",
       "      <td>None</td>\n",
       "      <td>None</td>\n",
       "      <td>None</td>\n",
       "    </tr>\n",
       "    <tr>\n",
       "      <th>3</th>\n",
       "      <td>1</td>\n",
       "      <td>3408</td>\n",
       "      <td>4</td>\n",
       "      <td>Erin Brockovich (2000)</td>\n",
       "      <td>Drama</td>\n",
       "      <td>Drama</td>\n",
       "      <td>None</td>\n",
       "      <td>None</td>\n",
       "      <td>None</td>\n",
       "      <td>None</td>\n",
       "      <td>None</td>\n",
       "    </tr>\n",
       "    <tr>\n",
       "      <th>4</th>\n",
       "      <td>1</td>\n",
       "      <td>2355</td>\n",
       "      <td>5</td>\n",
       "      <td>Bug's Life, A (1998)</td>\n",
       "      <td>Animation|Children's|Comedy</td>\n",
       "      <td>Animation</td>\n",
       "      <td>Children's</td>\n",
       "      <td>Comedy</td>\n",
       "      <td>None</td>\n",
       "      <td>None</td>\n",
       "      <td>None</td>\n",
       "    </tr>\n",
       "  </tbody>\n",
       "</table>\n",
       "</div>"
      ],
      "text/plain": [
       "   user_id  movie_id  counts                                   title  \\\n",
       "0        1      1193       5  One Flew Over the Cuckoo's Nest (1975)   \n",
       "1        1       661       3        James and the Giant Peach (1996)   \n",
       "2        1       914       3                     My Fair Lady (1964)   \n",
       "3        1      3408       4                  Erin Brockovich (2000)   \n",
       "4        1      2355       5                    Bug's Life, A (1998)   \n",
       "\n",
       "                          genre    genre_1     genre_2  genre_3 genre_4  \\\n",
       "0                         Drama      Drama        None     None    None   \n",
       "1  Animation|Children's|Musical  Animation  Children's  Musical    None   \n",
       "2               Musical|Romance    Musical     Romance     None    None   \n",
       "3                         Drama      Drama        None     None    None   \n",
       "4   Animation|Children's|Comedy  Animation  Children's   Comedy    None   \n",
       "\n",
       "  genre_5 genre_6  \n",
       "0    None    None  \n",
       "1    None    None  \n",
       "2    None    None  \n",
       "3    None    None  \n",
       "4    None    None  "
      ]
     },
     "execution_count": 10,
     "metadata": {},
     "output_type": "execute_result"
    }
   ],
   "source": [
    "df_merge[['genre_1', 'genre_2', 'genre_3','genre_4','genre_5','genre_6']] = df_merge.genre.str.split(\"|\", expand=True)\n",
    "df_merge.head()"
   ]
  },
  {
   "cell_type": "markdown",
   "id": "126f4192",
   "metadata": {},
   "source": [
    "# 2. 데이터 분석"
   ]
  },
  {
   "cell_type": "markdown",
   "id": "0d9aceb7",
   "metadata": {},
   "source": [
    "## 영화 개수 확인"
   ]
  },
  {
   "cell_type": "code",
   "execution_count": 11,
   "id": "37b07e07",
   "metadata": {},
   "outputs": [
    {
     "name": "stdout",
     "output_type": "stream",
     "text": [
      "number of unique movies :  3628\n"
     ]
    }
   ],
   "source": [
    "# 유니크한 영화 개수\n",
    "print('number of unique movies : ', df_merge['movie_id'].nunique())"
   ]
  },
  {
   "cell_type": "markdown",
   "id": "94e3e00f",
   "metadata": {},
   "source": [
    "## 사용자 수 확인"
   ]
  },
  {
   "cell_type": "code",
   "execution_count": 12,
   "id": "833b06d3",
   "metadata": {},
   "outputs": [
    {
     "name": "stdout",
     "output_type": "stream",
     "text": [
      "number of users :  6039\n"
     ]
    }
   ],
   "source": [
    "# 유니크한 사용자 수\n",
    "print('number of users : ', df_merge['user_id'].nunique())"
   ]
  },
  {
   "cell_type": "markdown",
   "id": "ca71a96f",
   "metadata": {},
   "source": [
    "## 가장 인기 있는 영화 30개(인기순)"
   ]
  },
  {
   "cell_type": "code",
   "execution_count": 13,
   "id": "fd23209e",
   "metadata": {},
   "outputs": [
    {
     "data": {
      "text/plain": [
       "title\n",
       "American Beauty (1999)                                   3211\n",
       "Star Wars: Episode IV - A New Hope (1977)                2910\n",
       "Star Wars: Episode V - The Empire Strikes Back (1980)    2885\n",
       "Star Wars: Episode VI - Return of the Jedi (1983)        2716\n",
       "Saving Private Ryan (1998)                               2561\n",
       "Terminator 2: Judgment Day (1991)                        2509\n",
       "Silence of the Lambs, The (1991)                         2498\n",
       "Raiders of the Lost Ark (1981)                           2473\n",
       "Back to the Future (1985)                                2460\n",
       "Matrix, The (1999)                                       2434\n",
       "Jurassic Park (1993)                                     2413\n",
       "Sixth Sense, The (1999)                                  2385\n",
       "Fargo (1996)                                             2371\n",
       "Braveheart (1995)                                        2314\n",
       "Men in Black (1997)                                      2297\n",
       "Schindler's List (1993)                                  2257\n",
       "Princess Bride, The (1987)                               2252\n",
       "Shakespeare in Love (1998)                               2213\n",
       "L.A. Confidential (1997)                                 2210\n",
       "Shawshank Redemption, The (1994)                         2194\n",
       "Godfather, The (1972)                                    2167\n",
       "Groundhog Day (1993)                                     2121\n",
       "E.T. the Extra-Terrestrial (1982)                        2102\n",
       "Being John Malkovich (1999)                              2066\n",
       "Ghostbusters (1984)                                      2051\n",
       "Pulp Fiction (1994)                                      2030\n",
       "Forrest Gump (1994)                                      2022\n",
       "Terminator, The (1984)                                   2019\n",
       "Toy Story (1995)                                         2000\n",
       "Fugitive, The (1993)                                     1941\n",
       "Name: user_id, dtype: int64"
      ]
     },
     "execution_count": 13,
     "metadata": {},
     "output_type": "execute_result"
    }
   ],
   "source": [
    "# 가장 인기 있는 영화 30개(인기순)\n",
    "movie_count = df_merge.groupby('title')['user_id'].count()\n",
    "movie_count.sort_values(ascending=False).head(30)"
   ]
  },
  {
   "cell_type": "code",
   "execution_count": 14,
   "id": "a1e01c57",
   "metadata": {
    "scrolled": false
   },
   "outputs": [
    {
     "data": {
      "image/png": "[encoded data removed]",
      "text/plain": [
       "<Figure size 1296x504 with 1 Axes>"
      ]
     },
     "metadata": {
      "needs_background": "light"
     },
     "output_type": "display_data"
    }
   ],
   "source": [
    "df_merge.groupby('title')['user_id'].count().sort_values(ascending=False).head(30).plot(kind='bar', figsize=(18,7));"
   ]
  },
  {
   "cell_type": "markdown",
   "id": "84ee0a32",
   "metadata": {},
   "source": [
    "# 영화별 평균 시청횟수 확인"
   ]
  },
  {
   "cell_type": "code",
   "execution_count": 15,
   "id": "089a4ff8",
   "metadata": {},
   "outputs": [
    {
     "data": {
      "text/html": [
       "<div>\n",
       "<style scoped>\n",
       "    .dataframe tbody tr th:only-of-type {\n",
       "        vertical-align: middle;\n",
       "    }\n",
       "\n",
       "    .dataframe tbody tr th {\n",
       "        vertical-align: top;\n",
       "    }\n",
       "\n",
       "    .dataframe thead th {\n",
       "        text-align: right;\n",
       "    }\n",
       "</style>\n",
       "<table border=\"1\" class=\"dataframe\">\n",
       "  <thead>\n",
       "    <tr style=\"text-align: right;\">\n",
       "      <th></th>\n",
       "      <th>counts</th>\n",
       "    </tr>\n",
       "    <tr>\n",
       "      <th>title</th>\n",
       "      <th></th>\n",
       "    </tr>\n",
       "  </thead>\n",
       "  <tbody>\n",
       "    <tr>\n",
       "      <th>Ulysses (Ulisse) (1954)</th>\n",
       "      <td>5.0</td>\n",
       "    </tr>\n",
       "    <tr>\n",
       "      <th>Country Life (1994)</th>\n",
       "      <td>5.0</td>\n",
       "    </tr>\n",
       "    <tr>\n",
       "      <th>Schlafes Bruder (Brother of Sleep) (1995)</th>\n",
       "      <td>5.0</td>\n",
       "    </tr>\n",
       "    <tr>\n",
       "      <th>Foreign Student (1994)</th>\n",
       "      <td>5.0</td>\n",
       "    </tr>\n",
       "    <tr>\n",
       "      <th>Follow the Bitch (1998)</th>\n",
       "      <td>5.0</td>\n",
       "    </tr>\n",
       "    <tr>\n",
       "      <th>One Little Indian (1973)</th>\n",
       "      <td>5.0</td>\n",
       "    </tr>\n",
       "    <tr>\n",
       "      <th>Criminal Lovers (Les Amants Criminels) (1999)</th>\n",
       "      <td>5.0</td>\n",
       "    </tr>\n",
       "    <tr>\n",
       "      <th>Message to Love: The Isle of Wight Festival (1996)</th>\n",
       "      <td>5.0</td>\n",
       "    </tr>\n",
       "    <tr>\n",
       "      <th>Identification of a Woman (Identificazione di una donna) (1982)</th>\n",
       "      <td>5.0</td>\n",
       "    </tr>\n",
       "    <tr>\n",
       "      <th>Late Bloomers (1996)</th>\n",
       "      <td>5.0</td>\n",
       "    </tr>\n",
       "  </tbody>\n",
       "</table>\n",
       "</div>"
      ],
      "text/plain": [
       "                                                    counts\n",
       "title                                                     \n",
       "Ulysses (Ulisse) (1954)                                5.0\n",
       "Country Life (1994)                                    5.0\n",
       "Schlafes Bruder (Brother of Sleep) (1995)              5.0\n",
       "Foreign Student (1994)                                 5.0\n",
       "Follow the Bitch (1998)                                5.0\n",
       "One Little Indian (1973)                               5.0\n",
       "Criminal Lovers (Les Amants Criminels) (1999)          5.0\n",
       "Message to Love: The Isle of Wight Festival (1996)     5.0\n",
       "Identification of a Woman (Identificazione di u...     5.0\n",
       "Late Bloomers (1996)                                   5.0"
      ]
     },
     "execution_count": 15,
     "metadata": {},
     "output_type": "execute_result"
    }
   ],
   "source": [
    "movie_mean_count = pd.DataFrame(df_merge.groupby('title')['counts'].mean())\n",
    "movie_mean_count.sort_values(by='counts',ascending=False).head(10)"
   ]
  },
  {
   "cell_type": "markdown",
   "id": "586548e9",
   "metadata": {},
   "source": [
    "## 유저별 시청한 영화개수"
   ]
  },
  {
   "cell_type": "code",
   "execution_count": 16,
   "id": "ecb9e7b2",
   "metadata": {},
   "outputs": [
    {
     "data": {
      "text/plain": [
       "user_id\n",
       "4169    1968\n",
       "4277    1715\n",
       "1680    1515\n",
       "3618    1146\n",
       "1015    1145\n",
       "5831    1136\n",
       "2909    1119\n",
       "1941    1116\n",
       "424     1106\n",
       "1980    1054\n",
       "Name: counts, dtype: int64"
      ]
     },
     "execution_count": 16,
     "metadata": {},
     "output_type": "execute_result"
    }
   ],
   "source": [
    "user_movie_count = df_merge.groupby('user_id')['counts'].count()\n",
    "user_movie_count.sort_values(ascending=False).head(10)"
   ]
  },
  {
   "cell_type": "code",
   "execution_count": 17,
   "id": "8523d678",
   "metadata": {
    "scrolled": false
   },
   "outputs": [
    {
     "data": {
      "image/png": "[encoded data removed]",
      "text/plain": [
       "<Figure size 1296x504 with 1 Axes>"
      ]
     },
     "metadata": {
      "needs_background": "light"
     },
     "output_type": "display_data"
    }
   ],
   "source": [
    "plt.figure(figsize=(18,7))\n",
    "sns.distplot(user_movie_count, bins=150, kde=False);"
   ]
  },
  {
   "cell_type": "markdown",
   "id": "0fa876f0",
   "metadata": {},
   "source": [
    "## 영화를 1000개 이상본 유저 수\n",
    "* 인생이 영화인 사람들인가???....(단순궁금증...)"
   ]
  },
  {
   "cell_type": "code",
   "execution_count": 18,
   "id": "522856f4",
   "metadata": {},
   "outputs": [
    {
     "data": {
      "text/plain": [
       "15"
      ]
     },
     "execution_count": 18,
     "metadata": {},
     "output_type": "execute_result"
    }
   ],
   "source": [
    "user_movie_count[user_movie_count>1000].count()"
   ]
  },
  {
   "cell_type": "markdown",
   "id": "2f00a8c7",
   "metadata": {},
   "source": [
    "## 유저별 영화 시청횟수"
   ]
  },
  {
   "cell_type": "code",
   "execution_count": 19,
   "id": "1da999c2",
   "metadata": {},
   "outputs": [
    {
     "data": {
      "text/plain": [
       "user_id\n",
       "4169    7590\n",
       "4277    7151\n",
       "1680    6059\n",
       "2909    4570\n",
       "1015    4537\n",
       "424     4366\n",
       "3032    4336\n",
       "5831    4330\n",
       "1285    4279\n",
       "3539    4259\n",
       "Name: counts, dtype: int64"
      ]
     },
     "execution_count": 19,
     "metadata": {},
     "output_type": "execute_result"
    }
   ],
   "source": [
    "user_count = df_merge.groupby('user_id')['counts'].sum()\n",
    "user_count.sort_values(ascending=False).head(10)"
   ]
  },
  {
   "cell_type": "code",
   "execution_count": 20,
   "id": "118baffc",
   "metadata": {},
   "outputs": [
    {
     "data": {
      "image/png": "[encoded data removed]",
      "text/plain": [
       "<Figure size 1296x504 with 1 Axes>"
      ]
     },
     "metadata": {
      "needs_background": "light"
     },
     "output_type": "display_data"
    }
   ],
   "source": [
    "plt.figure(figsize=(18,7))\n",
    "sns.distplot(user_count, bins=150, kde=False);"
   ]
  },
  {
   "cell_type": "markdown",
   "id": "035d7197",
   "metadata": {},
   "source": [
    "## 유저별 평균 영화 시청횟수"
   ]
  },
  {
   "cell_type": "code",
   "execution_count": 21,
   "id": "50c27625",
   "metadata": {},
   "outputs": [
    {
     "data": {
      "text/plain": [
       "user_id\n",
       "46      5.000000\n",
       "283     4.962963\n",
       "2339    4.956522\n",
       "3902    4.914634\n",
       "3324    4.904762\n",
       "932     4.882353\n",
       "4504    4.850000\n",
       "446     4.843137\n",
       "4634    4.841584\n",
       "447     4.837838\n",
       "Name: counts, dtype: float64"
      ]
     },
     "execution_count": 21,
     "metadata": {},
     "output_type": "execute_result"
    }
   ],
   "source": [
    "user_mean_count = df_merge.groupby('user_id')['counts'].mean()\n",
    "user_mean_count.sort_values(ascending=False).head(10)"
   ]
  },
  {
   "cell_type": "code",
   "execution_count": 22,
   "id": "48f872db",
   "metadata": {},
   "outputs": [
    {
     "data": {
      "image/png": "[encoded data removed]",
      "text/plain": [
       "<Figure size 1296x504 with 1 Axes>"
      ]
     },
     "metadata": {
      "needs_background": "light"
     },
     "output_type": "display_data"
    }
   ],
   "source": [
    "plt.figure(figsize=(18,7))\n",
    "sns.distplot(user_mean_count, bins=150);"
   ]
  },
  {
   "cell_type": "code",
   "execution_count": 23,
   "id": "2e43c623",
   "metadata": {},
   "outputs": [
    {
     "data": {
      "text/html": [
       "<div>\n",
       "<style scoped>\n",
       "    .dataframe tbody tr th:only-of-type {\n",
       "        vertical-align: middle;\n",
       "    }\n",
       "\n",
       "    .dataframe tbody tr th {\n",
       "        vertical-align: top;\n",
       "    }\n",
       "\n",
       "    .dataframe thead th {\n",
       "        text-align: right;\n",
       "    }\n",
       "</style>\n",
       "<table border=\"1\" class=\"dataframe\">\n",
       "  <thead>\n",
       "    <tr style=\"text-align: right;\">\n",
       "      <th></th>\n",
       "      <th>user_id</th>\n",
       "      <th>movie_id</th>\n",
       "      <th>counts</th>\n",
       "      <th>title</th>\n",
       "      <th>genre</th>\n",
       "      <th>genre_1</th>\n",
       "      <th>genre_2</th>\n",
       "      <th>genre_3</th>\n",
       "      <th>genre_4</th>\n",
       "      <th>genre_5</th>\n",
       "      <th>genre_6</th>\n",
       "    </tr>\n",
       "  </thead>\n",
       "  <tbody>\n",
       "    <tr>\n",
       "      <th>579385</th>\n",
       "      <td>4169</td>\n",
       "      <td>3789</td>\n",
       "      <td>5</td>\n",
       "      <td>Pawnbroker, The (1965)</td>\n",
       "      <td>Drama</td>\n",
       "      <td>Drama</td>\n",
       "      <td>None</td>\n",
       "      <td>None</td>\n",
       "      <td>None</td>\n",
       "      <td>None</td>\n",
       "      <td>None</td>\n",
       "    </tr>\n",
       "    <tr>\n",
       "      <th>579386</th>\n",
       "      <td>4169</td>\n",
       "      <td>571</td>\n",
       "      <td>4</td>\n",
       "      <td>Wedding Gift, The (1994)</td>\n",
       "      <td>Drama</td>\n",
       "      <td>Drama</td>\n",
       "      <td>None</td>\n",
       "      <td>None</td>\n",
       "      <td>None</td>\n",
       "      <td>None</td>\n",
       "      <td>None</td>\n",
       "    </tr>\n",
       "    <tr>\n",
       "      <th>579387</th>\n",
       "      <td>4169</td>\n",
       "      <td>574</td>\n",
       "      <td>3</td>\n",
       "      <td>Spanking the Monkey (1994)</td>\n",
       "      <td>Comedy|Drama</td>\n",
       "      <td>Comedy</td>\n",
       "      <td>Drama</td>\n",
       "      <td>None</td>\n",
       "      <td>None</td>\n",
       "      <td>None</td>\n",
       "      <td>None</td>\n",
       "    </tr>\n",
       "    <tr>\n",
       "      <th>579388</th>\n",
       "      <td>4169</td>\n",
       "      <td>575</td>\n",
       "      <td>3</td>\n",
       "      <td>Little Rascals, The (1994)</td>\n",
       "      <td>Children's|Comedy</td>\n",
       "      <td>Children's</td>\n",
       "      <td>Comedy</td>\n",
       "      <td>None</td>\n",
       "      <td>None</td>\n",
       "      <td>None</td>\n",
       "      <td>None</td>\n",
       "    </tr>\n",
       "    <tr>\n",
       "      <th>579389</th>\n",
       "      <td>4169</td>\n",
       "      <td>577</td>\n",
       "      <td>3</td>\n",
       "      <td>Andre (1994)</td>\n",
       "      <td>Adventure|Children's</td>\n",
       "      <td>Adventure</td>\n",
       "      <td>Children's</td>\n",
       "      <td>None</td>\n",
       "      <td>None</td>\n",
       "      <td>None</td>\n",
       "      <td>None</td>\n",
       "    </tr>\n",
       "    <tr>\n",
       "      <th>...</th>\n",
       "      <td>...</td>\n",
       "      <td>...</td>\n",
       "      <td>...</td>\n",
       "      <td>...</td>\n",
       "      <td>...</td>\n",
       "      <td>...</td>\n",
       "      <td>...</td>\n",
       "      <td>...</td>\n",
       "      <td>...</td>\n",
       "      <td>...</td>\n",
       "      <td>...</td>\n",
       "    </tr>\n",
       "    <tr>\n",
       "      <th>581348</th>\n",
       "      <td>4169</td>\n",
       "      <td>2044</td>\n",
       "      <td>3</td>\n",
       "      <td>Devil and Max Devlin, The (1981)</td>\n",
       "      <td>Comedy</td>\n",
       "      <td>Comedy</td>\n",
       "      <td>None</td>\n",
       "      <td>None</td>\n",
       "      <td>None</td>\n",
       "      <td>None</td>\n",
       "      <td>None</td>\n",
       "    </tr>\n",
       "    <tr>\n",
       "      <th>581349</th>\n",
       "      <td>4169</td>\n",
       "      <td>3785</td>\n",
       "      <td>3</td>\n",
       "      <td>Scary Movie (2000)</td>\n",
       "      <td>Comedy|Horror</td>\n",
       "      <td>Comedy</td>\n",
       "      <td>Horror</td>\n",
       "      <td>None</td>\n",
       "      <td>None</td>\n",
       "      <td>None</td>\n",
       "      <td>None</td>\n",
       "    </tr>\n",
       "    <tr>\n",
       "      <th>581350</th>\n",
       "      <td>4169</td>\n",
       "      <td>2047</td>\n",
       "      <td>3</td>\n",
       "      <td>Gnome-Mobile, The (1967)</td>\n",
       "      <td>Children's</td>\n",
       "      <td>Children's</td>\n",
       "      <td>None</td>\n",
       "      <td>None</td>\n",
       "      <td>None</td>\n",
       "      <td>None</td>\n",
       "      <td>None</td>\n",
       "    </tr>\n",
       "    <tr>\n",
       "      <th>581351</th>\n",
       "      <td>4169</td>\n",
       "      <td>3788</td>\n",
       "      <td>3</td>\n",
       "      <td>Blowup (1966)</td>\n",
       "      <td>Drama|Mystery</td>\n",
       "      <td>Drama</td>\n",
       "      <td>Mystery</td>\n",
       "      <td>None</td>\n",
       "      <td>None</td>\n",
       "      <td>None</td>\n",
       "      <td>None</td>\n",
       "    </tr>\n",
       "    <tr>\n",
       "      <th>581352</th>\n",
       "      <td>4169</td>\n",
       "      <td>2049</td>\n",
       "      <td>3</td>\n",
       "      <td>Happiest Millionaire, The (1967)</td>\n",
       "      <td>Comedy|Musical</td>\n",
       "      <td>Comedy</td>\n",
       "      <td>Musical</td>\n",
       "      <td>None</td>\n",
       "      <td>None</td>\n",
       "      <td>None</td>\n",
       "      <td>None</td>\n",
       "    </tr>\n",
       "  </tbody>\n",
       "</table>\n",
       "<p>1968 rows × 11 columns</p>\n",
       "</div>"
      ],
      "text/plain": [
       "        user_id  movie_id  counts                             title  \\\n",
       "579385     4169      3789       5            Pawnbroker, The (1965)   \n",
       "579386     4169       571       4          Wedding Gift, The (1994)   \n",
       "579387     4169       574       3        Spanking the Monkey (1994)   \n",
       "579388     4169       575       3        Little Rascals, The (1994)   \n",
       "579389     4169       577       3                      Andre (1994)   \n",
       "...         ...       ...     ...                               ...   \n",
       "581348     4169      2044       3  Devil and Max Devlin, The (1981)   \n",
       "581349     4169      3785       3                Scary Movie (2000)   \n",
       "581350     4169      2047       3          Gnome-Mobile, The (1967)   \n",
       "581351     4169      3788       3                     Blowup (1966)   \n",
       "581352     4169      2049       3  Happiest Millionaire, The (1967)   \n",
       "\n",
       "                       genre     genre_1     genre_2 genre_3 genre_4 genre_5  \\\n",
       "579385                 Drama       Drama        None    None    None    None   \n",
       "579386                 Drama       Drama        None    None    None    None   \n",
       "579387          Comedy|Drama      Comedy       Drama    None    None    None   \n",
       "579388     Children's|Comedy  Children's      Comedy    None    None    None   \n",
       "579389  Adventure|Children's   Adventure  Children's    None    None    None   \n",
       "...                      ...         ...         ...     ...     ...     ...   \n",
       "581348                Comedy      Comedy        None    None    None    None   \n",
       "581349         Comedy|Horror      Comedy      Horror    None    None    None   \n",
       "581350            Children's  Children's        None    None    None    None   \n",
       "581351         Drama|Mystery       Drama     Mystery    None    None    None   \n",
       "581352        Comedy|Musical      Comedy     Musical    None    None    None   \n",
       "\n",
       "       genre_6  \n",
       "579385    None  \n",
       "579386    None  \n",
       "579387    None  \n",
       "579388    None  \n",
       "579389    None  \n",
       "...        ...  \n",
       "581348    None  \n",
       "581349    None  \n",
       "581350    None  \n",
       "581351    None  \n",
       "581352    None  \n",
       "\n",
       "[1968 rows x 11 columns]"
      ]
     },
     "execution_count": 23,
     "metadata": {},
     "output_type": "execute_result"
    }
   ],
   "source": [
    "df_merge[df_merge['user_id']==4169]"
   ]
  },
  {
   "cell_type": "markdown",
   "id": "48b948c8",
   "metadata": {},
   "source": [
    "## 장르 수 확인"
   ]
  },
  {
   "cell_type": "code",
   "execution_count": 24,
   "id": "8b92dc8e",
   "metadata": {},
   "outputs": [
    {
     "name": "stdout",
     "output_type": "stream",
     "text": [
      "number of genre :  18\n"
     ]
    }
   ],
   "source": [
    "# 유니크한 장르 수\n",
    "print('number of genre : ', df_merge['genre_1'].nunique())"
   ]
  },
  {
   "cell_type": "markdown",
   "id": "cee5faa9",
   "metadata": {},
   "source": [
    "## 장르 종류 확인"
   ]
  },
  {
   "cell_type": "code",
   "execution_count": 25,
   "id": "419c2eb2",
   "metadata": {
    "scrolled": true
   },
   "outputs": [
    {
     "data": {
      "text/plain": [
       "array(['Drama', 'Animation', 'Musical', 'Action', 'Comedy', 'Adventure',\n",
       "       'Romance', \"Children's\", 'Thriller', 'Crime', 'Western',\n",
       "       'Documentary', 'Mystery', 'Horror', 'Sci-Fi', 'Film-Noir', 'War',\n",
       "       'Fantasy'], dtype=object)"
      ]
     },
     "execution_count": 25,
     "metadata": {},
     "output_type": "execute_result"
    }
   ],
   "source": [
    "# 장르의 종류\n",
    "df_merge['genre_1'].unique()"
   ]
  },
  {
   "cell_type": "markdown",
   "id": "183c61be",
   "metadata": {},
   "source": [
    "## 장르별 선호비율 확인"
   ]
  },
  {
   "cell_type": "code",
   "execution_count": 26,
   "id": "7c127505",
   "metadata": {},
   "outputs": [
    {
     "data": {
      "text/plain": [
       "{'Documentary': 7162,\n",
       " 'Film-Noir': 17166,\n",
       " 'Western': 17668,\n",
       " 'Fantasy': 29205,\n",
       " 'Mystery': 34417,\n",
       " 'Musical': 35661,\n",
       " 'Animation': 37609,\n",
       " 'Horror': 55488,\n",
       " \"Children's\": 57674,\n",
       " 'War': 61226,\n",
       " 'Crime': 68889,\n",
       " 'Adventure': 108818,\n",
       " 'Romance': 125927,\n",
       " 'Sci-Fi': 126089,\n",
       " 'Thriller': 158343,\n",
       " 'Action': 209494,\n",
       " 'Comedy': 293891,\n",
       " 'Drama': 313261}"
      ]
     },
     "execution_count": 26,
     "metadata": {},
     "output_type": "execute_result"
    }
   ],
   "source": [
    "# count 하기위해 defaultdict 생성\n",
    "from collections import defaultdict\n",
    "import operator\n",
    "\n",
    "genre_dict = defaultdict(int)\n",
    "\n",
    " # 각 장르 컬럼에 있는 값의 갯수를 모두 더함\n",
    "for i in range(6):  \n",
    "    genre_count = df_merge.groupby(f'genre_{i+1}')['user_id'].count()\n",
    "    for name in genre_count.index:\n",
    "        genre_dict[name] += genre_count[name]\n",
    "\n",
    "genre_dict= dict(sorted(genre_dict.items(), key=operator.itemgetter(1)))\n",
    "genre_dict"
   ]
  },
  {
   "cell_type": "code",
   "execution_count": 27,
   "id": "9f76254f",
   "metadata": {},
   "outputs": [
    {
     "data": {
      "image/png": "[encoded data removed]",
      "text/plain": [
       "<Figure size 1080x1080 with 1 Axes>"
      ]
     },
     "metadata": {},
     "output_type": "display_data"
    }
   ],
   "source": [
    "ratio = list(genre_dict.values())\n",
    "labels = list(genre_dict.keys())\n",
    "\n",
    "plt.figure(figsize = (15, 15))\n",
    "plt.pie(ratio, labels=labels, autopct='%.2f%%')\n",
    "plt.show()"
   ]
  },
  {
   "cell_type": "markdown",
   "id": "bdc3851f",
   "metadata": {},
   "source": [
    "# 3. 선호하는 영화 추가(모델 검증을 위한 사용자 초기 정보 세팅)\n",
    "\n",
    "유튜브 뮤직 등 추천 시스템들은 이를 위해서 처음 가입하는 사용자의 취향과 유사한 아티스트 정보를 5개 이상 입력받는 과정을 거치게 하는 경우가 많은데, 동일한 과정이 필요하다."
   ]
  },
  {
   "cell_type": "markdown",
   "id": "5b3a89ce",
   "metadata": {},
   "source": [
    "## 선호하는 영화 검색\n",
    "제목 검색을 위한 함수 `movie_search`를 정의한다."
   ]
  },
  {
   "cell_type": "code",
   "execution_count": 28,
   "id": "a368196c",
   "metadata": {},
   "outputs": [],
   "source": [
    "# 제목 검색을 위해 모두 소문자로 바꿔서 검색하는 함수 생성\n",
    "def movie_search(name):\n",
    "    return movies[movies['title'].str.lower().str.contains(name, regex=False)]"
   ]
  },
  {
   "cell_type": "code",
   "execution_count": 29,
   "id": "642c0b8a",
   "metadata": {},
   "outputs": [
    {
     "data": {
      "text/html": [
       "<div>\n",
       "<style scoped>\n",
       "    .dataframe tbody tr th:only-of-type {\n",
       "        vertical-align: middle;\n",
       "    }\n",
       "\n",
       "    .dataframe tbody tr th {\n",
       "        vertical-align: top;\n",
       "    }\n",
       "\n",
       "    .dataframe thead th {\n",
       "        text-align: right;\n",
       "    }\n",
       "</style>\n",
       "<table border=\"1\" class=\"dataframe\">\n",
       "  <thead>\n",
       "    <tr style=\"text-align: right;\">\n",
       "      <th></th>\n",
       "      <th>movie_id</th>\n",
       "      <th>title</th>\n",
       "      <th>genre</th>\n",
       "    </tr>\n",
       "  </thead>\n",
       "  <tbody>\n",
       "    <tr>\n",
       "      <th>315</th>\n",
       "      <td>318</td>\n",
       "      <td>Shawshank Redemption, The (1994)</td>\n",
       "      <td>Drama</td>\n",
       "    </tr>\n",
       "  </tbody>\n",
       "</table>\n",
       "</div>"
      ],
      "text/plain": [
       "     movie_id                             title  genre\n",
       "315       318  Shawshank Redemption, The (1994)  Drama"
      ]
     },
     "execution_count": 29,
     "metadata": {},
     "output_type": "execute_result"
    }
   ],
   "source": [
    "movie_search('shawshank') # 쇼생크 탈출, movie_id : 318"
   ]
  },
  {
   "cell_type": "code",
   "execution_count": 30,
   "id": "15248566",
   "metadata": {},
   "outputs": [
    {
     "data": {
      "text/html": [
       "<div>\n",
       "<style scoped>\n",
       "    .dataframe tbody tr th:only-of-type {\n",
       "        vertical-align: middle;\n",
       "    }\n",
       "\n",
       "    .dataframe tbody tr th {\n",
       "        vertical-align: top;\n",
       "    }\n",
       "\n",
       "    .dataframe thead th {\n",
       "        text-align: right;\n",
       "    }\n",
       "</style>\n",
       "<table border=\"1\" class=\"dataframe\">\n",
       "  <thead>\n",
       "    <tr style=\"text-align: right;\">\n",
       "      <th></th>\n",
       "      <th>movie_id</th>\n",
       "      <th>title</th>\n",
       "      <th>genre</th>\n",
       "    </tr>\n",
       "  </thead>\n",
       "  <tbody>\n",
       "    <tr>\n",
       "      <th>92</th>\n",
       "      <td>94</td>\n",
       "      <td>Beautiful Girls (1996)</td>\n",
       "      <td>Drama</td>\n",
       "    </tr>\n",
       "    <tr>\n",
       "      <th>1033</th>\n",
       "      <td>1046</td>\n",
       "      <td>Beautiful Thing (1996)</td>\n",
       "      <td>Drama|Romance</td>\n",
       "    </tr>\n",
       "    <tr>\n",
       "      <th>2255</th>\n",
       "      <td>2324</td>\n",
       "      <td>Life Is Beautiful (La Vita è bella) (1997)</td>\n",
       "      <td>Comedy|Drama</td>\n",
       "    </tr>\n",
       "    <tr>\n",
       "      <th>3233</th>\n",
       "      <td>3302</td>\n",
       "      <td>Beautiful People (1999)</td>\n",
       "      <td>Comedy</td>\n",
       "    </tr>\n",
       "    <tr>\n",
       "      <th>3842</th>\n",
       "      <td>3912</td>\n",
       "      <td>Beautiful (2000)</td>\n",
       "      <td>Comedy|Drama</td>\n",
       "    </tr>\n",
       "  </tbody>\n",
       "</table>\n",
       "</div>"
      ],
      "text/plain": [
       "      movie_id                                       title          genre\n",
       "92          94                      Beautiful Girls (1996)          Drama\n",
       "1033      1046                      Beautiful Thing (1996)  Drama|Romance\n",
       "2255      2324  Life Is Beautiful (La Vita è bella) (1997)   Comedy|Drama\n",
       "3233      3302                     Beautiful People (1999)         Comedy\n",
       "3842      3912                            Beautiful (2000)   Comedy|Drama"
      ]
     },
     "execution_count": 30,
     "metadata": {},
     "output_type": "execute_result"
    }
   ],
   "source": [
    "movie_search('beautiful') # 인생은 아름다워, movie_id : 2324"
   ]
  },
  {
   "cell_type": "code",
   "execution_count": 31,
   "id": "79d4bd51",
   "metadata": {},
   "outputs": [
    {
     "data": {
      "text/html": [
       "<div>\n",
       "<style scoped>\n",
       "    .dataframe tbody tr th:only-of-type {\n",
       "        vertical-align: middle;\n",
       "    }\n",
       "\n",
       "    .dataframe tbody tr th {\n",
       "        vertical-align: top;\n",
       "    }\n",
       "\n",
       "    .dataframe thead th {\n",
       "        text-align: right;\n",
       "    }\n",
       "</style>\n",
       "<table border=\"1\" class=\"dataframe\">\n",
       "  <thead>\n",
       "    <tr style=\"text-align: right;\">\n",
       "      <th></th>\n",
       "      <th>movie_id</th>\n",
       "      <th>title</th>\n",
       "      <th>genre</th>\n",
       "    </tr>\n",
       "  </thead>\n",
       "  <tbody>\n",
       "    <tr>\n",
       "      <th>1656</th>\n",
       "      <td>1704</td>\n",
       "      <td>Good Will Hunting (1997)</td>\n",
       "      <td>Drama</td>\n",
       "    </tr>\n",
       "  </tbody>\n",
       "</table>\n",
       "</div>"
      ],
      "text/plain": [
       "      movie_id                     title  genre\n",
       "1656      1704  Good Will Hunting (1997)  Drama"
      ]
     },
     "execution_count": 31,
     "metadata": {},
     "output_type": "execute_result"
    }
   ],
   "source": [
    "movie_search('hunting') # 굿윌헌팅, movie_id : 1704"
   ]
  },
  {
   "cell_type": "code",
   "execution_count": 32,
   "id": "b5fb948c",
   "metadata": {},
   "outputs": [
    {
     "data": {
      "text/html": [
       "<div>\n",
       "<style scoped>\n",
       "    .dataframe tbody tr th:only-of-type {\n",
       "        vertical-align: middle;\n",
       "    }\n",
       "\n",
       "    .dataframe tbody tr th {\n",
       "        vertical-align: top;\n",
       "    }\n",
       "\n",
       "    .dataframe thead th {\n",
       "        text-align: right;\n",
       "    }\n",
       "</style>\n",
       "<table border=\"1\" class=\"dataframe\">\n",
       "  <thead>\n",
       "    <tr style=\"text-align: right;\">\n",
       "      <th></th>\n",
       "      <th>movie_id</th>\n",
       "      <th>title</th>\n",
       "      <th>genre</th>\n",
       "    </tr>\n",
       "  </thead>\n",
       "  <tbody>\n",
       "    <tr>\n",
       "      <th>1636</th>\n",
       "      <td>1682</td>\n",
       "      <td>Truman Show, The (1998)</td>\n",
       "      <td>Drama</td>\n",
       "    </tr>\n",
       "  </tbody>\n",
       "</table>\n",
       "</div>"
      ],
      "text/plain": [
       "      movie_id                    title  genre\n",
       "1636      1682  Truman Show, The (1998)  Drama"
      ]
     },
     "execution_count": 32,
     "metadata": {},
     "output_type": "execute_result"
    }
   ],
   "source": [
    "movie_search('truman') # 트루먼쇼, movie_id : 1682"
   ]
  },
  {
   "cell_type": "code",
   "execution_count": 33,
   "id": "a785954f",
   "metadata": {
    "scrolled": true
   },
   "outputs": [
    {
     "data": {
      "text/html": [
       "<div>\n",
       "<style scoped>\n",
       "    .dataframe tbody tr th:only-of-type {\n",
       "        vertical-align: middle;\n",
       "    }\n",
       "\n",
       "    .dataframe tbody tr th {\n",
       "        vertical-align: top;\n",
       "    }\n",
       "\n",
       "    .dataframe thead th {\n",
       "        text-align: right;\n",
       "    }\n",
       "</style>\n",
       "<table border=\"1\" class=\"dataframe\">\n",
       "  <thead>\n",
       "    <tr style=\"text-align: right;\">\n",
       "      <th></th>\n",
       "      <th>movie_id</th>\n",
       "      <th>title</th>\n",
       "      <th>genre</th>\n",
       "    </tr>\n",
       "  </thead>\n",
       "  <tbody>\n",
       "    <tr>\n",
       "      <th>3031</th>\n",
       "      <td>3100</td>\n",
       "      <td>River Runs Through It, A (1992)</td>\n",
       "      <td>Drama</td>\n",
       "    </tr>\n",
       "  </tbody>\n",
       "</table>\n",
       "</div>"
      ],
      "text/plain": [
       "      movie_id                            title  genre\n",
       "3031      3100  River Runs Through It, A (1992)  Drama"
      ]
     },
     "execution_count": 33,
     "metadata": {},
     "output_type": "execute_result"
    }
   ],
   "source": [
    "movie_search('river run') # 흐르는 강물처럼, movie_id : 3100"
   ]
  },
  {
   "cell_type": "markdown",
   "id": "82d41607",
   "metadata": {},
   "source": [
    "## 선호하는 영화 추가\n",
    "\n",
    "추천시스템의 추후 검증을 위해, 데이터셋에 선호하는 영화를 5가지 골라 추가하기 위한 데이터프레임 `df_data`생성 및 데이터 추가"
   ]
  },
  {
   "cell_type": "code",
   "execution_count": 34,
   "id": "f0565f26",
   "metadata": {},
   "outputs": [
    {
     "data": {
      "text/html": [
       "<div>\n",
       "<style scoped>\n",
       "    .dataframe tbody tr th:only-of-type {\n",
       "        vertical-align: middle;\n",
       "    }\n",
       "\n",
       "    .dataframe tbody tr th {\n",
       "        vertical-align: top;\n",
       "    }\n",
       "\n",
       "    .dataframe thead th {\n",
       "        text-align: right;\n",
       "    }\n",
       "</style>\n",
       "<table border=\"1\" class=\"dataframe\">\n",
       "  <thead>\n",
       "    <tr style=\"text-align: right;\">\n",
       "      <th></th>\n",
       "      <th>user_id</th>\n",
       "      <th>title</th>\n",
       "      <th>counts</th>\n",
       "    </tr>\n",
       "  </thead>\n",
       "  <tbody>\n",
       "    <tr>\n",
       "      <th>836473</th>\n",
       "      <td>6040</td>\n",
       "      <td>Platoon (1986)</td>\n",
       "      <td>3</td>\n",
       "    </tr>\n",
       "    <tr>\n",
       "      <th>836474</th>\n",
       "      <td>6040</td>\n",
       "      <td>Crying Game, The (1992)</td>\n",
       "      <td>5</td>\n",
       "    </tr>\n",
       "    <tr>\n",
       "      <th>836475</th>\n",
       "      <td>6040</td>\n",
       "      <td>Welcome to the Dollhouse (1995)</td>\n",
       "      <td>5</td>\n",
       "    </tr>\n",
       "    <tr>\n",
       "      <th>836476</th>\n",
       "      <td>6040</td>\n",
       "      <td>Sophie's Choice (1982)</td>\n",
       "      <td>4</td>\n",
       "    </tr>\n",
       "    <tr>\n",
       "      <th>836477</th>\n",
       "      <td>6040</td>\n",
       "      <td>E.T. the Extra-Terrestrial (1982)</td>\n",
       "      <td>4</td>\n",
       "    </tr>\n",
       "  </tbody>\n",
       "</table>\n",
       "</div>"
      ],
      "text/plain": [
       "        user_id                              title  counts\n",
       "836473     6040                     Platoon (1986)       3\n",
       "836474     6040            Crying Game, The (1992)       5\n",
       "836475     6040    Welcome to the Dollhouse (1995)       5\n",
       "836476     6040             Sophie's Choice (1982)       4\n",
       "836477     6040  E.T. the Extra-Terrestrial (1982)       4"
      ]
     },
     "execution_count": 34,
     "metadata": {},
     "output_type": "execute_result"
    }
   ],
   "source": [
    "df_data = df_merge.copy()\n",
    "df_data = df_data[['user_id','title', 'counts']]\n",
    "df_data.tail()"
   ]
  },
  {
   "cell_type": "code",
   "execution_count": 35,
   "id": "3a7bbda5",
   "metadata": {},
   "outputs": [
    {
     "data": {
      "text/html": [
       "<div>\n",
       "<style scoped>\n",
       "    .dataframe tbody tr th:only-of-type {\n",
       "        vertical-align: middle;\n",
       "    }\n",
       "\n",
       "    .dataframe tbody tr th {\n",
       "        vertical-align: top;\n",
       "    }\n",
       "\n",
       "    .dataframe thead th {\n",
       "        text-align: right;\n",
       "    }\n",
       "</style>\n",
       "<table border=\"1\" class=\"dataframe\">\n",
       "  <thead>\n",
       "    <tr style=\"text-align: right;\">\n",
       "      <th></th>\n",
       "      <th>user_id</th>\n",
       "      <th>title</th>\n",
       "      <th>counts</th>\n",
       "    </tr>\n",
       "  </thead>\n",
       "  <tbody>\n",
       "    <tr>\n",
       "      <th>836473</th>\n",
       "      <td>6040</td>\n",
       "      <td>Platoon (1986)</td>\n",
       "      <td>3</td>\n",
       "    </tr>\n",
       "    <tr>\n",
       "      <th>836474</th>\n",
       "      <td>6040</td>\n",
       "      <td>Crying Game, The (1992)</td>\n",
       "      <td>5</td>\n",
       "    </tr>\n",
       "    <tr>\n",
       "      <th>836475</th>\n",
       "      <td>6040</td>\n",
       "      <td>Welcome to the Dollhouse (1995)</td>\n",
       "      <td>5</td>\n",
       "    </tr>\n",
       "    <tr>\n",
       "      <th>836476</th>\n",
       "      <td>6040</td>\n",
       "      <td>Sophie's Choice (1982)</td>\n",
       "      <td>4</td>\n",
       "    </tr>\n",
       "    <tr>\n",
       "      <th>836477</th>\n",
       "      <td>6040</td>\n",
       "      <td>E.T. the Extra-Terrestrial (1982)</td>\n",
       "      <td>4</td>\n",
       "    </tr>\n",
       "    <tr>\n",
       "      <th>0</th>\n",
       "      <td>benedicto</td>\n",
       "      <td>Shawshank Redemption, The (1994)</td>\n",
       "      <td>5</td>\n",
       "    </tr>\n",
       "    <tr>\n",
       "      <th>1</th>\n",
       "      <td>benedicto</td>\n",
       "      <td>Life Is Beautiful (La Vita è bella) (1997)</td>\n",
       "      <td>5</td>\n",
       "    </tr>\n",
       "    <tr>\n",
       "      <th>2</th>\n",
       "      <td>benedicto</td>\n",
       "      <td>Good Will Hunting (1997)</td>\n",
       "      <td>5</td>\n",
       "    </tr>\n",
       "    <tr>\n",
       "      <th>3</th>\n",
       "      <td>benedicto</td>\n",
       "      <td>Truman Show, The (1998)</td>\n",
       "      <td>5</td>\n",
       "    </tr>\n",
       "    <tr>\n",
       "      <th>4</th>\n",
       "      <td>benedicto</td>\n",
       "      <td>River Runs Through It, A (1992)</td>\n",
       "      <td>5</td>\n",
       "    </tr>\n",
       "  </tbody>\n",
       "</table>\n",
       "</div>"
      ],
      "text/plain": [
       "          user_id                                       title  counts\n",
       "836473       6040                              Platoon (1986)       3\n",
       "836474       6040                     Crying Game, The (1992)       5\n",
       "836475       6040             Welcome to the Dollhouse (1995)       5\n",
       "836476       6040                      Sophie's Choice (1982)       4\n",
       "836477       6040           E.T. the Extra-Terrestrial (1982)       4\n",
       "0       benedicto            Shawshank Redemption, The (1994)       5\n",
       "1       benedicto  Life Is Beautiful (La Vita è bella) (1997)       5\n",
       "2       benedicto                    Good Will Hunting (1997)       5\n",
       "3       benedicto                     Truman Show, The (1998)       5\n",
       "4       benedicto             River Runs Through It, A (1992)       5"
      ]
     },
     "execution_count": 35,
     "metadata": {},
     "output_type": "execute_result"
    }
   ],
   "source": [
    "# 내가 선호하는 영화 리스트\n",
    "my_favorite = {'Shawshank Redemption, The (1994)': 318, \n",
    "               'Life Is Beautiful (La Vita è bella) (1997)': 2324,\n",
    "               'Good Will Hunting (1997)': 1704,\n",
    "               'Truman Show, The (1998)' : 1682,\n",
    "               'River Runs Through It, A (1992)': 3100 }\n",
    "\n",
    "# 'benedicto(museong)' 이라는 user_id가 위 영화를 5회 시청했다고 가정\n",
    "my_favorite_df = pd.DataFrame({'user_id': ['benedicto']*5, 'title': list(my_favorite.keys()), 'counts':[5]*5})\n",
    "\n",
    "if not df_data.isin({'user_id':['jaejun']})['user_id'].any():  # user_id에 'benedicto' 이라는 데이터가 없다면\n",
    "    df_data = df_data.append(my_favorite_df)                   # 위에 임의로 만든 my_favorite 데이터를 추가 \n",
    "\n",
    "df_data.tail(10)       # 잘 추가되었는지 확인"
   ]
  },
  {
   "cell_type": "markdown",
   "id": "794e0b42",
   "metadata": {},
   "source": [
    "# 4. CSR Matrix 생성\n",
    "\n",
    "## 모델 활용위한 indexing 작업\n",
    "* `df_data`의 `user_id`와 `title` 컬럼 내 값들이 모두 정수 인덱스 값으로 변경"
   ]
  },
  {
   "cell_type": "code",
   "execution_count": 36,
   "id": "a376cfb4",
   "metadata": {},
   "outputs": [
    {
     "name": "stdout",
     "output_type": "stream",
     "text": [
      "6039\n"
     ]
    }
   ],
   "source": [
    "# 고유한 유저, 타이틀를 찾아내는 코드\n",
    "user_unique = df_data['user_id'].unique()\n",
    "title_unique = df_data['title'].unique()\n",
    "\n",
    "# 유저,타이틀 indexing 하는 코드 \n",
    "user_to_idx = {v:k for k,v in enumerate(user_unique)}\n",
    "title_to_idx = {v:k for k,v in enumerate(title_unique)}\n",
    "\n",
    "# 인덱싱이 잘 되었는지 확인\n",
    "print(user_to_idx['benedicto'])    # 6040명의 유저 중 마지막으로 추가된 유저이니 6039이 나와야 함"
   ]
  },
  {
   "cell_type": "code",
   "execution_count": 37,
   "id": "b0b528a7",
   "metadata": {},
   "outputs": [
    {
     "name": "stdout",
     "output_type": "stream",
     "text": [
      "user_id column indexing OK!!\n",
      "title column indexing OK!!\n"
     ]
    },
    {
     "data": {
      "text/html": [
       "<div>\n",
       "<style scoped>\n",
       "    .dataframe tbody tr th:only-of-type {\n",
       "        vertical-align: middle;\n",
       "    }\n",
       "\n",
       "    .dataframe tbody tr th {\n",
       "        vertical-align: top;\n",
       "    }\n",
       "\n",
       "    .dataframe thead th {\n",
       "        text-align: right;\n",
       "    }\n",
       "</style>\n",
       "<table border=\"1\" class=\"dataframe\">\n",
       "  <thead>\n",
       "    <tr style=\"text-align: right;\">\n",
       "      <th></th>\n",
       "      <th>user_id</th>\n",
       "      <th>title</th>\n",
       "      <th>counts</th>\n",
       "    </tr>\n",
       "  </thead>\n",
       "  <tbody>\n",
       "    <tr>\n",
       "      <th>0</th>\n",
       "      <td>0</td>\n",
       "      <td>0</td>\n",
       "      <td>5</td>\n",
       "    </tr>\n",
       "    <tr>\n",
       "      <th>1</th>\n",
       "      <td>0</td>\n",
       "      <td>1</td>\n",
       "      <td>3</td>\n",
       "    </tr>\n",
       "    <tr>\n",
       "      <th>2</th>\n",
       "      <td>0</td>\n",
       "      <td>2</td>\n",
       "      <td>3</td>\n",
       "    </tr>\n",
       "    <tr>\n",
       "      <th>3</th>\n",
       "      <td>0</td>\n",
       "      <td>3</td>\n",
       "      <td>4</td>\n",
       "    </tr>\n",
       "    <tr>\n",
       "      <th>4</th>\n",
       "      <td>0</td>\n",
       "      <td>4</td>\n",
       "      <td>5</td>\n",
       "    </tr>\n",
       "    <tr>\n",
       "      <th>...</th>\n",
       "      <td>...</td>\n",
       "      <td>...</td>\n",
       "      <td>...</td>\n",
       "    </tr>\n",
       "    <tr>\n",
       "      <th>0</th>\n",
       "      <td>6039</td>\n",
       "      <td>157</td>\n",
       "      <td>5</td>\n",
       "    </tr>\n",
       "    <tr>\n",
       "      <th>1</th>\n",
       "      <td>6039</td>\n",
       "      <td>450</td>\n",
       "      <td>5</td>\n",
       "    </tr>\n",
       "    <tr>\n",
       "      <th>2</th>\n",
       "      <td>6039</td>\n",
       "      <td>248</td>\n",
       "      <td>5</td>\n",
       "    </tr>\n",
       "    <tr>\n",
       "      <th>3</th>\n",
       "      <td>6039</td>\n",
       "      <td>385</td>\n",
       "      <td>5</td>\n",
       "    </tr>\n",
       "    <tr>\n",
       "      <th>4</th>\n",
       "      <td>6039</td>\n",
       "      <td>556</td>\n",
       "      <td>5</td>\n",
       "    </tr>\n",
       "  </tbody>\n",
       "</table>\n",
       "<p>836483 rows × 3 columns</p>\n",
       "</div>"
      ],
      "text/plain": [
       "    user_id  title  counts\n",
       "0         0      0       5\n",
       "1         0      1       3\n",
       "2         0      2       3\n",
       "3         0      3       4\n",
       "4         0      4       5\n",
       "..      ...    ...     ...\n",
       "0      6039    157       5\n",
       "1      6039    450       5\n",
       "2      6039    248       5\n",
       "3      6039    385       5\n",
       "4      6039    556       5\n",
       "\n",
       "[836483 rows x 3 columns]"
      ]
     },
     "execution_count": 37,
     "metadata": {},
     "output_type": "execute_result"
    }
   ],
   "source": [
    "# indexing을 통해 데이터 컬럼 내 값을 바꾸는 코드\n",
    "\n",
    "# user_to_idx.get을 통해 user_id 컬럼의 모든 값을 인덱싱한 Series를 구해 봅시다. \n",
    "# 혹시 정상적으로 인덱싱되지 않은 row가 있다면 인덱스가 NaN이 될 테니 dropna()로 제거합니다. \n",
    "temp_user_data = df_data['user_id'].map(user_to_idx.get).dropna()\n",
    "if len(temp_user_data) == len(df_data):   # 모든 row가 정상적으로 인덱싱되었다면\n",
    "    print('user_id column indexing OK!!')\n",
    "    df_data['user_id'] = temp_user_data   # data['user_id']을 인덱싱된 Series로 교체해 줍니다. \n",
    "else:\n",
    "    print('user_id column indexing Fail!!')\n",
    "    \n",
    "# temp_title_data을 통해 title 컬럼도 동일한 방식으로 인덱싱해 줍니다. \n",
    "temp_title_data = df_data['title'].map(title_to_idx.get).dropna()\n",
    "if len(temp_title_data) == len(df_data):\n",
    "    print('title column indexing OK!!')\n",
    "    df_data['title'] = temp_title_data\n",
    "else:\n",
    "    print('title column indexing Fail!!')\n",
    "\n",
    "df_data"
   ]
  },
  {
   "cell_type": "markdown",
   "id": "6d824809",
   "metadata": {},
   "source": [
    "# 4. CSR(Compressed Sparse Row) Matrix 생성\n",
    "* CSR Matrix는 Sparse한 matrix에서 0이 아닌 유효한 데이터로 채워지는 데이터의 값과 좌표 정보만으로 구성하여 메모리 사용량을 최소화하면서도 Sparse한 matrix와 동일한 행렬을 표현할 수 있도록 하는 데이터 구조\n",
    "* CSR Matrix는 data, indices, indptr 로 행렬을 압축하여 표현"
   ]
  },
  {
   "cell_type": "code",
   "execution_count": 38,
   "id": "bb66689c",
   "metadata": {},
   "outputs": [
    {
     "data": {
      "text/plain": [
       "<6040x3628 sparse matrix of type '<class 'numpy.int64'>'\n",
       "\twith 836483 stored elements in Compressed Sparse Row format>"
      ]
     },
     "execution_count": 38,
     "metadata": {},
     "output_type": "execute_result"
    }
   ],
   "source": [
    "from scipy.sparse import csr_matrix\n",
    "\n",
    "num_user = df_data['user_id'].nunique()\n",
    "num_movie = df_data['title'].nunique()\n",
    "\n",
    "csr_data = csr_matrix((df_data['counts'], (df_data.user_id, df_data.title)), shape=(num_user, num_movie))\n",
    "csr_data"
   ]
  },
  {
   "cell_type": "markdown",
   "id": "dc758023",
   "metadata": {},
   "source": [
    "# 5. AlternatingLeastSquares 모델 구성 및 훈련"
   ]
  },
  {
   "cell_type": "markdown",
   "id": "13c5d94d",
   "metadata": {},
   "source": [
    "## 모델 구성"
   ]
  },
  {
   "cell_type": "code",
   "execution_count": 39,
   "id": "a1e4bb51",
   "metadata": {},
   "outputs": [],
   "source": [
    "from implicit.als import AlternatingLeastSquares\n",
    "import os\n",
    "import numpy as np\n",
    "\n",
    "# implicit 라이브러리에서 권장하고 있는 부분입니다. 학습 내용과는 무관\n",
    "os.environ['OPENBLAS_NUM_THREADS']='1'\n",
    "os.environ['KMP_DUPLICATE_LIB_OK']='True'\n",
    "os.environ['MKL_NUM_THREADS']='1'"
   ]
  },
  {
   "cell_type": "code",
   "execution_count": 40,
   "id": "9cc2c6fe",
   "metadata": {},
   "outputs": [],
   "source": [
    "# Implicit AlternatingLeastSquares 모델의 선언\n",
    "als_model = AlternatingLeastSquares(factors=100, \n",
    "                                    regularization=0.01, \n",
    "                                    use_gpu=False, \n",
    "                                    iterations=15, \n",
    "                                    dtype=np.float32)"
   ]
  },
  {
   "cell_type": "markdown",
   "id": "65df3b22",
   "metadata": {},
   "source": [
    "AlternatingLeastSquares 클래스의 `__init__` 파라미터\n",
    "\n",
    "1. `factors` : 유저와 아이템의 벡터를 몇 차원으로 할 것인지\n",
    "2. `regularization` : 과적합을 방지하기 위해 정규화 값을 얼마나 사용할 것인지\n",
    "3. `use_gpu` : GPU를 사용할 것인지\n",
    "4. `iterations` : epochs와 같은 의미입니다. 데이터를 몇 번 반복해서 학습할 것인지"
   ]
  },
  {
   "cell_type": "code",
   "execution_count": 41,
   "id": "6136070b",
   "metadata": {},
   "outputs": [
    {
     "data": {
      "text/plain": [
       "<3628x6040 sparse matrix of type '<class 'numpy.int64'>'\n",
       "\twith 836483 stored elements in Compressed Sparse Column format>"
      ]
     },
     "execution_count": 41,
     "metadata": {},
     "output_type": "execute_result"
    }
   ],
   "source": [
    "# als 모델은 input으로 (item X user 꼴의 matrix를 받기 때문에 Transpose해줍니다.)\n",
    "csr_data_transpose = csr_data.T\n",
    "csr_data_transpose"
   ]
  },
  {
   "cell_type": "markdown",
   "id": "ae664a41",
   "metadata": {},
   "source": [
    "## 모델 훈련"
   ]
  },
  {
   "cell_type": "code",
   "execution_count": 42,
   "id": "e81ddc2d",
   "metadata": {},
   "outputs": [
    {
     "data": {
      "application/vnd.jupyter.widget-view+json": {
       "model_id": "f9cd0ce8de2544c885cfbbd349925794",
       "version_major": 2,
       "version_minor": 0
      },
      "text/plain": [
       "  0%|          | 0/15 [00:00<?, ?it/s]"
      ]
     },
     "metadata": {},
     "output_type": "display_data"
    }
   ],
   "source": [
    "# 모델 훈련\n",
    "als_model.fit(csr_data_transpose)"
   ]
  },
  {
   "cell_type": "markdown",
   "id": "df1a202d",
   "metadata": {},
   "source": [
    "# 6. 선호도 파악\n",
    "\n",
    "## 내가 좋아하는 영화 선호도\n",
    "내가 선호하는 5가지 영화 중 하나와 그 외의 영화 하나를 골라 훈련된 모델이 예측한 나의 선호도를 파악해보자."
   ]
  },
  {
   "cell_type": "code",
   "execution_count": 43,
   "id": "f910b359",
   "metadata": {},
   "outputs": [],
   "source": [
    "benedicto, shawshank = user_to_idx['benedicto'], title_to_idx['Shawshank Redemption, The (1994)']\n",
    "benedicto_vector, shawshank = als_model.user_factors[benedicto], als_model.item_factors[shawshank]"
   ]
  },
  {
   "cell_type": "code",
   "execution_count": 44,
   "id": "e17f678b",
   "metadata": {},
   "outputs": [
    {
     "data": {
      "text/plain": [
       "0.5329629"
      ]
     },
     "execution_count": 44,
     "metadata": {},
     "output_type": "execute_result"
    }
   ],
   "source": [
    "np.dot(benedicto_vector, shawshank)"
   ]
  },
  {
   "cell_type": "markdown",
   "id": "f0f12e42",
   "metadata": {},
   "source": [
    "## 내가 좋아하는 5개 영화 중 위와 다른것 선호도"
   ]
  },
  {
   "cell_type": "code",
   "execution_count": 45,
   "id": "aa2bdda8",
   "metadata": {},
   "outputs": [
    {
     "data": {
      "text/plain": [
       "0.03745109"
      ]
     },
     "execution_count": 45,
     "metadata": {},
     "output_type": "execute_result"
    }
   ],
   "source": [
    "star = title_to_idx['Star Wars: Episode IV - A New Hope (1977)']\n",
    "star_vector = als_model.item_factors[star]\n",
    "np.dot(benedicto_vector, star_vector)"
   ]
  },
  {
   "cell_type": "markdown",
   "id": "2393c2a4",
   "metadata": {},
   "source": [
    "# 7. 내가 좋아하는 영화와 비슷한 영화 추천\n",
    "\n",
    "* AlternatingLeastSquares 클래스에 구현되어 있는 `similar_items` 메서드를 통하여 비슷한 영화를 찾는다.\n",
    "* 영화 이름을 입력값으로 받아서 비슷한 영화 5개를 출력해주는 `get_similar_movie` 함수를 정의"
   ]
  },
  {
   "cell_type": "code",
   "execution_count": 46,
   "id": "a7d6689f",
   "metadata": {},
   "outputs": [],
   "source": [
    "# index로부터 artist 이름을 얻는 dict 생성\n",
    "idx_to_title = {v:k for k,v in title_to_idx.items()}\n",
    "\n",
    "def get_similar_movie(movie_name: str):\n",
    "    movie_id = title_to_idx[movie_name]\n",
    "    similar_movie = als_model.similar_items(movie_id, N=5)\n",
    "    similar_movie = [idx_to_title[i[0]] for i in similar_movie]\n",
    "    return similar_movie"
   ]
  },
  {
   "cell_type": "code",
   "execution_count": 47,
   "id": "fafac282",
   "metadata": {},
   "outputs": [
    {
     "data": {
      "text/plain": [
       "['Shawshank Redemption, The (1994)',\n",
       " 'Silence of the Lambs, The (1991)',\n",
       " \"Schindler's List (1993)\",\n",
       " 'Pulp Fiction (1994)',\n",
       " 'Fargo (1996)']"
      ]
     },
     "execution_count": 47,
     "metadata": {},
     "output_type": "execute_result"
    }
   ],
   "source": [
    "# \"쇼생크 탈출\"과 비슷한 영화 추천\n",
    "get_similar_movie('Shawshank Redemption, The (1994)')"
   ]
  },
  {
   "cell_type": "code",
   "execution_count": 48,
   "id": "32b3132f",
   "metadata": {},
   "outputs": [
    {
     "data": {
      "text/plain": [
       "['Life Is Beautiful (La Vita è bella) (1997)',\n",
       " 'Dinner Game, The (Le Dîner de cons) (1998)',\n",
       " 'As Good As It Gets (1997)',\n",
       " 'Smoke Signals (1998)',\n",
       " 'Misérables, Les (1998)']"
      ]
     },
     "execution_count": 48,
     "metadata": {},
     "output_type": "execute_result"
    }
   ],
   "source": [
    "# \"인생은 아름다워\"와 비슷한 영화 추천\n",
    "get_similar_movie('Life Is Beautiful (La Vita è bella) (1997)')"
   ]
  },
  {
   "cell_type": "code",
   "execution_count": 49,
   "id": "5c856ee5",
   "metadata": {},
   "outputs": [
    {
     "data": {
      "text/plain": [
       "['Good Will Hunting (1997)',\n",
       " 'Shawshank Redemption, The (1994)',\n",
       " 'Apollo 13 (1995)',\n",
       " 'Truman Show, The (1998)',\n",
       " 'Dead Man Walking (1995)']"
      ]
     },
     "execution_count": 49,
     "metadata": {},
     "output_type": "execute_result"
    }
   ],
   "source": [
    "# \"굿 윌 헌팅\"과 비슷한 영화 추천\n",
    "get_similar_movie('Good Will Hunting (1997)')"
   ]
  },
  {
   "cell_type": "code",
   "execution_count": 50,
   "id": "370139f5",
   "metadata": {},
   "outputs": [
    {
     "data": {
      "text/plain": [
       "['Truman Show, The (1998)',\n",
       " 'Quiz Show (1994)',\n",
       " 'Apollo 13 (1995)',\n",
       " 'People vs. Larry Flynt, The (1996)',\n",
       " 'Good Will Hunting (1997)']"
      ]
     },
     "execution_count": 50,
     "metadata": {},
     "output_type": "execute_result"
    }
   ],
   "source": [
    "# \"트루먼 쇼\"와 비슷한 영화 추천\n",
    "get_similar_movie('Truman Show, The (1998)')"
   ]
  },
  {
   "cell_type": "code",
   "execution_count": 51,
   "id": "90133c20",
   "metadata": {},
   "outputs": [
    {
     "data": {
      "text/plain": [
       "['River Runs Through It, A (1992)',\n",
       " 'Philadelphia (1993)',\n",
       " 'Fried Green Tomatoes (1991)',\n",
       " 'Scent of a Woman (1992)',\n",
       " \"What's Eating Gilbert Grape (1993)\"]"
      ]
     },
     "execution_count": 51,
     "metadata": {},
     "output_type": "execute_result"
    }
   ],
   "source": [
    "# \"흐르는 강물처럼\"과 비슷한 영화 추천\n",
    "get_similar_movie('River Runs Through It, A (1992)')"
   ]
  },
  {
   "cell_type": "markdown",
   "id": "34283399",
   "metadata": {},
   "source": [
    "# 8. 유저가 좋아하는 영화 추천\n",
    "\n",
    "* AlternatingLeastSquares 클래스에 구현되어 있는 `recommend` 메서드를 통하여 제가 좋아할 만한 아티스트를 추천받는다.\n",
    "* filter_already_liked_items 는 유저가 이미 평가한 아이템은 제외하는 Argument"
   ]
  },
  {
   "cell_type": "code",
   "execution_count": 52,
   "id": "c405bfdc",
   "metadata": {},
   "outputs": [
    {
     "data": {
      "text/plain": [
       "[\"Schindler's List (1993)\",\n",
       " 'Apollo 13 (1995)',\n",
       " 'Saving Private Ryan (1998)',\n",
       " 'Dead Man Walking (1995)',\n",
       " 'Pulp Fiction (1994)',\n",
       " 'October Sky (1999)',\n",
       " 'Silence of the Lambs, The (1991)',\n",
       " 'Awakenings (1990)',\n",
       " 'Fargo (1996)',\n",
       " 'Quiz Show (1994)',\n",
       " 'Jerry Maguire (1996)',\n",
       " 'Sling Blade (1996)',\n",
       " 'GoodFellas (1990)',\n",
       " \"What's Eating Gilbert Grape (1993)\",\n",
       " \"Mr. Holland's Opus (1995)\",\n",
       " 'Elizabeth (1998)',\n",
       " 'Trainspotting (1996)',\n",
       " 'As Good As It Gets (1997)',\n",
       " 'Scent of a Woman (1992)',\n",
       " 'Few Good Men, A (1992)']"
      ]
     },
     "execution_count": 52,
     "metadata": {},
     "output_type": "execute_result"
    }
   ],
   "source": [
    "user = user_to_idx['benedicto']\n",
    "\n",
    "# recommend에서는 user*item CSR Matrix를 받습니다.\n",
    "movie_recommended = als_model.recommend(user, csr_data, N=20, filter_already_liked_items=True)\n",
    "\n",
    "# 인덱스를 영화 이름으로 mapping\n",
    "[idx_to_title[i[0]] for i in movie_recommended]"
   ]
  },
  {
   "cell_type": "markdown",
   "id": "be07a45b",
   "metadata": {},
   "source": [
    "* Schindler's List (1993)를 추천해 주고 있다.\n",
    "* AlternatingLeastSquares 클래스에 구현된 `explain` 메서드를 사용하면 제가 기록을 남긴 데이터 중 이 추천에 기여한 정도를 확인할 수 있다.\n",
    "* 이 method는 추천한 콘텐츠의 점수에 기여한 다른 콘텐츠와 기여도(합이 콘텐츠의 점수가 됩니다.)를 반환한다."
   ]
  },
  {
   "cell_type": "code",
   "execution_count": 53,
   "id": "87bf0dd7",
   "metadata": {},
   "outputs": [
    {
     "data": {
      "text/plain": [
       "[('Shawshank Redemption, The (1994)', 0.31597984756966563),\n",
       " ('Good Will Hunting (1997)', 0.10127878999497586),\n",
       " ('Life Is Beautiful (La Vita è bella) (1997)', 0.058914676043228746),\n",
       " ('River Runs Through It, A (1992)', -0.0015894435965954341),\n",
       " ('Truman Show, The (1998)', -0.02752551678882783)]"
      ]
     },
     "execution_count": 53,
     "metadata": {},
     "output_type": "execute_result"
    }
   ],
   "source": [
    "schindler = title_to_idx[\"Schindler's List (1993)\"]\n",
    "explain = als_model.explain(user, csr_data, itemid=schindler)\n",
    "\n",
    "[(idx_to_title[i[0]], i[1]) for i in explain[1]]"
   ]
  },
  {
   "cell_type": "markdown",
   "id": "d02ee2ea",
   "metadata": {},
   "source": [
    "# 9. 하이퍼파라미터 조정"
   ]
  },
  {
   "cell_type": "code",
   "execution_count": 54,
   "id": "c9f96bb2",
   "metadata": {},
   "outputs": [],
   "source": [
    "# Implicit AlternatingLeastSquares 모델의 선언\n",
    "als_model = AlternatingLeastSquares(factors=300, \n",
    "                                    regularization=0.01, \n",
    "                                    use_gpu=False, \n",
    "                                    iterations=50, \n",
    "                                    dtype=np.float32)"
   ]
  },
  {
   "cell_type": "code",
   "execution_count": 55,
   "id": "d42494a7",
   "metadata": {},
   "outputs": [
    {
     "data": {
      "text/plain": [
       "<3628x6040 sparse matrix of type '<class 'numpy.int64'>'\n",
       "\twith 836483 stored elements in Compressed Sparse Column format>"
      ]
     },
     "execution_count": 55,
     "metadata": {},
     "output_type": "execute_result"
    }
   ],
   "source": [
    "# als 모델은 input으로 (item X user 꼴의 matrix를 받기 때문에 Transpose해줍니다.)\n",
    "csr_data_transpose = csr_data.T\n",
    "csr_data_transpose"
   ]
  },
  {
   "cell_type": "code",
   "execution_count": 56,
   "id": "36a96304",
   "metadata": {},
   "outputs": [
    {
     "data": {
      "application/vnd.jupyter.widget-view+json": {
       "model_id": "2b12f18fc05a4095af3ac2d02a343051",
       "version_major": 2,
       "version_minor": 0
      },
      "text/plain": [
       "  0%|          | 0/50 [00:00<?, ?it/s]"
      ]
     },
     "metadata": {},
     "output_type": "display_data"
    }
   ],
   "source": [
    "# 모델 훈련\n",
    "als_model.fit(csr_data_transpose)"
   ]
  },
  {
   "cell_type": "code",
   "execution_count": 57,
   "id": "915bd236",
   "metadata": {},
   "outputs": [
    {
     "data": {
      "text/plain": [
       "0.8297026"
      ]
     },
     "execution_count": 57,
     "metadata": {},
     "output_type": "execute_result"
    }
   ],
   "source": [
    "# 내가 좋아하는 영화 선호도\n",
    "benedicto, shawshank = user_to_idx['benedicto'], title_to_idx['Shawshank Redemption, The (1994)']\n",
    "benedicto_vector, shawshank = als_model.user_factors[benedicto], als_model.item_factors[shawshank]\n",
    "\n",
    "np.dot(benedicto_vector, shawshank)"
   ]
  },
  {
   "cell_type": "code",
   "execution_count": 58,
   "id": "0a057993",
   "metadata": {},
   "outputs": [
    {
     "data": {
      "text/plain": [
       "0.079139955"
      ]
     },
     "execution_count": 58,
     "metadata": {},
     "output_type": "execute_result"
    }
   ],
   "source": [
    "# 내가 좋아하지 않는 영화 선호도\n",
    "star = title_to_idx['Star Wars: Episode IV - A New Hope (1977)']\n",
    "star_vector = als_model.item_factors[star]\n",
    "np.dot(benedicto_vector, star_vector)"
   ]
  },
  {
   "cell_type": "code",
   "execution_count": 60,
   "id": "caf5e523",
   "metadata": {},
   "outputs": [
    {
     "data": {
      "text/plain": [
       "['Life Is Beautiful (La Vita è bella) (1997)',\n",
       " 'Misérables, Les (1998)',\n",
       " 'Waking Ned Devine (1998)',\n",
       " 'Other Side of Sunday, The (Søndagsengler) (1996)',\n",
       " 'Very Thought of You, The (1998)']"
      ]
     },
     "execution_count": 60,
     "metadata": {},
     "output_type": "execute_result"
    }
   ],
   "source": [
    "# \"인생은 아름다워\"와 비슷한 영화 추천\n",
    "get_similar_movie('Life Is Beautiful (La Vita è bella) (1997)')"
   ]
  },
  {
   "cell_type": "code",
   "execution_count": 61,
   "id": "a72dfa10",
   "metadata": {},
   "outputs": [
    {
     "data": {
      "text/plain": [
       "['Awakenings (1990)',\n",
       " 'Apollo 13 (1995)',\n",
       " 'Fried Green Tomatoes (1991)',\n",
       " 'Scent of a Woman (1992)',\n",
       " 'Jerry Maguire (1996)',\n",
       " 'October Sky (1999)',\n",
       " 'Dead Man Walking (1995)',\n",
       " \"Schindler's List (1993)\",\n",
       " 'Wag the Dog (1997)',\n",
       " \"What's Eating Gilbert Grape (1993)\",\n",
       " 'Fargo (1996)',\n",
       " 'Almost Famous (2000)',\n",
       " 'Three Kings (1999)',\n",
       " 'Contact (1997)',\n",
       " 'Sliding Doors (1998)',\n",
       " 'Sling Blade (1996)',\n",
       " 'Planet of the Apes (1968)',\n",
       " 'On Golden Pond (1981)',\n",
       " 'Postino, Il (The Postman) (1994)',\n",
       " 'Edward Scissorhands (1990)']"
      ]
     },
     "execution_count": 61,
     "metadata": {},
     "output_type": "execute_result"
    }
   ],
   "source": [
    "# 유저가 좋아하는 영화 추천\n",
    "user = user_to_idx['benedicto']\n",
    "\n",
    "# recommend에서는 user*item CSR Matrix를 받습니다.\n",
    "movie_recommended = als_model.recommend(user, csr_data, N=20, filter_already_liked_items=True)\n",
    "\n",
    "# 인덱스를 영화 이름으로 mapping\n",
    "[idx_to_title[i[0]] for i in movie_recommended]"
   ]
  },
  {
   "cell_type": "code",
   "execution_count": 63,
   "id": "fcf0847c",
   "metadata": {},
   "outputs": [
    {
     "data": {
      "text/plain": [
       "[('River Runs Through It, A (1992)', 0.0731608707872363),\n",
       " ('Truman Show, The (1998)', 0.05119748390779956),\n",
       " ('Life Is Beautiful (La Vita è bella) (1997)', 0.03945182707490799),\n",
       " ('Shawshank Redemption, The (1994)', 0.03819468147371542),\n",
       " ('Good Will Hunting (1997)', 0.03545162120185319)]"
      ]
     },
     "execution_count": 63,
     "metadata": {},
     "output_type": "execute_result"
    }
   ],
   "source": [
    "# 이 추천에 기여한 정도 확인\n",
    "schindler = title_to_idx[\"Awakenings (1990)\"]\n",
    "explain = als_model.explain(user, csr_data, itemid=schindler)\n",
    "\n",
    "[(idx_to_title[i[0]], i[1]) for i in explain[1]]"
   ]
  },
  {
   "cell_type": "markdown",
   "id": "fe340951",
   "metadata": {},
   "source": [
    "# 프로젝트 정리\n",
    "\n",
    "\n",
    "# 내가 선호하는 5가지 영화 장르\n",
    "\n",
    "\n",
    "| 영화 이름 | 장르 |\n",
    "|:--- | :--- |\n",
    "| `Shawshank Redemption, The (1994)` | `Drama` |\n",
    "| `Life Is Beautiful (La Vita è bella) (1997)` | `Drama` |\n",
    "| `Good Will Hunting (1997)` | `Drama` |\n",
    "| `Truman Show, The (1998)` | `Drama` |\n",
    "| `River Runs Through It, A (1992)` | `Drama` |\n",
    "\n",
    "\n",
    "막상 프로젝트를 끝내니 좋아하는 영화들의 장르가 전부 드라마 장르다.\n",
    "\n",
    "<br>\n",
    "\n",
    "# 선호도 파악\n",
    "\n",
    "* 기본 baseline model로 학습결과(factors=100, regularization=0.01, use_gpu=False, iterations=15)\n",
    "\n",
    "| 내적 | 결과 |\n",
    "|:--- | :--- |\n",
    "| `benedicto`와 `쇼생크탈출`을 내적한 결과 | `0.5329629` |\n",
    "| `benedicto`와 `스타워즈`를 내적한 결과 | `0.03745109` |\n",
    "\n",
    "* 파라미터 조정 model로 학습결과(factors=300, regularization=0.01, use_gpu=False, iterations=50)\n",
    "\n",
    "| 내적 | 결과 |\n",
    "|:--- | :--- |\n",
    "| `benedicto`와 `쇼생크탈출`을 내적한 결과 | `0.8297026` |\n",
    "|`benedicto`와 `스타워즈`를 내적한 결과 | `0.079139955` |\n",
    "\n",
    "\n",
    "`factors`, `iterations`를 증가시켜 학습 후 테스트를 해보니 내가 선호하는 영화 중 하나인 `쇼생크탈출`에 대해 모델이 예측한 나의 선호도는 대폭 상승하고, 선호하지 않은 영화 중 하나인 `스타워즈`에 대해 선호도가 소폭 상승했다.\n",
    "\n",
    "<br>\n",
    "\n",
    "\n",
    "# 내가 좋아할만한 영화 추천\n",
    "\n",
    "다음은 추천알고리즘이 추천한 내가 좋아할만한 영화 TOP5 이다. 파라미터 전과 후로 나누어 비교한다.\n",
    "\n",
    "* 기본 baseline model로 학습결과(factors=100, regularization=0.01, use_gpu=False, iterations=15)\n",
    "\n",
    "| 영화제목 | 장르 |\n",
    "|:--- | :--- |\n",
    "| `Schindler's List (1993)` | `Drama`, `War` |\n",
    "| `Apollo 13 (1995)` | `Drama` |\n",
    "| `Saving Private Ryan (1998)` | `Action`, `Drama`, `War` |\n",
    "| `Dead Man Walking (1995)` | `Drama` |\n",
    "| `Pulp Fiction (1994)` | `Crime`, `Drama` |\n",
    "\n",
    "* 파라미터 조정 model로 학습결과(factors=300, regularization=0.01, use_gpu=False, iterations=50)\n",
    "| 영화제목 | 장르 |\n",
    "|:--- | :--- |\n",
    "| `Awakenings (1990)` | `Drama` |\n",
    "| `Apollo 13 (1995)` | `Drama` |\n",
    "| `Fried Green Tomatoes (1991)` | `Drama` |\n",
    "| `Scent of a Woman (1992)` | `Drama` |\n",
    "| `Jerry Maguire (1996)` | `Drama`, `Romance` |\n",
    "\n",
    "나쁘지 않은 결과다. 전부 한번씩 본 영화들로 재미있게 본 기억이 있다.\n",
    "\n",
    "<br>\n",
    "\n",
    "# 회고\n",
    "\n",
    "일상생활 속에서 대부분의 사람들은 추천시스템을 적용한 제품을 사용하는데 추천알고리즘 자체에 대한 궁금증이 있었는데 해당 노드를 통해서 추천의 시발점을 경험한 것 같다. 다만 노드 프로젝트를 하면서 너무 단순하게만 진행되었다는 점이다. 사람들의 선호도는 복잡성이 존재 할 뿐만 아니라 다양성까지 존재하므로 굉장히 고려해야할 것들이 많으며 더 아이러니한것은, 사람들이 살아가면서 정작 자신이 무엇을 좋아하는지 인지도 못한다는 것이다. 이러한 의미에서 추천은 굉장히 어려운 영역이지 않나 생각된다. 그럼에도 불구하고 매력적이다 라고 생각된다."
   ]
  }
 ],
 "metadata": {
  "kernelspec": {
   "display_name": "Python 3 (ipykernel)",
   "language": "python",
   "name": "python3"
  },
  "language_info": {
   "codemirror_mode": {
    "name": "ipython",
    "version": 3
   },
   "file_extension": ".py",
   "mimetype": "text/x-python",
   "name": "python",
   "nbconvert_exporter": "python",
   "pygments_lexer": "ipython3",
   "version": "3.9.7"
  }
 },
 "nbformat": 4,
 "nbformat_minor": 5
}
